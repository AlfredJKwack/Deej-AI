{
 "cells": [
  {
   "cell_type": "code",
   "execution_count": 80,
   "metadata": {},
   "outputs": [],
   "source": [
    "import pickle\n",
    "import numpy as np\n",
    "from mutagen.mp3 import MP3\n",
    "from mutagen.mp4 import MP4\n",
    "from mutagen.id3 import ID3, ID3NoHeaderError\n",
    "\n",
    "max_duration = 10 * 60 # avoid adding mixes to mix\n",
    "\n",
    "def get_track_duration(filename):\n",
    "    duration = 0\n",
    "    if filename[-3:].lower() == 'mp3':\n",
    "        duration = MP3(filename).info.length\n",
    "    elif filename[-3:].lower() == 'm4a':\n",
    "        duration = MP4(filename).info.length\n",
    "    return duration\n",
    "\n",
    "def most_similar_by_vec(positive=[], negative=[], topn=5, noise=0):\n",
    "    if isinstance(positive, str):\n",
    "        positive = [positive] # broadcast to list\n",
    "    if isinstance(negative, str):\n",
    "        negative = [negative] # broadcast to list\n",
    "    mp3_vec_i = np.sum([i for i in positive] + [-i for i in negative], axis=0)\n",
    "    mp3_vec_i += np.random.normal(0, noise * np.linalg.norm(mp3_vec_i), len(mp3_vec_i))\n",
    "    similar = []\n",
    "    for track_j in mp3tovec:\n",
    "        mp3_vec_j = mp3tovec[track_j]\n",
    "        cos_proximity = np.dot(mp3_vec_i, mp3_vec_j) / (np.linalg.norm(mp3_vec_i) * np.linalg.norm(mp3_vec_j))\n",
    "        similar.append((track_j, cos_proximity))\n",
    "    return sorted(similar, key=lambda x:-x[1])[:topn]\n",
    "\n",
    "def join_the_dots(tracks, n=5, noise=0): # create a musical journey between given track \"waypoints\"\n",
    "    playlist = []\n",
    "    start = tracks[0]\n",
    "    start_vec = mp3tovec[start]\n",
    "    for end in tracks[1:]:\n",
    "        end_vec = mp3tovec[end]\n",
    "        playlist.append(start)\n",
    "        for i in range(n-1):\n",
    "            candidates = most_similar_by_vec(positive=[(n-i+1)/n * start_vec + (i+1)/n * end_vec], topn=10, noise=noise)\n",
    "            for j in range(10):\n",
    "                if not candidates[j][0] in playlist \\\n",
    "                        and candidates[j][0] != start \\\n",
    "                        and candidates[j][0] != end \\\n",
    "                        and get_track_duration(candidates[j][0]) < max_duration:\n",
    "                    break\n",
    "            playlist.append(candidates[j][0])\n",
    "        start = end\n",
    "        start_vec = end_vec\n",
    "    playlist.append(end)\n",
    "    return playlist"
   ]
  },
  {
   "cell_type": "code",
   "execution_count": 80,
   "metadata": {},
   "outputs": [],
   "source": [
    "mp3tovec = pickle.load(open('..\\Pickles\\mp3tovecs\\mp3tovec.p', 'rb'))"
   ]
  },
  {
   "cell_type": "code",
   "execution_count": 91,
   "metadata": {},
   "outputs": [],
   "source": [
    "playlist = join_the_dots([\n",
    "    \"H:\\\\Music\\\\Aretha Franklin\\\\I Never Loved a Man the Way I Love You\\\\01 Respect.mp3\", # soul\n",
    "    \"H:\\\\Music\\\\James Brown\\\\The Godfather - The Very Best of James B\\\\02 I Got You (I Feel Good).m4a\", # funk\n",
    "    \"H:\\\\Music\\\\Jurassic 5\\\\Jurassic 5 LP\\\\Lesson 6_ The Lecture.mp3\", # hip-hop\n",
    "    \"H:\\\\Music\\\\Roni Size\\\\Breakbeat Era - Ultra Obscene\\\\Terrible Funk.mp3\", # drum 'n' bass\n",
    "    \"H:\\\\Music\\\\Sven Väth\\\\In the Mix_ The Sound of the Sixteenth S\\\\14 Eclipse.m4a\", # techno\n",
    "], n=7, noise=0)"
   ]
  },
  {
   "cell_type": "code",
   "execution_count": 92,
   "metadata": {},
   "outputs": [
    {
     "name": "stdout",
     "output_type": "stream",
     "text": [
      "H:\\Music\\Aretha Franklin\\I Never Loved a Man the Way I Love You\\01 Respect.mp3\n",
      "H:\\Music\\Dee Edwards\\Gilles Peterson Digs America Vol.2\\06 Why Can't There Be Love.mp3\n",
      "H:\\Music\\Compilations\\Northern Soul (The Soundtrack) [Extended\\31 I Just Can_t Live My Life (Withou.m4a\n",
      "H:\\Music\\Carnegie Mellon Jazz Band\\Unknown Album\\The First Thing I Do.mp3\n",
      "H:\\Music\\Compilations\\Mad Men (Music from the Series) Vol. 2\\10 Pot Can't Talk About the Kettle.m4a\n",
      "H:\\Music\\Tom Jones\\Unknown Album\\Ain't No Sunshine.mp3\n",
      "H:\\Music\\Janis Joplin\\The Essential Janis Joplin\\14 Trust Me.m4a\n",
      "H:\\Music\\James Brown\\The Godfather - The Very Best of James B\\02 I Got You (I Feel Good).m4a\n",
      "H:\\Music\\Compilations\\Mad Men (Music from the Series) Vol. 2\\09 Let's Twist Again.m4a\n",
      "H:\\Music\\Cut Chemist Feat. Hymnal\\Paul's Second Compilation\\06 What's The Altitude.mp3\n",
      "H:\\Music\\Nicolas Repac\\Swing swing\\07 Swing Swing.mp3\n",
      "H:\\Music\\Cut Chemist, DJ Shadow, Double Dee, Stei\\The Ultimate Lessons\\06 Lesson 6 - The Lecture (Original.m4a\n",
      "H:\\Music\\Compilations\\70 Minutes Of Madness - Journeys By DJ S\\18 Mag.m4a\n",
      "H:\\Music\\Cut Chemist, DJ Shadow, Double Dee, Stei\\The Ultimate Lessons\\07 Live Lesson A (Cut Chemist + Shor.m4a\n",
      "H:\\Music\\Jurassic 5\\Jurassic 5 LP\\Lesson 6_ The Lecture.mp3\n",
      "H:\\Music\\Cut Chemist\\Paul's Second Compilation\\02 (My 1st) Big Break.mp3\n",
      "H:\\Music\\Compilations\\Night Dubbin' Disc1\\08 The Key [Dub].mp3\n",
      "H:\\Music\\Cut Chemist, DJ Shadow, Double Dee, Stei\\The Ultimate Lessons\\04 Lesson 4 (DJ Shadow).m4a\n",
      "H:\\Music\\The Prodigy\\The Fat Of The Land\\06 Mind Fields.mp3\n",
      "H:\\Music\\D.Kay\\The Prophet EP\\The Prophet.mp3\n",
      "H:\\Music\\Compilations\\Logical Progression Level 2 [Disc 1]\\1-01 Visions of Mars.m4a\n",
      "H:\\Music\\Roni Size\\Breakbeat Era - Ultra Obscene\\Terrible Funk.mp3\n",
      "H:\\Music\\Compilations\\Bukem in Session\\16 Not Forgotten.m4a\n",
      "H:\\Music\\RAM Trilogy\\Chapter 5\\Milky Way.mp3\n",
      "H:\\Music\\LTJ Bukem\\Logical Progression CD#1 (GLRCD001)\\04 Logical Progression CD#1 - [04] -.mp3\n",
      "H:\\Music\\E-Z Rollers\\Storm From The East\\08 Walk This Land.mp3\n",
      "H:\\Music\\Âme\\Rej\\01 Rej.m4a\n",
      "H:\\Music\\Compilations\\Hed Kandi Beach House 2011\\43 Bangaday (Original Mix).m4a\n",
      "H:\\Music\\Sven Väth\\In the Mix_ The Sound of the Sixteenth S\\14 Eclipse.m4a\n",
      "Total duration = 2:28:21s\n"
     ]
    }
   ],
   "source": [
    "total_duration = 0\n",
    "tracks = []\n",
    "for track in playlist:\n",
    "    tracks.append('-i')\n",
    "    tracks.append(track)\n",
    "    total_duration += get_track_duration(track)\n",
    "    print(f'{track}')\n",
    "print(f'Total duration = {total_duration//60//60:.0f}:{total_duration//60%60:02.0f}:{total_duration%60:02.0f}s')"
   ]
  },
  {
   "cell_type": "code",
   "execution_count": 85,
   "metadata": {},
   "outputs": [],
   "source": [
    "import subprocess as sp\n",
    "pipe = sp.Popen(['ffmpeg',\n",
    "                 '-y', # replace if exists\n",
    "                '-i', 'meta_data.txt'] + # use this meta data\n",
    "                tracks + # append playlist tracks\n",
    "                 ['-filter_complex', f'loudnorm=I=-14,concat=n={len(playlist)}:v=0:a=1[out]', # normalize and concatenate\n",
    "                 '-map', '[out]', # final output\n",
    "                 'mix.mp3'], # output file\n",
    "               stdin=sp.PIPE,stdout=sp.PIPE, stderr=sp.PIPE)"
   ]
  },
  {
   "cell_type": "code",
   "execution_count": null,
   "metadata": {},
   "outputs": [],
   "source": [
    "pipe.stderr.read()"
   ]
  },
  {
   "cell_type": "markdown",
   "metadata": {},
   "source": [
    "### Find a particular song, artist or album"
   ]
  },
  {
   "cell_type": "code",
   "execution_count": 131,
   "metadata": {},
   "outputs": [
    {
     "name": "stdout",
     "output_type": "stream",
     "text": [
      "\"H:\\\\Music\\\\A Tribe Called Quest\\\\People's Instinctive Travels and the Pat\\\\06 Pubic Enemy.mp3\"\n",
      "\"H:\\\\Music\\\\A Tribe Called Quest\\\\We got it from Here... Thank You 4 Your\\\\2-01 Mobius.mp3\"\n",
      "\"H:\\\\Music\\\\A Tribe Called Quest\\\\People's Instinctive Travels and the Pat\\\\03 After Hours.mp3\"\n",
      "\"H:\\\\Music\\\\A Tribe Called Quest\\\\We got it from Here... Thank You 4 Your\\\\1-03 Whateva Will Be.mp3\"\n",
      "\"H:\\\\Music\\\\A Tribe Called Quest\\\\We got it from Here... Thank You 4 Your\\\\2-06 Conrad Tokyo.mp3\"\n",
      "\"H:\\\\Music\\\\A Tribe Called Quest\\\\We got it from Here... Thank You 4 Your\\\\2-08 The Donald.mp3\"\n",
      "\"H:\\\\Music\\\\A Tribe Called Quest\\\\We got it from Here... Thank You 4 Your\\\\1-01 The Space Program.mp3\"\n",
      "\"H:\\\\Music\\\\A Tribe Called Quest\\\\We got it from Here... Thank You 4 Your\\\\2-07 Ego.mp3\"\n",
      "\"H:\\\\Music\\\\A Tribe Called Quest\\\\We got it from Here... Thank You 4 Your\\\\1-04 Solid Wall of Sound.mp3\"\n",
      "\"H:\\\\Music\\\\A Tribe Called Quest\\\\The Anthology\\\\02 Luck Of Lucien.mp3\"\n",
      "\"H:\\\\Music\\\\A Tribe Called Quest\\\\The Low End Theory\\\\02 Buggin' Out.mp3\"\n",
      "\"H:\\\\Music\\\\A Tribe Called Quest\\\\The Low End Theory\\\\12 Skypager.mp3\"\n",
      "\"H:\\\\Music\\\\A Tribe Called Quest\\\\People's Instinctive Travels and the Pat\\\\04 Footprints.mp3\"\n",
      "\"H:\\\\Music\\\\A Tribe Called Quest\\\\The Anthology\\\\08 Can I Kick It_.mp3\"\n",
      "\"H:\\\\Music\\\\A Tribe Called Quest\\\\The Anthology\\\\14 Description Of A Fool.mp3\"\n",
      "\"H:\\\\Music\\\\A Tribe Called Quest\\\\People's Instinctive Travels and the Pat\\\\11 Mr. Muhammad.mp3\"\n",
      "\"H:\\\\Music\\\\A Tribe Called Quest\\\\We got it from Here... Thank You 4 Your\\\\1-05 Dis Generation.mp3\"\n",
      "\"H:\\\\Music\\\\A Tribe Called Quest\\\\People's Instinctive Travels and the Pat\\\\10 Rhythm (Devoted To The Art Of Mov.mp3\"\n",
      "\"H:\\\\Music\\\\A Tribe Called Quest\\\\We got it from Here... Thank You 4 Your\\\\2-04 Lost Somebody.mp3\"\n",
      "\"H:\\\\Music\\\\A Tribe Called Quest\\\\The Low End Theory\\\\01 Excursions.mp3\"\n",
      "\"H:\\\\Music\\\\A Tribe Called Quest\\\\People's Instinctive Travels and the Pat\\\\01 Push It Along.mp3\"\n",
      "\"H:\\\\Music\\\\A Tribe Called Quest\\\\The Low End Theory\\\\11 Jazz (We've Got).mp3\"\n",
      "\"H:\\\\Music\\\\A Tribe Called Quest\\\\People's Instinctive Travels and the Pat\\\\09 Youthful Expression.mp3\"\n",
      "\"H:\\\\Music\\\\A Tribe Called Quest\\\\The Low End Theory\\\\09 Check the Rhime.mp3\"\n",
      "\"H:\\\\Music\\\\A Tribe Called Quest\\\\The Low End Theory\\\\04 Butter.mp3\"\n",
      "\"H:\\\\Music\\\\A Tribe Called Quest\\\\We got it from Here... Thank You 4 Your\\\\2-03 The Killing Season.mp3\"\n",
      "\"H:\\\\Music\\\\A Tribe Called Quest\\\\We got it from Here... Thank You 4 Your\\\\2-05 Movin Backwards.mp3\"\n",
      "\"H:\\\\Music\\\\A Tribe Called Quest\\\\We got it from Here... Thank You 4 Your\\\\1-06 Kids....mp3\"\n",
      "\"H:\\\\Music\\\\A Tribe Called Quest\\\\unknown\\\\07 Bonita Applebum.mp3\"\n",
      "\"H:\\\\Music\\\\A Tribe Called Quest\\\\The Anthology\\\\05 I Left My Wallet In El Segundo.mp3\"\n",
      "\"H:\\\\Music\\\\A Tribe Called Quest\\\\We got it from Here... Thank You 4 Your\\\\2-02 Black Spasmodic.mp3\"\n",
      "\"H:\\\\Music\\\\A Tribe Called Quest\\\\We got it from Here... Thank You 4 Your\\\\1-02 We The People.....mp3\"\n",
      "\"H:\\\\Music\\\\A Tribe Called Quest\\\\We got it from Here... Thank You 4 Your\\\\1-08 Enough!!.mp3\"\n",
      "\"H:\\\\Music\\\\A Tribe Called Quest\\\\The Low End Theory\\\\05 Verses From the Abstract.mp3\"\n",
      "\"H:\\\\Music\\\\A Tribe Called Quest\\\\We got it from Here... Thank You 4 Your\\\\1-07 Melatonin.mp3\"\n",
      "\"H:\\\\Music\\\\A Tribe Called Quest\\\\The Low End Theory\\\\07 Vibes and Stuff.mp3\"\n",
      "\"H:\\\\Music\\\\A Tribe Called Quest\\\\The Low End Theory\\\\03 Rap Promoter.mp3\"\n",
      "\"H:\\\\Music\\\\A Tribe Called Quest\\\\People's Instinctive Travels and the Pat\\\\13 Go Ahead In The Rain.mp3\"\n",
      "\"H:\\\\Music\\\\A Tribe Called Quest\\\\The Low End Theory\\\\13 What_.mp3\"\n",
      "\"H:\\\\Music\\\\A Tribe Called Quest\\\\The Low End Theory\\\\14 Scenario.mp3\"\n"
     ]
    }
   ],
   "source": [
    "for mp3 in mp3tovec:\n",
    "    if mp3.lower().find('tribe') != -1:\n",
    "        print('\"'+ mp3.replace('\\\\', '\\\\\\\\') + '\"')"
   ]
  }
 ],
 "metadata": {
  "kernelspec": {
   "display_name": "Python 3",
   "language": "python",
   "name": "python3"
  },
  "language_info": {
   "codemirror_mode": {
    "name": "ipython",
    "version": 3
   },
   "file_extension": ".py",
   "mimetype": "text/x-python",
   "name": "python",
   "nbconvert_exporter": "python",
   "pygments_lexer": "ipython3",
   "version": "3.7.3"
  }
 },
 "nbformat": 4,
 "nbformat_minor": 2
}
