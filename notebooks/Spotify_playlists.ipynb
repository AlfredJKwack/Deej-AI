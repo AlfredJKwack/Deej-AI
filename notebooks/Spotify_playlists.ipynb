{
 "cells": [
  {
   "cell_type": "markdown",
   "metadata": {},
   "source": [
    "### Generate Spotify playlists using the Track2Vec and MP3ToVec (trained on Spotify) embeddings"
   ]
  },
  {
   "cell_type": "code",
   "execution_count": 1,
   "metadata": {},
   "outputs": [
    {
     "name": "stderr",
     "output_type": "stream",
     "text": [
      "Using TensorFlow backend.\n"
     ]
    }
   ],
   "source": [
    "import keras\n",
    "from keras.models import load_model\n",
    "import os\n",
    "import numpy as np\n",
    "import librosa\n",
    "import pickle\n",
    "from tqdm import tqdm\n",
    "import requests\n",
    "import pickle\n",
    "import csv\n",
    "from IPython.display import clear_output\n",
    "from IPython.core.display import display, HTML"
   ]
  },
  {
   "cell_type": "code",
   "execution_count": 2,
   "metadata": {},
   "outputs": [
    {
     "name": "stdout",
     "output_type": "stream",
     "text": [
      "Read in tracks...\n",
      "Number of tracks processed: 78198\n"
     ]
    }
   ],
   "source": [
    "# key will be Spotify id\n",
    "mp3tovecs = pickle.load(open('../Pickles_Spotify/spotifytovec.p', 'rb'))\n",
    "tracktovecs = pickle.load(open('../Pickles_Spotify/tracktovec.p', 'rb'))\n",
    "print('Read in tracks...')\n",
    "tracks = {}\n",
    "with open('popular_tracks.csv', \"r\", encoding='utf-8') as csvfile:\n",
    "    spamreader = csv.reader(csvfile, delimiter=';')\n",
    "    for row in spamreader:\n",
    "        columns = str(row)[2:-2].split(';')\n",
    "        if columns[3] != '' and columns[3][:5] == 'https':\n",
    "            tracks[columns[0]] = (columns[1] + ' - ' + columns[2], columns[3])\n",
    "print(f'Number of tracks processed: {len(mp3tovecs)}')"
   ]
  },
  {
   "cell_type": "code",
   "execution_count": 3,
   "metadata": {},
   "outputs": [],
   "source": [
    "#pip install git+https://github.com/plamere/spotipy.git --upgrade\n",
    "\n",
    "import spotipy\n",
    "import spotipy.util as util\n",
    "\n",
    "scope = 'playlist-modify-public'\n",
    "username = 'teticio'\n",
    "client_id='194086cb37be48ebb45b9ba4ce4c5936'\n",
    "client_secret='fb9fb4957a9841fcb5b2dbc7804e1e85'\n",
    "redirect_uri='https://www.attentioncoach.es/'\n",
    "\n",
    "token = util.prompt_for_user_token(username,scope, client_id, client_secret, redirect_uri)\n",
    "sp = spotipy.Spotify(token)\n",
    "\n",
    "playlist_name = 'Test'\n",
    "playlists = sp.user_playlists(username)\n",
    "playlist_id = [playlist['id'] for playlist in playlists['items'] if playlist['name'] == playlist_name][0]\n",
    "\n",
    "def spotify_playlist(username, playlist_id, track_details):\n",
    "    if len(track_details[0]) == 2:\n",
    "        track_ids = [track_detail[0] for track_detail in track_details]\n",
    "    else:\n",
    "        track_ids = [track_detail for track_detail in track_details]\n",
    "    result = sp.user_playlist_replace_tracks(username, playlist_id, track_ids)\n",
    "#    print(result)\n",
    "    display(HTML(f'<iframe src=\"https://open.spotify.com/embed/user/{username}/playlist/{playlist_id}\" width=\"100%\" height=\"380\" frameborder=\"0\" allowtransparency=\"true\" allow=\"encrypted-media\"></iframe>'))"
   ]
  },
  {
   "cell_type": "code",
   "execution_count": 4,
   "metadata": {},
   "outputs": [],
   "source": [
    "def most_similar(mp3tovecs, weights, positive=[], negative=[], topn=5):\n",
    "    if isinstance(positive, str):\n",
    "        positive = [positive] # broadcast to list\n",
    "    if isinstance(negative, str):\n",
    "        negative = [negative] # broadcast to list\n",
    "    similar = [('', 0)] * len(mp3tovecs[0])\n",
    "    for i, mp3tovec in enumerate(mp3tovecs):\n",
    "        mp3_vec_i = np.sum([mp3tovec[i] for i in positive] + [-mp3tovec[i] for i in negative], axis=0)\n",
    "        for j, track_j in enumerate(mp3tovec):\n",
    "            if track_j in positive or track_j in negative:\n",
    "                continue\n",
    "            mp3_vec_j = mp3tovec[track_j]\n",
    "            cos_proximity = np.dot(mp3_vec_i, mp3_vec_j) / (np.linalg.norm(mp3_vec_i) * np.linalg.norm(mp3_vec_j))\n",
    "            similar[j] = (track_j, similar[j][1] + weights[i] * cos_proximity)\n",
    "    return sorted(similar, key=lambda x:-x[1])[:topn]\n",
    "\n",
    "def make_playlist(mp3tovecs, weights, seed_tracks, size=10, lookback=3):\n",
    "    playlist = seed_tracks\n",
    "    while len(playlist) < size:\n",
    "        candidates = most_similar(mp3tovecs, weights, positive=playlist[-lookback:], topn=5)\n",
    "        for i in range(5):\n",
    "            if not candidates[i][0] in playlist:\n",
    "                break\n",
    "        playlist.append(candidates[i][0])\n",
    "    return playlist\n",
    "\n",
    "def display_playlist(track_details):\n",
    "    if len(track_details[0] == 2):\n",
    "        for track_detail in track_details:\n",
    "            display(HTML(f'<iframe src=\"https://open.spotify.com/embed/track/{track_detail[0]}\" width=\"100%\" height=\"80\" frameborder=\"0\" allowtransparency=\"true\" allow=\"encrypted-media\"></iframe>'))\n",
    "    else:\n",
    "        for track_detail in track_details:\n",
    "            display(HTML(f'<iframe src=\"https://open.spotify.com/embed/track/{track_detail}\" width=\"100%\" height=\"80\" frameborder=\"0\" allowtransparency=\"true\" allow=\"encrypted-media\"></iframe>'))\n",
    "    \n",
    "def print_track_details(track_details):\n",
    "    if len(track_details[0] == 2):\n",
    "        for i, track_detail in enumerate(track_details):\n",
    "            display(HTML(f'{i+1}. <a target=\"_blank\" href=\"{tracks[track_detail[0]][1]}\">{tracks[track_detail[0]][0]}</a> [{track_detail[1]:.2f}]'))\n",
    "    else:\n",
    "        for i, track_detail in enumerate(track_details):\n",
    "            display(HTML(f'{i+1}. <a target=\"_blank\" href=\"{tracks[track_detail[1]]}\">{tracks[track_detail[0]][0]}</a> [{track_detail[1]:.2f}]'))"
   ]
  },
  {
   "cell_type": "code",
   "execution_count": 135,
   "metadata": {},
   "outputs": [
    {
     "name": "stdout",
     "output_type": "stream",
     "text": [
      "5rsnq2h3OLOg1FnW8m1trx : James Brown - It's a Man's, Man's, Man's World\n",
      "0rTkE0FmT4zT2xL6GXwosU : James Brown & The Famous Flames - I Got You (I Feel Good)\n",
      "58iP9J86ksOPwbo0pWOafk : James Brown - People Get Up And Drive Your Funky Soul - Remix\n",
      "2q8eudK0r9ImgCB1XhFfxG : James Brown - Get Up Offa That Thing\n"
     ]
    }
   ],
   "source": [
    "search = 'james brown'\n",
    "ids = [track for track in mp3tovecs if all(word in tracks[track][0].lower() for word in search.lower().split())]\n",
    "for id in ids:\n",
    "    print(f'{id} : {tracks[id][0]}')"
   ]
  },
  {
   "cell_type": "markdown",
   "metadata": {},
   "source": [
    "### Add songs to an existing playlist and display it"
   ]
  },
  {
   "cell_type": "code",
   "execution_count": 6,
   "metadata": {},
   "outputs": [
    {
     "name": "stderr",
     "output_type": "stream",
     "text": [
      "C:\\Users\\tetic\\Anaconda3\\envs\\Deep\\lib\\site-packages\\IPython\\core\\display.py:689: UserWarning: Consider using IPython.display.IFrame instead\n",
      "  warnings.warn(\"Consider using IPython.display.IFrame instead\")\n"
     ]
    },
    {
     "data": {
      "text/html": [
       "<iframe src=\"https://open.spotify.com/embed/user/teticio/playlist/3S816xV1Xw9QlsG0tMRC1s\" width=\"100%\" height=\"380\" frameborder=\"0\" allowtransparency=\"true\" allow=\"encrypted-media\"></iframe>"
      ],
      "text/plain": [
       "<IPython.core.display.HTML object>"
      ]
     },
     "metadata": {},
     "output_type": "display_data"
    }
   ],
   "source": [
    "id = '58iP9J86ksOPwbo0pWOafk'\n",
    "spotify_playlist(username, playlist_id, make_playlist([mp3tovecs, tracktovecs], [0.5, 0.5], [id], size=20))"
   ]
  },
  {
   "cell_type": "markdown",
   "metadata": {},
   "source": [
    "### You don't need a Spotify account for this to work, although you'll only be able to listen to 30s samples"
   ]
  },
  {
   "cell_type": "code",
   "execution_count": 59,
   "metadata": {
    "scrolled": false
   },
   "outputs": [
    {
     "data": {
      "text/html": [
       "<h3>Most similar sounding</h3>"
      ],
      "text/plain": [
       "<IPython.core.display.HTML object>"
      ]
     },
     "metadata": {},
     "output_type": "display_data"
    },
    {
     "data": {
      "text/html": [
       "<iframe src=\"https://open.spotify.com/embed/track/5SaZaoRLPVZDkcDd1szp04\" width=\"100%\" height=\"80\" frameborder=\"0\" allowtransparency=\"true\" allow=\"encrypted-media\"></iframe>"
      ],
      "text/plain": [
       "<IPython.core.display.HTML object>"
      ]
     },
     "metadata": {},
     "output_type": "display_data"
    },
    {
     "data": {
      "text/html": [
       "<iframe src=\"https://open.spotify.com/embed/track/79H87DHga7uOxkvFRGa4a8\" width=\"100%\" height=\"80\" frameborder=\"0\" allowtransparency=\"true\" allow=\"encrypted-media\"></iframe>"
      ],
      "text/plain": [
       "<IPython.core.display.HTML object>"
      ]
     },
     "metadata": {},
     "output_type": "display_data"
    },
    {
     "data": {
      "text/html": [
       "<iframe src=\"https://open.spotify.com/embed/track/4eIWY5HO2a9t33FKx5gfvk\" width=\"100%\" height=\"80\" frameborder=\"0\" allowtransparency=\"true\" allow=\"encrypted-media\"></iframe>"
      ],
      "text/plain": [
       "<IPython.core.display.HTML object>"
      ]
     },
     "metadata": {},
     "output_type": "display_data"
    },
    {
     "data": {
      "text/html": [
       "<iframe src=\"https://open.spotify.com/embed/track/3cUJYw6YdcVIbJf1BGyiza\" width=\"100%\" height=\"80\" frameborder=\"0\" allowtransparency=\"true\" allow=\"encrypted-media\"></iframe>"
      ],
      "text/plain": [
       "<IPython.core.display.HTML object>"
      ]
     },
     "metadata": {},
     "output_type": "display_data"
    },
    {
     "data": {
      "text/html": [
       "<iframe src=\"https://open.spotify.com/embed/track/36h6tRwYbgslQ8mMfQA6mm\" width=\"100%\" height=\"80\" frameborder=\"0\" allowtransparency=\"true\" allow=\"encrypted-media\"></iframe>"
      ],
      "text/plain": [
       "<IPython.core.display.HTML object>"
      ]
     },
     "metadata": {},
     "output_type": "display_data"
    },
    {
     "data": {
      "text/html": [
       "<iframe src=\"https://open.spotify.com/embed/track/1oaXXLCrcm5JUQD0XgVcle\" width=\"100%\" height=\"80\" frameborder=\"0\" allowtransparency=\"true\" allow=\"encrypted-media\"></iframe>"
      ],
      "text/plain": [
       "<IPython.core.display.HTML object>"
      ]
     },
     "metadata": {},
     "output_type": "display_data"
    },
    {
     "data": {
      "text/html": [
       "<h3>By similar artists</h3>"
      ],
      "text/plain": [
       "<IPython.core.display.HTML object>"
      ]
     },
     "metadata": {},
     "output_type": "display_data"
    },
    {
     "data": {
      "text/html": [
       "<iframe src=\"https://open.spotify.com/embed/track/5SaZaoRLPVZDkcDd1szp04\" width=\"100%\" height=\"80\" frameborder=\"0\" allowtransparency=\"true\" allow=\"encrypted-media\"></iframe>"
      ],
      "text/plain": [
       "<IPython.core.display.HTML object>"
      ]
     },
     "metadata": {},
     "output_type": "display_data"
    },
    {
     "data": {
      "text/html": [
       "<iframe src=\"https://open.spotify.com/embed/track/1ARkKt39O6WQqE0QEpZntu\" width=\"100%\" height=\"80\" frameborder=\"0\" allowtransparency=\"true\" allow=\"encrypted-media\"></iframe>"
      ],
      "text/plain": [
       "<IPython.core.display.HTML object>"
      ]
     },
     "metadata": {},
     "output_type": "display_data"
    },
    {
     "data": {
      "text/html": [
       "<iframe src=\"https://open.spotify.com/embed/track/4PBjokreMKhfe4yCIBu4mX\" width=\"100%\" height=\"80\" frameborder=\"0\" allowtransparency=\"true\" allow=\"encrypted-media\"></iframe>"
      ],
      "text/plain": [
       "<IPython.core.display.HTML object>"
      ]
     },
     "metadata": {},
     "output_type": "display_data"
    },
    {
     "data": {
      "text/html": [
       "<iframe src=\"https://open.spotify.com/embed/track/1AmODJ8Py2tZRv28K5SuzX\" width=\"100%\" height=\"80\" frameborder=\"0\" allowtransparency=\"true\" allow=\"encrypted-media\"></iframe>"
      ],
      "text/plain": [
       "<IPython.core.display.HTML object>"
      ]
     },
     "metadata": {},
     "output_type": "display_data"
    },
    {
     "data": {
      "text/html": [
       "<iframe src=\"https://open.spotify.com/embed/track/7sLF1p0EhEVnTJcK9kTR15\" width=\"100%\" height=\"80\" frameborder=\"0\" allowtransparency=\"true\" allow=\"encrypted-media\"></iframe>"
      ],
      "text/plain": [
       "<IPython.core.display.HTML object>"
      ]
     },
     "metadata": {},
     "output_type": "display_data"
    },
    {
     "data": {
      "text/html": [
       "<iframe src=\"https://open.spotify.com/embed/track/1x1gLI1YkA90lPp9QZ9PQQ\" width=\"100%\" height=\"80\" frameborder=\"0\" allowtransparency=\"true\" allow=\"encrypted-media\"></iframe>"
      ],
      "text/plain": [
       "<IPython.core.display.HTML object>"
      ]
     },
     "metadata": {},
     "output_type": "display_data"
    },
    {
     "data": {
      "text/html": [
       "<h3>Recommended</h3>"
      ],
      "text/plain": [
       "<IPython.core.display.HTML object>"
      ]
     },
     "metadata": {},
     "output_type": "display_data"
    },
    {
     "data": {
      "text/html": [
       "<iframe src=\"https://open.spotify.com/embed/track/5SaZaoRLPVZDkcDd1szp04\" width=\"100%\" height=\"80\" frameborder=\"0\" allowtransparency=\"true\" allow=\"encrypted-media\"></iframe>"
      ],
      "text/plain": [
       "<IPython.core.display.HTML object>"
      ]
     },
     "metadata": {},
     "output_type": "display_data"
    },
    {
     "data": {
      "text/html": [
       "<iframe src=\"https://open.spotify.com/embed/track/1ARkKt39O6WQqE0QEpZntu\" width=\"100%\" height=\"80\" frameborder=\"0\" allowtransparency=\"true\" allow=\"encrypted-media\"></iframe>"
      ],
      "text/plain": [
       "<IPython.core.display.HTML object>"
      ]
     },
     "metadata": {},
     "output_type": "display_data"
    },
    {
     "data": {
      "text/html": [
       "<iframe src=\"https://open.spotify.com/embed/track/1aMvViuAn7i8gRapm8C0p8\" width=\"100%\" height=\"80\" frameborder=\"0\" allowtransparency=\"true\" allow=\"encrypted-media\"></iframe>"
      ],
      "text/plain": [
       "<IPython.core.display.HTML object>"
      ]
     },
     "metadata": {},
     "output_type": "display_data"
    },
    {
     "data": {
      "text/html": [
       "<iframe src=\"https://open.spotify.com/embed/track/3cAqNxWChJHpYkQTgBpj47\" width=\"100%\" height=\"80\" frameborder=\"0\" allowtransparency=\"true\" allow=\"encrypted-media\"></iframe>"
      ],
      "text/plain": [
       "<IPython.core.display.HTML object>"
      ]
     },
     "metadata": {},
     "output_type": "display_data"
    },
    {
     "data": {
      "text/html": [
       "<iframe src=\"https://open.spotify.com/embed/track/5FBUy3EnbD48vAozKBAoac\" width=\"100%\" height=\"80\" frameborder=\"0\" allowtransparency=\"true\" allow=\"encrypted-media\"></iframe>"
      ],
      "text/plain": [
       "<IPython.core.display.HTML object>"
      ]
     },
     "metadata": {},
     "output_type": "display_data"
    },
    {
     "data": {
      "text/html": [
       "<iframe src=\"https://open.spotify.com/embed/track/1fSMZgXCGuwH2aweCAnsn8\" width=\"100%\" height=\"80\" frameborder=\"0\" allowtransparency=\"true\" allow=\"encrypted-media\"></iframe>"
      ],
      "text/plain": [
       "<IPython.core.display.HTML object>"
      ]
     },
     "metadata": {},
     "output_type": "display_data"
    },
    {
     "data": {
      "text/html": [
       "<iframe src=\"https://open.spotify.com/embed/track/17Syv0SV6ThWwgZM3umr1E\" width=\"100%\" height=\"80\" frameborder=\"0\" allowtransparency=\"true\" allow=\"encrypted-media\"></iframe>"
      ],
      "text/plain": [
       "<IPython.core.display.HTML object>"
      ]
     },
     "metadata": {},
     "output_type": "display_data"
    },
    {
     "data": {
      "text/html": [
       "<iframe src=\"https://open.spotify.com/embed/track/4PTPbE3HvhxB9z3SYMBfz6\" width=\"100%\" height=\"80\" frameborder=\"0\" allowtransparency=\"true\" allow=\"encrypted-media\"></iframe>"
      ],
      "text/plain": [
       "<IPython.core.display.HTML object>"
      ]
     },
     "metadata": {},
     "output_type": "display_data"
    },
    {
     "data": {
      "text/html": [
       "<iframe src=\"https://open.spotify.com/embed/track/2OlDaPUuYqdCLQncM0LtBu\" width=\"100%\" height=\"80\" frameborder=\"0\" allowtransparency=\"true\" allow=\"encrypted-media\"></iframe>"
      ],
      "text/plain": [
       "<IPython.core.display.HTML object>"
      ]
     },
     "metadata": {},
     "output_type": "display_data"
    },
    {
     "data": {
      "text/html": [
       "<iframe src=\"https://open.spotify.com/embed/track/3cUJYw6YdcVIbJf1BGyiza\" width=\"100%\" height=\"80\" frameborder=\"0\" allowtransparency=\"true\" allow=\"encrypted-media\"></iframe>"
      ],
      "text/plain": [
       "<IPython.core.display.HTML object>"
      ]
     },
     "metadata": {},
     "output_type": "display_data"
    },
    {
     "data": {
      "text/html": [
       "<iframe src=\"https://open.spotify.com/embed/track/6wBmqFpkh3ZEZOiE8At6u2\" width=\"100%\" height=\"80\" frameborder=\"0\" allowtransparency=\"true\" allow=\"encrypted-media\"></iframe>"
      ],
      "text/plain": [
       "<IPython.core.display.HTML object>"
      ]
     },
     "metadata": {},
     "output_type": "display_data"
    },
    {
     "data": {
      "text/html": [
       "<iframe src=\"https://open.spotify.com/embed/track/1atxtvAHagXDZYTuUWAoEC\" width=\"100%\" height=\"80\" frameborder=\"0\" allowtransparency=\"true\" allow=\"encrypted-media\"></iframe>"
      ],
      "text/plain": [
       "<IPython.core.display.HTML object>"
      ]
     },
     "metadata": {},
     "output_type": "display_data"
    },
    {
     "data": {
      "text/html": [
       "<iframe src=\"https://open.spotify.com/embed/track/1AmODJ8Py2tZRv28K5SuzX\" width=\"100%\" height=\"80\" frameborder=\"0\" allowtransparency=\"true\" allow=\"encrypted-media\"></iframe>"
      ],
      "text/plain": [
       "<IPython.core.display.HTML object>"
      ]
     },
     "metadata": {},
     "output_type": "display_data"
    },
    {
     "data": {
      "text/html": [
       "<iframe src=\"https://open.spotify.com/embed/track/7pszcrE10CThu1inqXw2R4\" width=\"100%\" height=\"80\" frameborder=\"0\" allowtransparency=\"true\" allow=\"encrypted-media\"></iframe>"
      ],
      "text/plain": [
       "<IPython.core.display.HTML object>"
      ]
     },
     "metadata": {},
     "output_type": "display_data"
    },
    {
     "data": {
      "text/html": [
       "<iframe src=\"https://open.spotify.com/embed/track/4oSl4Ga2ecVNnV9vsdNOpZ\" width=\"100%\" height=\"80\" frameborder=\"0\" allowtransparency=\"true\" allow=\"encrypted-media\"></iframe>"
      ],
      "text/plain": [
       "<IPython.core.display.HTML object>"
      ]
     },
     "metadata": {},
     "output_type": "display_data"
    },
    {
     "data": {
      "text/html": [
       "<iframe src=\"https://open.spotify.com/embed/track/22t2KoYniACfVadpIHPjeW\" width=\"100%\" height=\"80\" frameborder=\"0\" allowtransparency=\"true\" allow=\"encrypted-media\"></iframe>"
      ],
      "text/plain": [
       "<IPython.core.display.HTML object>"
      ]
     },
     "metadata": {},
     "output_type": "display_data"
    },
    {
     "data": {
      "text/html": [
       "<iframe src=\"https://open.spotify.com/embed/track/6x5pI6n5feaWcP8jCdTk3E\" width=\"100%\" height=\"80\" frameborder=\"0\" allowtransparency=\"true\" allow=\"encrypted-media\"></iframe>"
      ],
      "text/plain": [
       "<IPython.core.display.HTML object>"
      ]
     },
     "metadata": {},
     "output_type": "display_data"
    },
    {
     "data": {
      "text/html": [
       "<iframe src=\"https://open.spotify.com/embed/track/764OvL967cclmgvoqMHvXK\" width=\"100%\" height=\"80\" frameborder=\"0\" allowtransparency=\"true\" allow=\"encrypted-media\"></iframe>"
      ],
      "text/plain": [
       "<IPython.core.display.HTML object>"
      ]
     },
     "metadata": {},
     "output_type": "display_data"
    },
    {
     "data": {
      "text/html": [
       "<iframe src=\"https://open.spotify.com/embed/track/47YCLbdWctAmEDphy658VD\" width=\"100%\" height=\"80\" frameborder=\"0\" allowtransparency=\"true\" allow=\"encrypted-media\"></iframe>"
      ],
      "text/plain": [
       "<IPython.core.display.HTML object>"
      ]
     },
     "metadata": {},
     "output_type": "display_data"
    },
    {
     "data": {
      "text/html": [
       "<iframe src=\"https://open.spotify.com/embed/track/6gQiCktnlqLqZ0HIpIvbtM\" width=\"100%\" height=\"80\" frameborder=\"0\" allowtransparency=\"true\" allow=\"encrypted-media\"></iframe>"
      ],
      "text/plain": [
       "<IPython.core.display.HTML object>"
      ]
     },
     "metadata": {},
     "output_type": "display_data"
    },
    {
     "data": {
      "text/html": [
       "<iframe src=\"https://open.spotify.com/embed/track/7KMd4njKt3hOh2T2IC0Zzn\" width=\"100%\" height=\"80\" frameborder=\"0\" allowtransparency=\"true\" allow=\"encrypted-media\"></iframe>"
      ],
      "text/plain": [
       "<IPython.core.display.HTML object>"
      ]
     },
     "metadata": {},
     "output_type": "display_data"
    }
   ],
   "source": [
    "id = '5SaZaoRLPVZDkcDd1szp04'\n",
    "display(HTML('<h3>Most similar sounding</h3>'))\n",
    "display_playlist([(id, 1)] + most_similar([mp3tovecs], [1], positive=[id], topn=5))\n",
    "#display_playlist(make_playlist(mp3tovecs, [id]))\n",
    "display(HTML('<h3>By similar artists</h3>'))\n",
    "display_playlist([(id, 1)] + most_similar([tracktovecs], [1], positive=[id], topn=5))\n",
    "#display_playlist(make_playlist(tracktovecs, [id]))\n",
    "display(HTML('<h3>Recommended</h3>'))\n",
    "display_playlist([(id, 1)] + most_similar([mp3tovecs, tracktovecs], [0.5, 0.5], positive=[id], topn=20))\n",
    "#display_playlist(make_playlist(tracktovecs, [id]))"
   ]
  },
  {
   "cell_type": "code",
   "execution_count": 145,
   "metadata": {},
   "outputs": [],
   "source": [
    "# save cut-down csv\n",
    "spotify_tracks = {}\n",
    "for track in tracks:\n",
    "    spotify_tracks[track] = tracks[track][0]\n",
    "pickle.dump(spotif_tracks, open('spotify_tracks.p', 'wb'))"
   ]
  },
  {
   "cell_type": "code",
   "execution_count": null,
   "metadata": {},
   "outputs": [],
   "source": []
  }
 ],
 "metadata": {
  "kernelspec": {
   "display_name": "Python 3",
   "language": "python",
   "name": "python3"
  },
  "language_info": {
   "codemirror_mode": {
    "name": "ipython",
    "version": 3
   },
   "file_extension": ".py",
   "mimetype": "text/x-python",
   "name": "python",
   "nbconvert_exporter": "python",
   "pygments_lexer": "ipython3",
   "version": "3.7.3"
  }
 },
 "nbformat": 4,
 "nbformat_minor": 2
}
