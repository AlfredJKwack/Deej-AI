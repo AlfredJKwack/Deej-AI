{
 "cells": [
  {
   "cell_type": "markdown",
   "metadata": {},
   "source": [
    "### Find playlists in the input data which contain a set of tracks\n",
    "This can be a good way to see how well the model is working."
   ]
  },
  {
   "cell_type": "code",
   "execution_count": 1,
   "metadata": {
    "ExecuteTime": {
     "end_time": "2020-05-15T13:34:02.059639Z",
     "start_time": "2020-05-15T13:28:56.505554Z"
    }
   },
   "outputs": [
    {
     "name": "stdout",
     "output_type": "stream",
     "text": [
      "Read in tracks...\n",
      "Number of tracks: 3981436\n",
      "Read in playlists...\n",
      "Number of playlists: 238593\n"
     ]
    }
   ],
   "source": [
    "import os\n",
    "import csv\n",
    "import pickle\n",
    "from IPython.display import clear_output\n",
    "from IPython.core.display import display, HTML\n",
    "\n",
    "csv.field_size_limit(1000000) # for really long playlists!\n",
    "\n",
    "print('Read in tracks...')\n",
    "spotify_tracks = pickle.load(open('../spotify_tracks.p', 'rb'))\n",
    "tracks = {}\n",
    "with open('tracks.csv', \"r\", encoding='utf-8') as csvfile:\n",
    "    spamreader = csv.reader(csvfile, delimiter=';')\n",
    "    for row in spamreader:\n",
    "        columns = str(row)[2:-2].split(';')\n",
    "        tracks[columns[0]] = [columns[1] + ' - ' +\n",
    "                              columns[2], columns[3]] # title - artist, url\n",
    "print(f'Number of tracks: {len(tracks)}')\n",
    "\n",
    "print('Read in playlists...')\n",
    "playlists = []\n",
    "with open('playlists.csv', 'r', encoding='utf-8') as csvfile:\n",
    "    spamreader = csv.reader(csvfile, delimiter=';')\n",
    "    for row in spamreader:\n",
    "        columns = str(row)[2:-2].split(';')\n",
    "        if columns[1] != 'Spotify': # ignore Spotify playlists which are commercial, not curated\n",
    "            playlist = []\n",
    "            for column in columns[2:]:\n",
    "                playlist.append(column)\n",
    "            playlists.append((playlist, columns[1], columns[0]))\n",
    "print(f'Number of playlists: {len(playlists)}')"
   ]
  },
  {
   "cell_type": "code",
   "execution_count": 9,
   "metadata": {
    "ExecuteTime": {
     "end_time": "2020-05-15T13:44:39.017149Z",
     "start_time": "2020-05-15T13:43:24.780318Z"
    }
   },
   "outputs": [
    {
     "name": "stdout",
     "output_type": "stream",
     "text": [
      "Search keywords: modjo lady\n",
      "1. Modjo - Lady (Hear Me Tonight)\n",
      "2. Modjo - Lady (Hear Me Tonight)\n",
      "3. Modjo - Lady (Hear Me Tonight) - Radio Edit\n",
      "4. Modjo - Lady - Acoustic Version\n",
      "5. Modjo - Lady - Hear Me Tonight\n",
      "Input track number, ENTER to finish, or search keywords: 1\n",
      "Added Modjo - Lady (Hear Me Tonight) to playlist\n",
      "Input track number, ENTER to finish, or search keywords: lola theme\n",
      "1. The Shapeshifters - Lola's Theme\n",
      "2. The Shapeshifters - Lola's Theme\n",
      "3. The Shapeshifters - Lola's Theme Recut - Purple Disco Machine Remix\n",
      "4. The Shapeshifters - Lola's Theme Recut - Radio Edit\n",
      "Input track number, ENTER to finish, or search keywords: 1\n",
      "Added The Shapeshifters - Lola's Theme to playlist\n",
      "Input track number, ENTER to finish, or search keywords: \n",
      "\n",
      "225306. Gustavo Sánchez Juárez - Laaaa Z !!!! (2781 tracks)\n"
     ]
    }
   ],
   "source": [
    "user_input = input('Search keywords: ')\n",
    "input_tracks = []\n",
    "while True:\n",
    "    if user_input == '':\n",
    "        break\n",
    "    ids = sorted([track for track in spotify_tracks if all(word in spotify_tracks[track].lower() for word in user_input.lower().split())], key = lambda x: tracks[x])\n",
    "    for i, id in enumerate(ids):\n",
    "        print(f'{i+1}. {spotify_tracks[id]}')\n",
    "    while True:\n",
    "        user_input = input('Input track number, ENTER to finish, or search keywords: ')\n",
    "        if user_input == '':\n",
    "            break\n",
    "        if user_input.isdigit() and len(ids) > 0:\n",
    "            if int(user_input)-1 >= len(ids):\n",
    "                continue\n",
    "            id = ids[int(user_input)-1]\n",
    "            input_tracks.append(id)\n",
    "            print(f'Added {spotify_tracks[id]} to playlist')\n",
    "        else:\n",
    "            break\n",
    "\n",
    "print()\n",
    "for i, playlist in enumerate(playlists):\n",
    "    for track in input_tracks:\n",
    "        found = True\n",
    "        if track not in playlist[0]:\n",
    "            found = False\n",
    "            break\n",
    "    if found:\n",
    "        print(f'{i}. {playlist[1]} - {playlist[2]} ({len(playlist[0])} tracks)')"
   ]
  },
  {
   "cell_type": "code",
   "execution_count": 16,
   "metadata": {
    "ExecuteTime": {
     "end_time": "2020-05-15T14:03:02.681237Z",
     "start_time": "2020-05-15T14:03:02.653310Z"
    }
   },
   "outputs": [
    {
     "data": {
      "text/html": [
       "<iframe src=\"https://open.spotify.com/embed/track/3b4GWSS7QnzRKqH0mEYcFH\" width=\"100%\" height=\"80\" frameborder=\"0\" allowtransparency=\"true\" allow=\"encrypted-media\"></iframe>"
      ],
      "text/plain": [
       "<IPython.core.display.HTML object>"
      ]
     },
     "metadata": {},
     "output_type": "display_data"
    },
    {
     "data": {
      "text/html": [
       "<iframe src=\"https://open.spotify.com/embed/track/2KOwLGewgXiF7hoOoprR8D\" width=\"100%\" height=\"80\" frameborder=\"0\" allowtransparency=\"true\" allow=\"encrypted-media\"></iframe>"
      ],
      "text/plain": [
       "<IPython.core.display.HTML object>"
      ]
     },
     "metadata": {},
     "output_type": "display_data"
    },
    {
     "data": {
      "text/html": [
       "<iframe src=\"https://open.spotify.com/embed/track/6oDVmBRNYzuieJdr6xwVhn\" width=\"100%\" height=\"80\" frameborder=\"0\" allowtransparency=\"true\" allow=\"encrypted-media\"></iframe>"
      ],
      "text/plain": [
       "<IPython.core.display.HTML object>"
      ]
     },
     "metadata": {},
     "output_type": "display_data"
    },
    {
     "data": {
      "text/html": [
       "<iframe src=\"https://open.spotify.com/embed/track/296mPMQavmf1vvxYrUvLN8\" width=\"100%\" height=\"80\" frameborder=\"0\" allowtransparency=\"true\" allow=\"encrypted-media\"></iframe>"
      ],
      "text/plain": [
       "<IPython.core.display.HTML object>"
      ]
     },
     "metadata": {},
     "output_type": "display_data"
    },
    {
     "data": {
      "text/html": [
       "<iframe src=\"https://open.spotify.com/embed/track/3uOMCOt6RbYBu7reApo6W9\" width=\"100%\" height=\"80\" frameborder=\"0\" allowtransparency=\"true\" allow=\"encrypted-media\"></iframe>"
      ],
      "text/plain": [
       "<IPython.core.display.HTML object>"
      ]
     },
     "metadata": {},
     "output_type": "display_data"
    },
    {
     "data": {
      "text/html": [
       "<iframe src=\"https://open.spotify.com/embed/track/4AVThKdtF1Kv2LLlyM83Bj\" width=\"100%\" height=\"80\" frameborder=\"0\" allowtransparency=\"true\" allow=\"encrypted-media\"></iframe>"
      ],
      "text/plain": [
       "<IPython.core.display.HTML object>"
      ]
     },
     "metadata": {},
     "output_type": "display_data"
    },
    {
     "data": {
      "text/html": [
       "<iframe src=\"https://open.spotify.com/embed/track/16Od8aXSGCj3V3XTQIUkqr\" width=\"100%\" height=\"80\" frameborder=\"0\" allowtransparency=\"true\" allow=\"encrypted-media\"></iframe>"
      ],
      "text/plain": [
       "<IPython.core.display.HTML object>"
      ]
     },
     "metadata": {},
     "output_type": "display_data"
    },
    {
     "data": {
      "text/html": [
       "<iframe src=\"https://open.spotify.com/embed/track/6ULJmiHLRXfdw4r15EvSi6\" width=\"100%\" height=\"80\" frameborder=\"0\" allowtransparency=\"true\" allow=\"encrypted-media\"></iframe>"
      ],
      "text/plain": [
       "<IPython.core.display.HTML object>"
      ]
     },
     "metadata": {},
     "output_type": "display_data"
    },
    {
     "data": {
      "text/html": [
       "<iframe src=\"https://open.spotify.com/embed/track/0cRVy5HCrvByvYMyeNW76k\" width=\"100%\" height=\"80\" frameborder=\"0\" allowtransparency=\"true\" allow=\"encrypted-media\"></iframe>"
      ],
      "text/plain": [
       "<IPython.core.display.HTML object>"
      ]
     },
     "metadata": {},
     "output_type": "display_data"
    },
    {
     "data": {
      "text/html": [
       "<iframe src=\"https://open.spotify.com/embed/track/4Sfh35NL3BWOyIpB4toKgS\" width=\"100%\" height=\"80\" frameborder=\"0\" allowtransparency=\"true\" allow=\"encrypted-media\"></iframe>"
      ],
      "text/plain": [
       "<IPython.core.display.HTML object>"
      ]
     },
     "metadata": {},
     "output_type": "display_data"
    }
   ],
   "source": [
    "for track in playlists[225306][0][:10]:\n",
    "    display(HTML(f'<iframe src=\"https://open.spotify.com/embed/track/{track}\" width=\"100%\" height=\"80\" frameborder=\"0\" allowtransparency=\"true\" allow=\"encrypted-media\"></iframe>'))"
   ]
  },
  {
   "cell_type": "code",
   "execution_count": null,
   "metadata": {},
   "outputs": [],
   "source": []
  }
 ],
 "metadata": {
  "kernelspec": {
   "display_name": "Python 3",
   "language": "python",
   "name": "python3"
  },
  "language_info": {
   "codemirror_mode": {
    "name": "ipython",
    "version": 3
   },
   "file_extension": ".py",
   "mimetype": "text/x-python",
   "name": "python",
   "nbconvert_exporter": "python",
   "pygments_lexer": "ipython3",
   "version": "3.7.6"
  },
  "varInspector": {
   "cols": {
    "lenName": 16,
    "lenType": 16,
    "lenVar": 40
   },
   "kernels_config": {
    "python": {
     "delete_cmd_postfix": "",
     "delete_cmd_prefix": "del ",
     "library": "var_list.py",
     "varRefreshCmd": "print(var_dic_list())"
    },
    "r": {
     "delete_cmd_postfix": ") ",
     "delete_cmd_prefix": "rm(",
     "library": "var_list.r",
     "varRefreshCmd": "cat(var_dic_list()) "
    }
   },
   "types_to_exclude": [
    "module",
    "function",
    "builtin_function_or_method",
    "instance",
    "_Feature"
   ],
   "window_display": false
  }
 },
 "nbformat": 4,
 "nbformat_minor": 2
}
