{
  "nbformat": 4,
  "nbformat_minor": 0,
  "metadata": {
    "kernelspec": {
      "display_name": "Python 3",
      "language": "python",
      "name": "python3"
    },
    "language_info": {
      "codemirror_mode": {
        "name": "ipython",
        "version": 3
      },
      "file_extension": ".py",
      "mimetype": "text/x-python",
      "name": "python",
      "nbconvert_exporter": "python",
      "pygments_lexer": "ipython3",
      "version": "3.6.9"
    },
    "nbTranslate": {
      "displayLangs": [
        "en",
        "es"
      ],
      "hotkey": "alt-t",
      "langInMainMenu": true,
      "sourceLang": "es",
      "targetLang": "en",
      "useGoogleTranslate": true
    },
    "toc": {
      "base_numbering": 1,
      "nav_menu": {},
      "number_sections": false,
      "sideBar": true,
      "skip_h1_title": false,
      "title_cell": "Table of Contents",
      "title_sidebar": "Contents",
      "toc_cell": false,
      "toc_position": {},
      "toc_section_display": true,
      "toc_window_display": false
    },
    "colab": {
      "name": "MP3ToSpotify.ipynb",
      "provenance": [],
      "include_colab_link": true
    }
  },
  "cells": [
    {
      "cell_type": "markdown",
      "metadata": {
        "id": "view-in-github",
        "colab_type": "text"
      },
      "source": [
        "<a href=\"https://colab.research.google.com/github/teticio/Deej-A.I./blob/master/notebooks/MP3ToSpotify.ipynb\" target=\"_parent\"><img src=\"https://colab.research.google.com/assets/colab-badge.svg\" alt=\"Open In Colab\"/></a>"
      ]
    },
    {
      "cell_type": "markdown",
      "metadata": {
        "id": "gDIM8xmvhKuI",
        "colab_type": "text"
      },
      "source": [
        "## Get Spotify IDs of MP3s using ACRCloud"
      ]
    },
    {
      "cell_type": "markdown",
      "metadata": {
        "id": "ogJeYvW9hKuK",
        "colab_type": "text"
      },
      "source": [
        "### Import stuff"
      ]
    },
    {
      "cell_type": "code",
      "metadata": {
        "ExecuteTime": {
          "end_time": "2019-11-29T19:28:56.372283Z",
          "start_time": "2019-11-29T19:28:56.356621Z"
        },
        "id": "SlrPjeVRhKuL",
        "colab_type": "code",
        "colab": {}
      },
      "source": [
        "import os\n",
        "import sys\n",
        "import hmac\n",
        "import time\n",
        "import json\n",
        "import tqdm\n",
        "import base64\n",
        "import hashlib\n",
        "import urllib.request\n",
        "import urllib.parse\n",
        "import datetime\n",
        "from pydub import AudioSegment"
      ],
      "execution_count": 0,
      "outputs": []
    },
    {
      "cell_type": "markdown",
      "metadata": {
        "id": "p6hWWTyPhKuP",
        "colab_type": "text"
      },
      "source": [
        "### Functions to perform multipart POST"
      ]
    },
    {
      "cell_type": "code",
      "metadata": {
        "ExecuteTime": {
          "end_time": "2019-11-29T19:28:56.522786Z",
          "start_time": "2019-11-29T19:28:56.512129Z"
        },
        "id": "vAR-QX_PhKuQ",
        "colab_type": "code",
        "colab": {}
      },
      "source": [
        "def post_multipart(url, fields, files):\n",
        "    content_type, body = encode_multipart_formdata(fields, files)\n",
        "\n",
        "    req = urllib.request.Request(url, data=body)\n",
        "    req.add_header('Content-Type', content_type)\n",
        "    req.add_header('Referer', url)\n",
        "    resp = urllib.request.urlopen(req)\n",
        "    ares = resp.read().decode('utf8')\n",
        "    return ares\n",
        "\n",
        "\n",
        "def encode_multipart_formdata(fields, files):\n",
        "    boundary = \"*****2016.05.27.acrcloud.rec.copyright.\" + str(\n",
        "        time.time()) + \"*****\"\n",
        "    body = b''\n",
        "    CRLF = '\\r\\n'\n",
        "    L = []\n",
        "    for (key, value) in list(fields.items()):\n",
        "        L.append('--' + boundary)\n",
        "        L.append('Content-Disposition: form-data; name=\"%s\"' % key)\n",
        "        L.append('')\n",
        "        L.append(value)\n",
        "    body = CRLF.join(L).encode('ascii')\n",
        "    for (key, value) in list(files.items()):\n",
        "        L = []\n",
        "        L.append(CRLF + '--' + boundary)\n",
        "        L.append('Content-Disposition: form-data; name=\"%s\"; filename=\"%s\"' %\n",
        "                 (key, key))\n",
        "        L.append('Content-Type: application/octet-stream')\n",
        "        L.append(CRLF)\n",
        "        body = body + CRLF.join(L).encode('ascii') + value\n",
        "    body = body + (CRLF + '--' + boundary + '--' + CRLF + CRLF).encode('ascii')\n",
        "    content_type = 'multipart/form-data; boundary=%s' % boundary\n",
        "    return content_type, body"
      ],
      "execution_count": 0,
      "outputs": []
    },
    {
      "cell_type": "markdown",
      "metadata": {
        "id": "-kp4nMd7hKuU",
        "colab_type": "text"
      },
      "source": [
        "### Function to identify track and retrieve information"
      ]
    },
    {
      "cell_type": "code",
      "metadata": {
        "ExecuteTime": {
          "end_time": "2019-11-29T19:28:56.688213Z",
          "start_time": "2019-11-29T19:28:56.679886Z"
        },
        "id": "KMVMGKI_hKuV",
        "colab_type": "code",
        "colab": {}
      },
      "source": [
        "def get_track_info(sample):\n",
        "    http_method = \"POST\"\n",
        "    http_url_file = \"/v1/identify\"\n",
        "    data_type = \"audio\"\n",
        "    signature_version = \"1\"\n",
        "    timestamp = int(\n",
        "        time.mktime(\n",
        "            datetime.datetime.utcfromtimestamp(time.time()).timetuple()))\n",
        "    query_data = sample[:5000000]  # make sure sample is not too big\n",
        "    sample_bytes = str(len(query_data))\n",
        "\n",
        "    string_to_sign = http_method + \"\\n\" + http_url_file + \"\\n\" + access_key + \"\\n\" + data_type + \"\\n\" + signature_version + \"\\n\" + str(\n",
        "        timestamp)\n",
        "    hmac_res = hmac.new(access_secret.encode('ascii'),\n",
        "                        string_to_sign.encode('ascii'),\n",
        "                        digestmod=hashlib.sha1).digest()\n",
        "    sign = base64.b64encode(hmac_res).decode('ascii')\n",
        "\n",
        "    fields = {\n",
        "        'access_key': access_key,\n",
        "        'sample_bytes': sample_bytes,\n",
        "        'timestamp': str(timestamp),\n",
        "        'signature': sign,\n",
        "        'data_type': data_type,\n",
        "        \"signature_version\": signature_version\n",
        "    }\n",
        "\n",
        "    res = post_multipart('http://' + host + http_url_file, fields,\n",
        "                         {\"sample\": query_data})\n",
        "    parsed_resp = json.loads(res)\n",
        "    return parsed_resp"
      ],
      "execution_count": 0,
      "outputs": []
    },
    {
      "cell_type": "markdown",
      "metadata": {
        "id": "5AVYl-bihKuY",
        "colab_type": "text"
      },
      "source": [
        "### ACRCloud API credentials"
      ]
    },
    {
      "cell_type": "code",
      "metadata": {
        "ExecuteTime": {
          "end_time": "2019-11-29T21:58:04.876621Z",
          "start_time": "2019-11-29T21:58:04.873869Z"
        },
        "id": "MdY3DOeqhKuZ",
        "colab_type": "code",
        "colab": {}
      },
      "source": [
        "#@markdown Get API credentials from https://www.acrcloud.com/\n",
        "host = 'fill this in with your details' #@param {type: 'string'}\n",
        "access_key = 'fill this in with your details' #@param {type: 'string'}\n",
        "access_secret = 'fill this in with your details' #@param {type: 'string'}"
      ],
      "execution_count": 0,
      "outputs": []
    },
    {
      "cell_type": "markdown",
      "metadata": {
        "id": "-nfVAdzRIKS_",
        "colab_type": "text"
      },
      "source": [
        "### Mount Google Drive if we are running on Google Colab"
      ]
    },
    {
      "cell_type": "code",
      "metadata": {
        "id": "8zb2obJxIGBP",
        "colab_type": "code",
        "colab": {}
      },
      "source": [
        "try:  # are we in Google Colab?\n",
        "    from google.colab import drive\n",
        "    drive.mount('/content/drive')\n",
        "except:\n",
        "    pass"
      ],
      "execution_count": 0,
      "outputs": []
    },
    {
      "cell_type": "markdown",
      "metadata": {
        "id": "cp4PVEy2hKuc",
        "colab_type": "text"
      },
      "source": [
        "### Scan directory for MP3s"
      ]
    },
    {
      "cell_type": "code",
      "metadata": {
        "ExecuteTime": {
          "end_time": "2019-11-29T19:29:43.250026Z",
          "start_time": "2019-11-29T19:28:57.440213Z"
        },
        "id": "vMet4ytDhKud",
        "colab_type": "code",
        "colab": {}
      },
      "source": [
        "directory = '/path/to/your/mp3s/and/m4as' #@param {type: 'string'}\n",
        "ids = {}\n",
        "mp3s = []\n",
        "for root, dirs, files in os.walk(directory):\n",
        "    for file in files:\n",
        "        if file[-3:] == 'mp3' or file[-3:] == 'm4a':\n",
        "            mp3s.append(root + '/' + file)"
      ],
      "execution_count": 0,
      "outputs": []
    },
    {
      "cell_type": "markdown",
      "metadata": {
        "id": "ca4yT9-ohKuh",
        "colab_type": "text"
      },
      "source": [
        "### Compile a list of all the available Spotify IDs"
      ]
    },
    {
      "cell_type": "code",
      "metadata": {
        "ExecuteTime": {
          "end_time": "2019-11-30T00:46:15.564266Z",
          "start_time": "2019-11-29T22:12:38.145932Z"
        },
        "id": "zz95EhzzhKui",
        "colab_type": "code",
        "colab": {}
      },
      "source": [
        "for sound_file in tqdm.tqdm_notebook(mp3s[1971:]):\n",
        "    if sound_file in ids:\n",
        "        continue\n",
        "\n",
        "    try:\n",
        "        f = open(sound_file, \"rb\")\n",
        "        sample = f.read()\n",
        "        f.close()\n",
        "        parsed_resp = get_track_info(sample)\n",
        "        ids[sound_file] = parsed_resp['metadata']['music'][0][\n",
        "            'external_metadata']['spotify']['track']['id']\n",
        "\n",
        "    except Exception as e:\n",
        "        if parsed_resp['status']['code'] == 2004:\n",
        "            try:\n",
        "                # re-encode sample as mp3\n",
        "                audio = AudioSegment.from_file(sound_file,\n",
        "                                               format=sound_file[-3:])\n",
        "                audio.export(\"audio.mp3\", format=\"mp3\")\n",
        "                f = open(\"audio.mp3\", \"rb\")\n",
        "                sample = f.read()\n",
        "                f.close()\n",
        "                parsed_resp = get_track_info(sample)\n",
        "                ids[sound_file] = parsed_resp['metadata']['music'][0][\n",
        "                    'external_metadata']['spotify']['track']['id']\n",
        "                continue\n",
        "            except:\n",
        "                pass\n",
        "\n",
        "        if 'limit exceeded' in parsed_resp['status']['msg']:\n",
        "            print(\n",
        "                f\"{parsed_resp['status']['msg']}: Got to {mp3s.index(sound_file)}\"\n",
        "            )\n",
        "            break\n",
        "        if parsed_resp['status']['msg'] == 'Success':\n",
        "            print(f'{e}: Skipping {sound_file}...')\n",
        "        else:\n",
        "            print(f\"{parsed_resp['status']['msg']}: Skipping {sound_file}...\")\n",
        "        continue"
      ],
      "execution_count": 0,
      "outputs": []
    },
    {
      "cell_type": "markdown",
      "metadata": {
        "id": "_Vp3O8LZhKun",
        "colab_type": "text"
      },
      "source": [
        "## Add all the Spotify tracks to a playlist"
      ]
    },
    {
      "cell_type": "markdown",
      "metadata": {
        "id": "ibNfuvbphKup",
        "colab_type": "text"
      },
      "source": [
        "### Import more stuff"
      ]
    },
    {
      "cell_type": "code",
      "metadata": {
        "ExecuteTime": {
          "end_time": "2019-11-30T08:12:27.475178Z",
          "start_time": "2019-11-30T08:12:27.472495Z"
        },
        "id": "CiF8CilRhKuq",
        "colab_type": "code",
        "colab": {}
      },
      "source": [
        "import spotipy\n",
        "import spotipy.util as util"
      ],
      "execution_count": 0,
      "outputs": []
    },
    {
      "cell_type": "markdown",
      "metadata": {
        "id": "KSMjO2ruhKut",
        "colab_type": "text"
      },
      "source": [
        "### Spotify API credentials"
      ]
    },
    {
      "cell_type": "code",
      "metadata": {
        "ExecuteTime": {
          "end_time": "2019-11-30T08:12:28.397779Z",
          "start_time": "2019-11-30T08:12:28.394553Z"
        },
        "id": "MbwvAJxPhKuu",
        "colab_type": "code",
        "colab": {}
      },
      "source": [
        "scope = 'playlist-modify-public'\n",
        "#@markdown Get API credentials from https://developer.spotify.com/dashboard/login\n",
        "client_id = 'fill this in with your details' #@param {type: 'string'}\n",
        "client_secret = 'fill this in with your details' #@param {type: 'string'}\n",
        "#@markdown The callback URI has to allow you to get hold of the token (e.g. https://github.com/)\n",
        "redirect_uri = 'fill this in with your details' #@param {type: 'string'}\n",
        "username = 'fill this in with your details' #@param {type: 'string'}\n",
        "playlist_name = 'fill this in with your details' #@param {type: 'string'}"
      ],
      "execution_count": 0,
      "outputs": []
    },
    {
      "cell_type": "code",
      "metadata": {
        "ExecuteTime": {
          "end_time": "2019-11-30T08:30:33.952434Z",
          "start_time": "2019-11-30T08:30:33.948205Z"
        },
        "id": "AGxcMLHLhKux",
        "colab_type": "code",
        "colab": {}
      },
      "source": [
        "# Spotipy function is currently broken\n",
        "\n",
        "def user_playlist_create(sp,\n",
        "                         username,\n",
        "                         playlist_name,\n",
        "                         description='',\n",
        "                         public=True):\n",
        "    data = {\n",
        "        'name': playlist_name,\n",
        "        'public': public,\n",
        "        'description': description\n",
        "    }\n",
        "    return sp._post(\"users/%s/playlists\" % (username, ), payload=data)['id']"
      ],
      "execution_count": 0,
      "outputs": []
    },
    {
      "cell_type": "code",
      "metadata": {
        "ExecuteTime": {
          "end_time": "2019-11-30T08:31:31.057331Z",
          "start_time": "2019-11-30T08:31:30.834166Z"
        },
        "id": "r7i2cXVRhKu2",
        "colab_type": "code",
        "colab": {}
      },
      "source": [
        "token = util.prompt_for_user_token(username, scope, client_id, client_secret, redirect_uri)\n",
        "sp = spotipy.Spotify(token)\n",
        "playlists = sp.user_playlists(username)\n",
        "playlist_ids = [playlist['id'] for playlist in playlists['items'] if playlist['name'] == playlist_name]\n",
        "if len(playlist_ids) == 0:\n",
        "    user_playlist_create(sp, username, playlist_name)\n",
        "else:\n",
        "    playlist_ids = playlist_id"
      ],
      "execution_count": 0,
      "outputs": []
    },
    {
      "cell_type": "code",
      "metadata": {
        "ExecuteTime": {
          "end_time": "2019-11-30T08:12:46.111932Z",
          "start_time": "2019-11-30T08:12:35.424427Z"
        },
        "id": "kkEvfPuLhKu4",
        "colab_type": "code",
        "colab": {}
      },
      "source": [
        "tracks = []\n",
        "replace = True\n",
        "for id in ids:\n",
        "    tracks.append(ids[id])\n",
        "    if len(tracks) == 100:\n",
        "        if replace:\n",
        "            sp.user_playlist_replace_tracks(username, playlist_id, tracks)\n",
        "            replace = False\n",
        "        else:\n",
        "            sp.user_playlist_add_tracks(username, playlist_id, tracks)\n",
        "        tracks = []"
      ],
      "execution_count": 0,
      "outputs": []
    },
    {
      "cell_type": "code",
      "metadata": {
        "id": "c11vGCLAhKu7",
        "colab_type": "code",
        "colab": {}
      },
      "source": [
        ""
      ],
      "execution_count": 0,
      "outputs": []
    }
  ]
}