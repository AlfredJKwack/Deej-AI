{
 "cells": [
  {
   "cell_type": "markdown",
   "metadata": {
    "colab_type": "text",
    "id": "xhtulFGUaQEA"
   },
   "source": [
    "## Train a Word2Vec model with Spotify lists (\"sentences\") of tracks (\"words\")"
   ]
  },
  {
   "cell_type": "markdown",
   "metadata": {
    "colab_type": "text",
    "id": "AkN0zQbAapxB"
   },
   "source": [
    "### Prepare the data"
   ]
  },
  {
   "cell_type": "code",
   "execution_count": 1,
   "metadata": {
    "colab": {
     "base_uri": "https://localhost:8080/",
     "height": 119
    },
    "colab_type": "code",
    "executionInfo": {
     "elapsed": 58808,
     "status": "ok",
     "timestamp": 1555999857414,
     "user": {
      "displayName": "Rob Smith",
      "photoUrl": "https://lh5.googleusercontent.com/-xZI-Hs67nxE/AAAAAAAAAAI/AAAAAAAAEto/Ht0WZrlJWDw/s64/photo.jpg",
      "userId": "14546434662839057642"
     },
     "user_tz": -120
    },
    "id": "7sxslVORfGA6",
    "outputId": "16b69ceb-bb0a-4e77-dc2b-57dc5ab0a5cb"
   },
   "outputs": [
    {
     "name": "stderr",
     "output_type": "stream",
     "text": [
      "C:\\Users\\tetic\\Anaconda3\\envs\\Deep\\lib\\site-packages\\smart_open\\ssh.py:34: UserWarning: paramiko missing, opening SSH/SCP/SFTP paths will be disabled.  `pip install paramiko` to suppress\n",
      "  warnings.warn('paramiko missing, opening SSH/SCP/SFTP paths will be disabled.  `pip install paramiko` to suppress')\n",
      "C:\\Users\\tetic\\Anaconda3\\envs\\Deep\\lib\\site-packages\\gensim\\utils.py:1197: UserWarning: detected Windows; aliasing chunkize to chunkize_serial\n",
      "  warnings.warn(\"detected Windows; aliasing chunkize to chunkize_serial\")\n"
     ]
    },
    {
     "name": "stdout",
     "output_type": "stream",
     "text": [
      "Read in tracks...\n",
      "Number of tracks: 3981436\n",
      "Read in playlists...\n",
      "Number of playlists: 238593\n"
     ]
    }
   ],
   "source": [
    "import os\n",
    "import csv\n",
    "import time\n",
    "import gensim\n",
    "from gensim.models.callbacks import CallbackAny2Vec\n",
    "\n",
    "try: # are we running on Google colab?\n",
    "    # Load the Drive helper and mount\n",
    "    from google.colab import drive\n",
    "    IN_COLAB = True\n",
    "except:\n",
    "    IN_COLAB = False\n",
    "\n",
    "if IN_COLAB:\n",
    "    # This will prompt for authorization.\n",
    "    drive.mount('/content/drive')\n",
    "    os.chdir('/content/drive/My Drive/Colab Notebooks')\n",
    "   \n",
    "csv.field_size_limit(1000000) # for really long playlists!\n",
    "\n",
    "print('Read in tracks...')\n",
    "tracks = {}\n",
    "with open('tracks.csv', \"r\", encoding='utf-8') as csvfile:\n",
    "    spamreader = csv.reader(csvfile, delimiter=';')\n",
    "    for row in spamreader:\n",
    "        columns = str(row)[2:-2].split(';')\n",
    "        tracks[columns[0]] = [columns[1] + ' - ' +\n",
    "                              columns[2], columns[3]] # title - artist, url\n",
    "print(f'Number of tracks: {len(tracks)}')\n",
    "\n",
    "print('Read in playlists...')\n",
    "playlists = []\n",
    "with open('playlists.csv', 'r', encoding='utf-8') as csvfile:\n",
    "    spamreader = csv.reader(csvfile, delimiter=';')\n",
    "    for row in spamreader:\n",
    "        columns = str(row)[2:-2].split(';')\n",
    "        if columns[1] != 'Spotify': # ignore Spotify playlists which are commercial, not curated\n",
    "            playlist = []\n",
    "            for column in columns[2:]:\n",
    "                playlist.append(column)\n",
    "            playlists.append(playlist)\n",
    "print(f'Number of playlists: {len(playlists)}')"
   ]
  },
  {
   "cell_type": "markdown",
   "metadata": {
    "colab_type": "text",
    "id": "qTCHmwgdavvM"
   },
   "source": [
    "### Train the model..."
   ]
  },
  {
   "cell_type": "code",
   "execution_count": 2,
   "metadata": {
    "colab": {},
    "colab_type": "code",
    "id": "6XQOW-zkWaS5"
   },
   "outputs": [],
   "source": [
    "# hyperparameters\n",
    "\n",
    "min_count = 10      # minimum number of occurences of a track in all playlists\n",
    "window = 2          # length of sequences\n",
    "embedding_dim = 100 # number of dimensions in hidden layer\n",
    "batch_words = 10000 # number of tracks to process in each batch\n",
    "iter = 15           # number of iterations\n",
    "sg = 0              # skip-gram (1) or Continuous Bag Of Words (0)\n",
    "\n",
    "# ------------------------------------------------------------------------------\n",
    "\n",
    "valid_examples = [\n",
    "    '2NMgVh5qaPprKTEzFe3501', # The Police - Roxanne\n",
    "    '3Ti0GdlrotgwsAVBBugv0I', # A Tribe Called Quest - Can I Kick It?\n",
    "    '0nyrltZrQGAJMBZc1bYvuQ', # James Brown - Get Up Offa That Thing\n",
    "    '4hy4fb5D1KL50b3sng9cjw', # Nirvana - Smells Like Teen Spirit\n",
    "    '1P49MJhU5vzttesFxw3dOM', # Bob Marley & The Wailers - Three Little Birds\n",
    "    '76GlO5H5RT6g7y0gev86Nk', # The Cure - Just Like Heaven\n",
    "    '40tAOP3DPqmVD6L1h45Jp6', # Frank Sinatra - My Way\n",
    "    '4IMvgp0WZqr9mRqpEvDKxI', # The Clash - Rock the Casbah\n",
    "    '1iDcKYNvo6gglrOG6lvnHL', # The Rolling Stones - Sympathy For The Devil\n",
    "    '5uvosCdMlFdTXhoazkTI5R', # The Doors - Light My Fire\n",
    "    '15JINEqzVMv3SvJTAXAKED', # Eminem - Love The Way You Lie\n",
    "    '69kOkLUCkxIZYexIgSG8rq', # Daft Punk - Get Lucky\n",
    "    '6oVY50pmdXqLNVeK8bzomn', # John Coltrane - My Favorite Things\n",
    "    '6ui6l3ZNvlrGQZArwo8195', # Sex Pistols - God Save The Queen\n",
    "    '0YammaEkYSeo9vQYZ1OwS6', # David Guetta - Say My Name\n",
    "    '4SHZsQIdS2N1E5yqvoXF8o'  # Andy Williams - Can't Take My Eyes Off You\n",
    "]\n",
    "\n",
    "# ------------------------------------------------------------------------------\n",
    "\n",
    "class logger(CallbackAny2Vec):\n",
    "    def __init__(self):\n",
    "        print('Starting...')\n",
    "        self.epoch = 0\n",
    "        self.loss = 0\n",
    "\n",
    "    def on_train_begin(self, model):\n",
    "        self.start = time.time()\n",
    "\n",
    "    def on_epoch_end(self, model):\n",
    "        elapsed = time.time() - self.start\n",
    "        print('#{}'.format(self.epoch), 'loss =',\n",
    "              (model.get_latest_training_loss() - self.loss) / batch_words,\n",
    "              'elapsed time =', elapsed // 60, 'minutes', elapsed % 60, 'seconds')\n",
    "        self.epoch += 1\n",
    "        self.loss = model.get_latest_training_loss()\n",
    "        print('Saving model...')\n",
    "        model.save('word2vec.model')\n",
    "        _model = gensim.models.Word2Vec.load('word2vec.model')\n",
    "        for track in valid_examples:\n",
    "            similar = _model.wv.most_similar(positive=[track], topn=8)\n",
    "            most_similar = ''\n",
    "            for i in range(0, 8):\n",
    "                most_similar = most_similar + '%s (%.2f)' % (tracks[similar[i][0]][0], similar[i][1]) + ', '\n",
    "            print('  %s -> %s' % (tracks[track][0], most_similar))\n",
    "        print()\n",
    "        del _model"
   ]
  },
  {
   "cell_type": "markdown",
   "metadata": {
    "colab_type": "text",
    "id": "bWJqvCAGKaXX"
   },
   "source": [
    "*class gensim.models.word2vec.Word2Vec(sentences=None, corpus_file=None, size=100, alpha=0.025, window=5, min_count=5, max_vocab_size=None, sample=0.001, seed=1, workers=3, min_alpha=0.0001, sg=0, hs=0, negative=5, ns_exponent=0.75, cbow_mean=1, hashfxn=<built-in function hash>, iter=5, null_word=0, trim_rule=None, sorted_vocab=1, batch_words=10000, compute_loss=False, callbacks=(), max_final_vocab=None)*"
   ]
  },
  {
   "cell_type": "code",
   "execution_count": 5,
   "metadata": {
    "colab": {
     "base_uri": "https://localhost:8080/",
     "height": 4950
    },
    "colab_type": "code",
    "executionInfo": {
     "elapsed": 1444173,
     "status": "ok",
     "timestamp": 1556001339307,
     "user": {
      "displayName": "Rob Smith",
      "photoUrl": "https://lh5.googleusercontent.com/-xZI-Hs67nxE/AAAAAAAAAAI/AAAAAAAAEto/Ht0WZrlJWDw/s64/photo.jpg",
      "userId": "14546434662839057642"
     },
     "user_tz": -120
    },
    "id": "D9RyD0twxtP4",
    "outputId": "229be9d4-438c-4249-fb37-404f256ae04d"
   },
   "outputs": [
    {
     "name": "stdout",
     "output_type": "stream",
     "text": [
      "Starting...\n",
      "#0 loss = 2442.885 elapsed time = 0.0 minutes 57.41188287734985 seconds\n",
      "Saving model...\n",
      "  The Police - Roxanne -> Eagles - Hotel California - Remastered (0.99), Depeche Mode - Personal Jesus (0.99), Sting - Englishman In New York (0.99), Depeche Mode - Enjoy the Silence (0.99), Mike & The Mechanics - Over My Shoulder (0.99), The Cure - Friday I'm In Love (0.99), Crowded House - Weather With You (0.99), R.E.M. - Losing My Religion (0.99), \n",
      "  A Tribe Called Quest - Can I Kick It? -> A Tribe Called Quest - Electric Relaxation (0.98), OutKast - ATLiens (0.97), A Tribe Called Quest - Award Tour (0.97), Pete Rock & C.L. Smooth - They Reminisce Over You (0.97), Nas - The World Is Yours (0.97), Ol' Dirty Bastard - Shimmy Shimmy Ya (0.97), OutKast - Rosa Parks (0.97), A Tribe Called Quest - Buggin' Out (0.96), \n",
      "  James Brown - Get Up Offa That Thing -> Electric Light Orchestra - Mr. Blue Sky (0.99), The O'Jays - Love Train (0.99), The Isley Brothers - Shout, Pts. 1 & 2 (0.99), The Monkees - I'm A Believer (0.99), The Emotions - Best of My Love (0.99), Men Without Hats - The Safety Dance (0.99), Billy Joel - The River of Dreams (0.99), Van McCoy - The Hustle - Original Mix (0.99), \n",
      "  Nirvana - Smells Like Teen Spirit -> Nirvana - Come As You Are (0.99), Bloodhound Gang - The Bad Touch (0.98), Smash Mouth - Walkin' On The Sun (0.98), Bon Jovi - It's My Life (0.98), Limp Bizkit - Behind Blue Eyes (0.98), The Verve - Bitter Sweet Symphony (0.98), Evanescence - Bring Me To Life (0.98), Fools Garden - Lemon Tree (0.98), \n",
      "  Bob Marley & The Wailers - Three Little Birds -> Bob Marley & The Wailers - Could You Be Loved (0.97), Bob Marley & The Wailers - Buffalo Soldier (0.97), Bob Marley & The Wailers - One Love / People Get Ready (0.94), Bob Marley & The Wailers - Jamming (0.92), Bob Marley & The Wailers - Is This Love (0.92), Bob Marley & The Wailers - Is This Love (0.90), Bob Marley & The Wailers - Redemption Song (0.89), Bob Marley & The Wailers - No Woman, No Cry - Live At The Lyceum, London/1975 (0.88), \n",
      "  The Cure - Just Like Heaven -> The Cure - Lovesong (0.99), The Cure - Boys Don't Cry [Single Version] (0.99), Joy Division - Love Will Tear Us Apart - 2010 Remastered Version (0.99), The Cure - Friday I'm In Love (0.99), The Rolling Stones - Wild Horses (0.98), The Rolling Stones - Beast Of Burden - Remastered (0.98), New Order - Bizarre Love Triangle (0.98), Depeche Mode - Personal Jesus - Original Seven Inch Version (0.98), \n",
      "  Frank Sinatra - My Way -> Yusuf / Cat Stevens - Wild World (0.99), Louis Armstrong - What A Wonderful World (0.99), The Beatles - Blackbird - Remastered (0.99), The Beatles - Twist And Shout - Remastered (0.99), Yusuf / Cat Stevens - Father And Son (0.99), Elton John - Rocket Man (I Think It's Going To Be A Long Long Time) (0.98), Sting - Shape Of My Heart (0.98), The Beatles - Lucy In The Sky With Diamonds - Remix (0.98), \n",
      "  The Clash - Rock the Casbah -> The J. Geils Band - Centerfold (1.00), Yvonne Elliman - If I Can\\'t Have You - From \"Saturday Night Fever\" (1.00), Tom Petty - Free Fallin' (1.00), Prince - Little Red Corvette (1.00), Kenny Loggins - Danger Zone (1.00), The Cure - Just Like Heaven (1.00), Kenny Loggins - I\\'m Alright (Theme from \"Caddyshack\") (1.00), James Brown - Living in America (1.00), \n",
      "  The Rolling Stones - Sympathy For The Devil -> Lynyrd Skynyrd - Free Bird (0.99), Creedence Clearwater Revival - Fortunate Son (0.99), The Rolling Stones - Gimme Shelter (0.99), Thin Lizzy - The Boys Are Back in Town (0.98), Steve Miller Band - The Joker (0.98), The Rolling Stones - (I Can't Get No) Satisfaction - Mono Version / Remastered 2002 (0.98), Lynyrd Skynyrd - Simple Man (0.98), The Animals - House Of The Rising Sun (0.98), \n",
      "  The Doors - Light My Fire -> The Doors - Break On Through (To The Other Side) (1.00), The Doors - Love Her Madly (0.99), The Doors - Soul Kitchen (0.99), The Doors - Alabama Song (Whisky Bar) (0.99), The Doors - Hello, I Love You (0.99), The Doors - L.A. Woman (0.99), The Doors - The End (0.99), The Doors - Roadhouse Blues (0.99), \n",
      "  Eminem - Love The Way You Lie -> Eminem - The Monster (0.94), Eminem - Not Afraid (0.93), Eminem - The Real Slim Shady (0.91), Rihanna - Love The Way You Lie (Part II) - Pt. 2 (0.90), Eminem - Space Bound (0.90), Eminem - Mockingbird (0.89), Eminem - Beautiful (0.89), Eminem - The Monster (0.89), \n",
      "  Daft Punk - Get Lucky -> Daft Punk - Get Lucky (feat. Pharrell Williams & Nile Rodgers) - Radio Edit (0.97), Daft Punk - Harder Better Faster Stronger (0.97), Daft Punk - Lose Yourself to Dance (0.97), Daft Punk - Around The World (0.96), Daft Punk - Doin' it Right (0.95), Daft Punk - One More Time (0.95), Daft Punk - Aerodynamic (0.94), Daft Punk - Digital Love (0.94), \n",
      "  John Coltrane - My Favorite Things -> Melody Gardot - Preacherman (1.00), Nils Frahm - Says (1.00), Benjamin Clementine - Cornerstone (1.00), Air - La femme d'argent (1.00), Nightmares On Wax - Morse (1.00), The Cramps - I Was A Teenage Werewolf - Remastered (1.00), Breakwater - Release the Beast (1.00), One Bad Son - Psycho Killer - Radio Edit (1.00), \n",
      "  Sex Pistols - God Save The Queen -> Ramones - Rockaway Beach - Remastered Version (1.00), Judas Priest - Living After Midnight (1.00), John Fogerty - Fortunate Son (with Foo Fighters) (1.00), The Doors - People Are Strange - New Stereo Mix Advanced Resolution (1.00), Ramones - Rock 'N' Roll High School - Remastered (1.00), Iron Maiden - Run to the Hills - 1998 Remastered Version (1.00), Accept - Balls to the Wall (1.00), The Black Crowes - Remedy (1.00), \n",
      "  David Guetta - Say My Name -> Calvin Harris - Promises (with Sam Smith) - Sonny Fodera Remix (0.98), David Guetta - Let It Be Me (feat. Ava Max) (0.98), Molly Sandén - Kär i din kärlek - Recorded at Spotify Studios Stockholm (0.98), James Hype - No Drama (feat. Craig David) (0.97), Jason Derulo - Goodbye (feat. Nicki Minaj & Willy William) (0.97), Sigala - Just Got Paid (0.97), Don Diablo - Survive (feat. Emeli Sandé, Gucci Mane) (0.97), David Guetta - Battle (feat. Faouzia) (0.97), \n",
      "  Andy Williams - Can't Take My Eyes Off You -> Lesley Gore - It's My Party (0.99), The Platters - Only You (And You Alone) (0.99), Chicago - You're The Inspiration - Remastered (0.99), George Michael - Kissing a Fool (0.99), The Platters - Only You (And You Alone) (0.99), Bobby Vee - Take Good Care Of My Baby - 1990 Remastered (0.99), Barry White - Just The Way You Are (0.99), Stephen Bishop - It Might Be You (from \"Tootsie\") (0.99), \n",
      "\n",
      "#1 loss = 1035.6778 elapsed time = 1.0 minutes 56.918335914611816 seconds\n",
      "Saving model...\n",
      "  The Police - Roxanne -> Nina Simone - Feeling Good (0.98), Supertramp - Breakfast In America - Remastered (0.97), Tom Jones - She's A Lady (0.97), U2 - Sunday Bloody Sunday (0.97), The Police - So Lonely (0.97), Sting - Fragile (0.97), The Cure - Friday I'm In Love (0.97), Joan Jett & The Blackhearts - Bad Reputation (0.97), \n",
      "  A Tribe Called Quest - Can I Kick It? -> A Tribe Called Quest - Electric Relaxation (0.95), Jurassic 5 - Concrete Schoolyard (0.94), Ol' Dirty Bastard - Shimmy Shimmy Ya (0.93), OutKast - SpottieOttieDopaliscious (0.93), Fugees - Zealots (0.93), OutKast - ATLiens (0.92), OutKast - Rosa Parks (0.92), A Tribe Called Quest - Award Tour (0.91), \n",
      "  James Brown - Get Up Offa That Thing -> Commodores - Brick House (0.98), Stevie Wonder - Higher Ground (0.98), Kool & The Gang - Jungle Boogie (0.98), Marvin Gaye - Got To Give It Up (Part 1) (0.98), KC & The Sunshine Band - Boogie Shoes (0.98), Stevie Wonder - Uptight (Everything's Alright) (0.98), KC & The Sunshine Band - Get Down Tonight - 2004 Remastered Version (0.98), The Isley Brothers - Shout, Pts. 1 & 2 (0.98), \n",
      "  Nirvana - Smells Like Teen Spirit -> Nirvana - Come As You Are (0.98), The Rasmus - In The Shadows - Radio Edit (0.96), Limp Bizkit - Behind Blue Eyes (0.96), Limp Bizkit - Behind Blue Eyes (0.96), Blur - Song 2 (0.95), Limp Bizkit - Behind Blue Eyes (0.95), Evanescence - Bring Me To Life (0.95), Bon Jovi - It's My Life (0.95), \n",
      "  Bob Marley & The Wailers - Three Little Birds -> Bob Marley & The Wailers - Buffalo Soldier (0.96), Bob Marley & The Wailers - Could You Be Loved (0.94), Bob Marley & The Wailers - One Love / People Get Ready (0.94), Bob Marley & The Wailers - No Woman, No Cry - Live At The Lyceum, London/1975 (0.93), Bob Marley & The Wailers - Jamming (0.92), Bob Marley & The Wailers - Redemption Song (0.91), Bob Marley & The Wailers - Is This Love (0.91), Bob Marley & The Wailers - Is This Love (0.91), \n",
      "  The Cure - Just Like Heaven -> The Cure - Lovesong (0.98), The Cure - Friday I'm In Love (0.97), The Cure - Close To Me - Remastered (0.97), The Cure - Boys Don't Cry [Single Version] (0.97), The Cure - Pictures Of You (0.96), Joy Division - Love Will Tear Us Apart - 2010 Remastered Version (0.96), Modern English - I Melt With You (0.95), Beck - Debra (0.95), \n",
      "  Frank Sinatra - My Way -> Louis Armstrong - What A Wonderful World (0.97), Yusuf / Cat Stevens - Wild World (0.96), Frank Sinatra - Strangers In The Night (0.96), Frank Sinatra - Theme From New York, New York (0.95), John Lennon - Happy Xmas (War Is Over) - Remastered (0.95), The Beatles - Ob-La-Di, Ob-La-Da - Remastered (0.95), Yusuf / Cat Stevens - Father And Son (0.95), The Beatles - Help! - Remastered 2015 (0.95), \n",
      "  The Clash - Rock the Casbah -> Robert Palmer - Addicted To Love - Edit (0.99), Steve Winwood - Higher Love - Full Album Version (0.99), Bruce Springsteen - Born in the U.S.A. (0.99), Duran Duran - The Reflex - Single Version2010 Remastered Version (0.99), ABC - The Look Of Love - Pt. 1 (0.99), Kim Wilde - Kids In America (0.99), Duran Duran - The Reflex (0.99), Thompson Twins - Hold Me Now (Extended Short) (0.99), \n",
      "  The Rolling Stones - Sympathy For The Devil -> Thin Lizzy - The Boys Are Back in Town (0.96), The Animals - House Of The Rising Sun (0.96), The Rolling Stones - (I Can't Get No) Satisfaction - Mono Version / Remastered 2002 (0.96), The Rolling Stones - Gimme Shelter (0.96), Creedence Clearwater Revival - Fortunate Son (0.96), Creedence Clearwater Revival - Bad Moon Rising (0.96), The Rolling Stones - Paint It, Black (0.95), The Who - Baba O'Riley (0.95), \n",
      "  The Doors - Light My Fire -> The Doors - Break On Through (To The Other Side) (0.98), The Doors - Roadhouse Blues (0.97), The Doors - People Are Strange (0.97), The Doors - L.A. Woman (0.97), The Doors - Love Me Two Times (0.96), The Doors - Love Her Madly (0.96), The Doors - Alabama Song (Whisky Bar) (0.95), The Doors - Touch Me (0.95), \n",
      "  Eminem - Love The Way You Lie -> Eminem - The Monster (0.90), Eminem - Not Afraid (0.90), Eminem - The Monster (0.89), Eminem - The Real Slim Shady (0.88), Eminem - Space Bound (0.87), Eminem - Mockingbird (0.87), Eminem - Superman (0.87), Eminem - When I'm Gone (0.87), \n",
      "  Daft Punk - Get Lucky -> Daft Punk - Get Lucky (feat. Pharrell Williams & Nile Rodgers) - Radio Edit (0.95), Daft Punk - Lose Yourself to Dance (0.90), Daft Punk - Harder Better Faster Stronger (0.89), Daft Punk - Give Life Back to Music (0.89), Daft Punk - Technologic (0.89), Daft Punk - Aerodynamic (0.88), Daft Punk - Doin' it Right (0.88), Daft Punk - Digital Love (0.87), \n",
      "  John Coltrane - My Favorite Things -> Moondog - Bird's Lament (0.99), The Magnetic Fields - You Must Be Out of Your Mind (0.99), Allen Toussaint - St. James Infirmary (0.99), Osibisa - Sunshine Day (0.99), Al Wilson - The Snake (0.99), Billie Holiday - Summertime (0.99), Stevie Wonder - Superwoman (Where Were You When I Needed You) (0.99), Lack Of Afro - One for the Trouble (0.99), \n",
      "  Sex Pistols - God Save The Queen -> Sex Pistols - Pretty Vacant (0.99), Dead Kennedys - California Uber Alles (0.99), Steve Vai - For the Love of God (0.99), Ramones - I Wanna Be Sedated (0.98), The Cult - Fire Woman (0.98), X - Los Angeles (0.98), The Black Crowes - Remedy (0.98), Dead Kennedys - Too Drunk to Fuck (0.98), \n",
      "  David Guetta - Say My Name -> David Guetta - Let It Be Me (feat. Ava Max) (0.94), David Guetta - Say My Name (0.94), Dua Lipa - Want To (0.94), Jason Derulo - Goodbye (feat. Nicki Minaj & Willy William) (0.94), James Hype - No Drama (feat. Craig David) (0.93), Sigala - Just Got Paid (0.93), Calvin Harris - Promises (with Sam Smith) - Sonny Fodera Remix (0.93), Alesso - REMEDY (0.93), \n",
      "  Andy Williams - Can't Take My Eyes Off You -> Billie Holiday - All of Me (0.98), Van Morrison - Someone Like You (0.98), Bob Dylan - Make You Feel My Love (0.98), Barry Manilow - Can't Smile Without You (0.98), Andy Williams - Moon River (From \"Breakfast at Tiffany\\'s\") (0.97), Barbra Streisand - The Way We Were (0.97), Carole King - Where You Lead (0.97), Ella Fitzgerald - They Can't Take That Away From Me (0.97), \n",
      "\n",
      "#2 loss = 460.1616 elapsed time = 2.0 minutes 59.583900928497314 seconds\n",
      "Saving model...\n",
      "  The Police - Roxanne -> Supertramp - Breakfast In America - Remastered (0.96), The Cure - Friday I'm In Love (0.95), The Police - So Lonely (0.95), Liquido - Narcotic - Long Version (0.95), The Police - Message In A Bottle (0.95), SuperHeavy - Miracle Worker (0.95), U2 - Sunday Bloody Sunday (0.95), Oasis - Don't Look Back In Anger (0.94), \n",
      "  A Tribe Called Quest - Can I Kick It? -> A Tribe Called Quest - Electric Relaxation (0.93), Ol' Dirty Bastard - Shimmy Shimmy Ya (0.92), A Tribe Called Quest - Award Tour (0.90), A Tribe Called Quest - We The People.... (0.90), Nas - The World Is Yours (0.90), Jurassic 5 - Concrete Schoolyard (0.89), Pete Rock & C.L. Smooth - They Reminisce Over You (0.89), Wu-Tang Clan - Protect Ya Neck (0.89), \n",
      "  James Brown - Get Up Offa That Thing -> Commodores - Brick House (0.97), Stevie Wonder - Higher Ground (0.97), Stevie Wonder - Uptight (Everything's Alright) (0.97), The O'Jays - Love Train (0.97), War - Why Can't We Be Friends? (0.96), Kool & The Gang - Jungle Boogie (0.96), James Brown - Get Up (I Feel Like Being A) Sex Machine - Pt. 1 & 2 (0.96), Kool & The Gang - Ladies Night - Single Version (0.96), \n",
      "  Nirvana - Smells Like Teen Spirit -> Nirvana - Come As You Are (0.96), Limp Bizkit - Behind Blue Eyes (0.94), Sublime - Santeria (0.94), Blur - Song 2 (0.94), The Rasmus - In the Shadows (0.93), Limp Bizkit - Behind Blue Eyes (0.93), Nirvana - Lithium (0.93), Bon Jovi - It's My Life (0.93), \n",
      "  Bob Marley & The Wailers - Three Little Birds -> Bob Marley & The Wailers - Buffalo Soldier (0.95), Bob Marley & The Wailers - One Love / People Get Ready (0.93), Bob Marley & The Wailers - Could You Be Loved (0.92), Bob Marley & The Wailers - No Woman, No Cry - Live At The Lyceum, London/1975 (0.91), Bob Marley & The Wailers - Is This Love (0.90), Bob Marley & The Wailers - Redemption Song (0.90), Bob Marley & The Wailers - Jamming (0.89), Bob Marley & The Wailers - Three Little Birds (0.87), \n",
      "  The Cure - Just Like Heaven -> The Cure - Close To Me - Remastered (0.97), The Cure - Boys Don't Cry [Single Version] (0.96), The Cure - Lovesong (0.96), Modern English - I Melt With You (0.95), The Cure - Friday I'm In Love (0.95), The Cure - Pictures Of You (0.94), Blondie - Heart Of Glass - Special Mix (0.94), Sneaker Pimps - 6 Underground (0.93), \n",
      "  Frank Sinatra - My Way -> Louis Armstrong - What A Wonderful World (0.96), Frank Sinatra - Theme From New York, New York (0.95), Frank Sinatra - Strangers In The Night (0.93), The Beatles - All You Need Is Love - Remastered (0.92), Yusuf / Cat Stevens - Father And Son (0.92), Frank Sinatra - The Way You Look Tonight (0.92), Frank Sinatra - Fly Me To The Moon (0.92), The Beatles - Ob-La-Di, Ob-La-Da - Remastered (0.92), \n",
      "  The Clash - Rock the Casbah -> Dead Or Alive - Brand New Lover - Edit (0.99), Naked Eyes - Always Something There to Remind Me (0.99), Tears For Fears - Shout (0.99), Duran Duran - The Reflex (0.99), The Romantics - Talking in Your Sleep (0.99), Wang Chung - Everybody Have Fun Tonight (0.99), Real Life - Send Me An Angel '89 (0.99), Kim Wilde - Kids In America (0.99), \n",
      "  The Rolling Stones - Sympathy For The Devil -> The Rolling Stones - (I Can't Get No) Satisfaction - Mono Version / Remastered 2002 (0.94), The Who - Baba O'Riley (0.94), Thin Lizzy - The Boys Are Back in Town (0.94), Creedence Clearwater Revival - Bad Moon Rising (0.94), Creedence Clearwater Revival - Fortunate Son (0.94), The Rolling Stones - Gimme Shelter (0.94), Steppenwolf - Magic Carpet Ride (0.93), The Rolling Stones - You Can't Always Get What You Want (0.93), \n",
      "  The Doors - Light My Fire -> The Doors - Break On Through (To The Other Side) (0.98), The Doors - Roadhouse Blues (0.97), The Doors - People Are Strange (0.96), The Doors - L.A. Woman (0.96), The Doors - Love Me Two Times (0.95), The Doors - Love Her Madly (0.94), The Doors - Alabama Song (Whisky Bar) (0.92), The Doors - Touch Me (0.92), \n",
      "  Eminem - Love The Way You Lie -> Eminem - Not Afraid (0.87), Eminem - The Monster (0.86), Eminem - Space Bound (0.84), Eminem - When I'm Gone (0.84), Rihanna - Love The Way You Lie (Part II) - Pt. 2 (0.83), Eminem - Cleanin' Out My Closet (0.83), Eminem - The Monster (0.83), Eminem - Superman (0.82), \n",
      "  Daft Punk - Get Lucky -> Daft Punk - Get Lucky (feat. Pharrell Williams & Nile Rodgers) - Radio Edit (0.93), Daft Punk - Lose Yourself to Dance (0.88), Daft Punk - Give Life Back to Music (0.86), Daft Punk - Doin' it Right (0.86), Daft Punk - Instant Crush (0.84), Daft Punk - Harder Better Faster Stronger (0.84), Daft Punk - Aerodynamic (0.83), Daft Punk - Technologic (0.82), \n",
      "  John Coltrane - My Favorite Things -> Mary Clark - Take Me I'm Yours (0.98), Gil Scott-Heron - Lady Day and John Coltrane (0.98), Herbie Hancock - Cantaloupe Island (0.98), Stevie Wonder - Superwoman (Where Were You When I Needed You) (0.98), Gil Scott-Heron - Gun (0.98), Moondog - Bird's Lament (0.98), George Duke - I Love You More (0.98), Stan Getz - The Girl From Ipanema - Stereo Version (0.98), \n",
      "  Sex Pistols - God Save The Queen -> Sex Pistols - Pretty Vacant (0.98), Sex Pistols - Anarchy In The U.K. (0.98), Ramones - I Wanna Be Sedated (0.98), Sonic Youth - Kool Thing (0.97), X - Los Angeles (0.97), Social Distortion - Ring of Fire (0.97), Operation Ivy - Sound System (0.97), Sex Pistols - Holidays In The Sun (0.97), \n",
      "  David Guetta - Say My Name -> Dua Lipa - Want To (0.90), James Hype - No Drama (feat. Craig David) (0.90), Jason Derulo - Goodbye (feat. Nicki Minaj & Willy William) (0.90), Rita Ora - Let You Love Me (0.89), David Guetta - Let It Be Me (feat. Ava Max) (0.89), Sigala - Just Got Paid (0.89), David Guetta - Say My Name (0.88), David Guetta - She Knows How To Love Me (feat. Jess Glynne & Stefflon Don) (0.88), \n",
      "  Andy Williams - Can't Take My Eyes Off You -> Van Morrison - Someone Like You (0.97), Nat King Cole - When I Fall In Love (0.97), Billie Holiday - All of Me (0.97), Dooley Wilson - As Time Goes By (0.96), Andy Williams - Moon River (From \"Breakfast at Tiffany\\'s\") (0.96), Nat King Cole - Unforgettable (0.96), Barry Manilow - Can't Smile Without You (0.96), Van Morrison - Moondance (0.96), \n",
      "\n",
      "#3 loss = 433.178 elapsed time = 3.0 minutes 58.68216848373413 seconds\n",
      "Saving model...\n",
      "  The Police - Roxanne -> The Cure - Friday I'm In Love (0.94), The Police - So Lonely (0.94), U2 - Sunday Bloody Sunday (0.94), The Police - Message In A Bottle (0.94), U2 - New Year's Day (0.93), Stash - Sadness (0.93), U2 - Vertigo (0.93), U2 - Magnificent (0.93), \n",
      "  A Tribe Called Quest - Can I Kick It? -> A Tribe Called Quest - Electric Relaxation (0.91), Ol' Dirty Bastard - Shimmy Shimmy Ya (0.89), A Tribe Called Quest - Award Tour (0.89), The Notorious B.I.G. - Machine Gun Funk (0.88), Pete Rock & C.L. Smooth - They Reminisce Over You (0.88), N.W.A. - Express Yourself - Remix (0.88), Wu-Tang Clan - Protect Ya Neck (0.88), Wu-Tang Clan - Gravel Pit (0.88), \n",
      "  James Brown - Get Up Offa That Thing -> Commodores - Brick House (0.96), Marvin Gaye - Got To Give It Up (Part 1) (0.95), Stevie Wonder - Higher Ground (0.95), James Brown - Papa's Got A Brand New Bag (0.95), War - Why Can't We Be Friends? (0.95), Kool & The Gang - Jungle Boogie (0.95), James Brown - Get Up (I Feel Like Being A) Sex Machine - Pt. 1 & 2 (0.95), Stevie Wonder - Uptight (Everything's Alright) (0.94), \n",
      "  Nirvana - Smells Like Teen Spirit -> Nirvana - Come As You Are (0.95), Sublime - Santeria (0.93), Nirvana - Lithium (0.92), The White Stripes - Seven Nation Army (0.92), Blur - Song 2 (0.91), Nirvana - Heart-Shaped Box (0.91), Limp Bizkit - Behind Blue Eyes (0.91), The Rasmus - In the Shadows (0.91), \n",
      "  Bob Marley & The Wailers - Three Little Birds -> Bob Marley & The Wailers - Buffalo Soldier (0.93), Bob Marley & The Wailers - Could You Be Loved (0.91), Bob Marley & The Wailers - One Love / People Get Ready (0.90), Bob Marley & The Wailers - Redemption Song (0.87), Bob Marley & The Wailers - No Woman, No Cry - Live At The Lyceum, London/1975 (0.87), Bob Marley & The Wailers - Is This Love (0.87), Bob Marley & The Wailers - Jamming (0.87), Bob Marley & The Wailers - Jamming (0.84), \n",
      "  The Cure - Just Like Heaven -> The Cure - Close To Me - Remastered (0.97), The Cure - Boys Don't Cry [Single Version] (0.95), Modern English - I Melt With You (0.94), The Cure - Pictures Of You (0.94), The Cure - Lovesong (0.94), The Cure - Friday I'm In Love (0.93), Joy Division - Love Will Tear Us Apart - 2010 Remastered Version (0.91), Blondie - Heart Of Glass - Special Mix (0.91), \n",
      "  Frank Sinatra - My Way -> Louis Armstrong - What A Wonderful World (0.93), Frank Sinatra - Theme From New York, New York (0.91), Frank Sinatra - Strangers In The Night (0.91), The Beatles - All You Need Is Love - Remastered (0.90), Frank Sinatra - Fly Me To The Moon (0.89), Yusuf / Cat Stevens - Father And Son (0.89), Frank Sinatra - Fly Me To The Moon (0.88), The Beatles - Ob-La-Di, Ob-La-Da - Remastered (0.88), \n",
      "  The Clash - Rock the Casbah -> Dead Or Alive - Brand New Lover - Edit (0.98), Duran Duran - The Reflex (0.98), Naked Eyes - Always Something There to Remind Me (0.98), Robert Palmer - Addicted To Love - Edit (0.98), Kim Wilde - Kids In America (0.98), The Romantics - Talking in Your Sleep (0.98), Depeche Mode - Just Can't Get Enough - 2006 Digital Remaster (0.98), Naked Eyes - Promises, Promises - Single Edit (0.98), \n",
      "  The Rolling Stones - Sympathy For The Devil -> The Rolling Stones - Gimme Shelter (0.94), The Rolling Stones - You Can't Always Get What You Want (0.93), The Who - Baba O'Riley (0.93), The Who - Pinball Wizard (0.92), Steppenwolf - Magic Carpet Ride (0.91), Creedence Clearwater Revival - Bad Moon Rising (0.91), The Rolling Stones - Start Me Up - Remastered (0.91), Mountain - Mississippi Queen (0.91), \n",
      "  The Doors - Light My Fire -> The Doors - Break On Through (To The Other Side) (0.96), The Doors - People Are Strange (0.95), The Doors - Love Her Madly (0.94), The Doors - Roadhouse Blues (0.94), The Doors - L.A. Woman (0.94), The Doors - Love Me Two Times (0.93), The Doors - Hello, I Love You (0.91), The Doors - Alabama Song (Whisky Bar) (0.90), \n",
      "  Eminem - Love The Way You Lie -> Eminem - Not Afraid (0.85), Eminem - Space Bound (0.82), Eminem - The Monster (0.81), Eminem - When I'm Gone (0.80), Rihanna - Love The Way You Lie (Part II) - Pt. 2 (0.80), Eminem - Cleanin' Out My Closet (0.79), Eminem - The Monster (0.79), Eminem - No Love (0.78), \n",
      "  Daft Punk - Get Lucky -> Daft Punk - Get Lucky (feat. Pharrell Williams & Nile Rodgers) - Radio Edit (0.90), Daft Punk - Lose Yourself to Dance (0.87), Daft Punk - Instant Crush (0.85), Daft Punk - Give Life Back to Music (0.84), Daft Punk - Doin' it Right (0.84), Daft Punk - Harder Better Faster Stronger (0.83), Daft Punk - One More Time (0.82), Daft Punk - Technologic (0.80), \n",
      "  John Coltrane - My Favorite Things -> Ruth Brown - I Don't Know (0.97), Gil Scott-Heron - Lady Day and John Coltrane (0.97), Shuggie Otis - Aht Uh Mi Hed (0.97), Charles Bradley - Strictly Reserved for You (feat. Menahan Street Band) (0.97), Stan Getz - Desafinado (0.97), Stevie Wonder - Superwoman (Where Were You When I Needed You) (0.97), Mary Clark - Take Me I'm Yours (0.97), Lee Moses - California Dreaming (0.97), \n",
      "  Sex Pistols - God Save The Queen -> Sex Pistols - Anarchy In The U.K. (0.98), The Jam - In The City (0.97), Sex Pistols - Pretty Vacant (0.97), Ramones - I Wanna Be Sedated (0.97), Sonic Youth - Kool Thing (0.97), X - Los Angeles (0.96), Sex Pistols - Holidays In The Sun (0.96), The Dead Milkmen - Punk Rock Girl (0.96), \n",
      "  David Guetta - Say My Name -> Dua Lipa - Want To (0.87), David Guetta - She Knows How To Love Me (feat. Jess Glynne & Stefflon Don) (0.86), Cris Cab - Just Wanna Love You (feat. J. Balvin) (0.86), Lost Frequencies - Like I Love You (0.86), James Hype - No Drama (feat. Craig David) (0.86), David Guetta - Let It Be Me (feat. Ava Max) (0.86), Jason Derulo - Goodbye (feat. Nicki Minaj & Willy William) (0.85), Sigala - Just Got Paid (0.84), \n",
      "  Andy Williams - Can't Take My Eyes Off You -> Sammy Davis Jr. - Feeling Good (0.97), Perry Como - Magic Moments (with Mitchell Ayres and His Orchestra & The Ray Charles Singers) (0.96), Nat King Cole - When I Fall In Love (0.96), Harry Nilsson - Without You (0.96), Nat King Cole - L-O-V-E (0.96), Billie Holiday - All of Me (0.96), Van Morrison - Someone Like You (0.96), Nat King Cole - Unforgettable (0.95), \n",
      "\n",
      "#4 loss = 415.2364 elapsed time = 5.0 minutes 1.572913408279419 seconds\n",
      "Saving model...\n",
      "  The Police - Roxanne -> The Police - Message In A Bottle (0.93), The Cure - Friday I'm In Love (0.93), U2 - Sunday Bloody Sunday (0.93), Supertramp - School (0.92), Triggerfinger - I Follow Rivers (0.92), Dire Straits - Sultans Of Swing (0.92), The Police - So Lonely (0.92), Stash - Sadness (0.92), \n",
      "  A Tribe Called Quest - Can I Kick It? -> A Tribe Called Quest - Electric Relaxation (0.88), Ol' Dirty Bastard - Shimmy Shimmy Ya (0.86), Pete Rock & C.L. Smooth - They Reminisce Over You (0.86), N.W.A. - Express Yourself - Remix (0.86), A Tribe Called Quest - Award Tour (0.85), Wu-Tang Clan - Protect Ya Neck (0.85), The Notorious B.I.G. - Machine Gun Funk (0.85), The Notorious B.I.G. - Everyday Struggle (0.84), \n",
      "  James Brown - Get Up Offa That Thing -> Commodores - Brick House (0.95), James Brown - Papa's Got A Brand New Bag (0.94), War - Why Can't We Be Friends? (0.93), Marvin Gaye - Got To Give It Up (Part 1) (0.93), James Brown - Get Up (I Feel Like Being A) Sex Machine - Pt. 1 & 2 (0.93), James Brown - Get Up (I Feel Like Being A) Sex Machine - Pt. 1 & 2 (0.93), Kool & The Gang - Jungle Boogie (0.93), Marvin Gaye - I Heard It Through The Grapevine - Single Version (Mono) (0.93), \n",
      "  Nirvana - Smells Like Teen Spirit -> Nirvana - Come As You Are (0.93), Nirvana - Lithium (0.91), The White Stripes - Seven Nation Army (0.90), Nirvana - Heart-Shaped Box (0.89), Sublime - Santeria (0.89), Blur - Song 2 (0.89), The Killers - Somebody Told Me (0.88), Bon Jovi - It's My Life (0.88), \n",
      "  Bob Marley & The Wailers - Three Little Birds -> Bob Marley & The Wailers - Buffalo Soldier (0.92), Bob Marley & The Wailers - Could You Be Loved (0.89), Bob Marley & The Wailers - One Love / People Get Ready (0.89), Bob Marley & The Wailers - No Woman, No Cry - Live At The Lyceum, London/1975 (0.85), Bob Marley & The Wailers - Redemption Song (0.85), Bob Marley & The Wailers - Jamming (0.85), Bob Marley & The Wailers - Is This Love (0.84), Bob Marley & The Wailers - Jamming (0.82), \n",
      "  The Cure - Just Like Heaven -> The Cure - Close To Me - Remastered (0.95), The Cure - Boys Don't Cry [Single Version] (0.95), Modern English - I Melt With You (0.94), The Cure - Pictures Of You (0.93), The Cure - Lovesong (0.92), The Cure - Friday I'm In Love (0.91), Depeche Mode - Policy Of Truth - 2006 Remastered Version (0.89), Modern English - I Melt With You (7\" Mix) (0.89), \n",
      "  Frank Sinatra - My Way -> Louis Armstrong - What A Wonderful World (0.91), Frank Sinatra - Strangers In The Night (0.91), Frank Sinatra - Theme From New York, New York (0.90), Frank Sinatra - I've Got You Under My Skin (0.88), Frank Sinatra - Fly Me To The Moon (0.88), The Beatles - All You Need Is Love - Remastered (0.88), Frank Sinatra - Somethin' Stupid (0.88), Frank Sinatra - Fly Me To The Moon (0.87), \n",
      "  The Clash - Rock the Casbah -> Dead Or Alive - Brand New Lover - Edit (0.97), Depeche Mode - Just Can't Get Enough - 2006 Digital Remaster (0.97), Duran Duran - The Reflex (0.97), Tears For Fears - Shout (0.97), Naked Eyes - Always Something There to Remind Me (0.97), Billy Idol - Mony Mony (0.97), The Romantics - Talking in Your Sleep (0.97), Robert Palmer - Addicted To Love - Edit (0.97), \n",
      "  The Rolling Stones - Sympathy For The Devil -> The Rolling Stones - Gimme Shelter (0.94), The Rolling Stones - You Can't Always Get What You Want (0.92), The Who - Baba O'Riley (0.91), The Who - Pinball Wizard (0.90), Steppenwolf - Magic Carpet Ride (0.90), The Rolling Stones - Start Me Up - Remastered (0.89), Mountain - Mississippi Queen (0.89), Creedence Clearwater Revival - Bad Moon Rising (0.89), \n",
      "  The Doors - Light My Fire -> The Doors - Break On Through (To The Other Side) (0.94), The Doors - People Are Strange (0.93), The Doors - L.A. Woman (0.92), The Doors - Love Her Madly (0.92), The Doors - Love Me Two Times (0.91), The Doors - Roadhouse Blues (0.91), The Doors - Alabama Song (Whisky Bar) (0.90), The Doors - Hello, I Love You (0.89), \n",
      "  Eminem - Love The Way You Lie -> Eminem - Not Afraid (0.82), Eminem - The Monster (0.78), Eminem - Space Bound (0.76), Rihanna - Love The Way You Lie (Part II) - Pt. 2 (0.75), Eminem - Like Toy Soldiers (0.74), Eminem - When I'm Gone (0.74), Eminem - Cleanin' Out My Closet (0.74), Eminem - The Monster (0.74), \n",
      "  Daft Punk - Get Lucky -> Daft Punk - Get Lucky (feat. Pharrell Williams & Nile Rodgers) - Radio Edit (0.88), Daft Punk - Lose Yourself to Dance (0.85), Daft Punk - Give Life Back to Music (0.83), Daft Punk - Doin' it Right (0.82), Daft Punk - Instant Crush (0.82), Daft Punk - One More Time (0.80), Daft Punk - Harder Better Faster Stronger (0.79), Daft Punk - Around The World (0.77), \n",
      "  John Coltrane - My Favorite Things -> The J.B.'s - Pass The Peas (0.97), Ruth Brown - I Don't Know (0.97), Gil Scott-Heron - Lady Day and John Coltrane (0.97), Moondog - Bird's Lament (0.96), Lee Dorsey - Get out of My Life Woman (0.96), Herbie Hancock - Cantaloupe Island (0.96), Miles Davis - Freddie Freeloader (0.96), Stevie Wonder - Superwoman (Where Were You When I Needed You) (0.96), \n",
      "  Sex Pistols - God Save The Queen -> The Jam - In The City (0.97), Sex Pistols - Anarchy In The U.K. (0.97), Sex Pistols - Pretty Vacant (0.96), Sex Pistols - Holidays In The Sun (0.96), Sex Pistols - EMI (0.96), Dead Kennedys - California Über Alles (0.96), X - Los Angeles (0.95), Ramones - I Wanna Be Sedated (0.95), \n",
      "  David Guetta - Say My Name -> David Guetta - She Knows How To Love Me (feat. Jess Glynne & Stefflon Don) (0.84), Dua Lipa - Want To (0.84), Lost Frequencies - Like I Love You (0.83), James Hype - No Drama (feat. Craig David) (0.82), David Guetta - Let It Be Me (feat. Ava Max) (0.82), Cris Cab - Just Wanna Love You (feat. J. Balvin) (0.82), David Guetta - Blame It On Love (feat. Madison Beer) (0.82), Jason Derulo - Goodbye (feat. Nicki Minaj & Willy William) (0.81), \n",
      "  Andy Williams - Can't Take My Eyes Off You -> Henry Mancini - Moon River(Original Main Title) (0.96), Sammy Davis Jr. - Feeling Good (0.96), Perry Como - Magic Moments (with Mitchell Ayres and His Orchestra & The Ray Charles Singers) (0.96), Frank Sinatra - You Make Me Feel So Young (0.96), Elvis Presley - Love Me Tender (0.95), Billie Holiday - All of Me (0.95), Frank Sinatra - My Way - Remastered 2008 (0.95), Barry Manilow - Can't Smile Without You (0.95), \n",
      "\n",
      "#5 loss = 397.1812 elapsed time = 6.0 minutes 0.7082130908966064 seconds\n",
      "Saving model...\n",
      "  The Police - Roxanne -> The Cure - Friday I'm In Love (0.91), U2 - Sunday Bloody Sunday (0.91), The Police - Message In A Bottle (0.91), The Police - So Lonely (0.90), Triggerfinger - I Follow Rivers (0.90), Milow - Ayo Technology (0.90), U2 - New Year's Day (0.90), Dire Straits - Sultans Of Swing (0.90), \n",
      "  A Tribe Called Quest - Can I Kick It? -> A Tribe Called Quest - Electric Relaxation (0.86), A Tribe Called Quest - Award Tour (0.84), N.W.A. - Express Yourself - Remix (0.83), The Notorious B.I.G. - Machine Gun Funk (0.83), Wu-Tang Clan - Protect Ya Neck (0.83), Pete Rock & C.L. Smooth - They Reminisce Over You (0.83), A Tribe Called Quest - We The People.... (0.82), A Tribe Called Quest - Check the Rhime (0.82), \n",
      "  James Brown - Get Up Offa That Thing -> Commodores - Brick House (0.94), War - Why Can't We Be Friends? (0.93), James Brown - Papa's Got A Brand New Bag (0.92), James Brown - Get Up (I Feel Like Being A) Sex Machine - Pt. 1 & 2 (0.92), Marvin Gaye - Got To Give It Up (Part 1) (0.92), James Brown - Get Up (I Feel Like Being A) Sex Machine - Pt. 1 & 2 (0.92), KC & The Sunshine Band - Get Down Tonight (0.92), Stevie Wonder - Higher Ground (0.92), \n",
      "  Nirvana - Smells Like Teen Spirit -> Nirvana - Come As You Are (0.92), Nirvana - Lithium (0.89), The White Stripes - Seven Nation Army (0.88), Blur - Song 2 (0.88), Nirvana - Heart-Shaped Box (0.88), Sublime - Santeria (0.86), Guns N' Roses - Knockin' On Heaven's Door (0.85), Guns N' Roses - Paradise City (0.85), \n",
      "  Bob Marley & The Wailers - Three Little Birds -> Bob Marley & The Wailers - Buffalo Soldier (0.91), Bob Marley & The Wailers - One Love / People Get Ready (0.88), Bob Marley & The Wailers - Could You Be Loved (0.87), Bob Marley & The Wailers - Redemption Song (0.85), Bob Marley & The Wailers - Jamming (0.83), Bob Marley & The Wailers - Is This Love (0.83), Bob Marley & The Wailers - No Woman, No Cry - Live At The Lyceum, London/1975 (0.81), Bob Marley & The Wailers - Jamming (0.79), \n",
      "  The Cure - Just Like Heaven -> The Cure - Close To Me - Remastered (0.95), The Cure - Boys Don't Cry [Single Version] (0.93), Modern English - I Melt With You (0.92), The Cure - Pictures Of You (0.91), The Cure - Lovesong (0.90), Joy Division - Love Will Tear Us Apart - 2010 Remastered Version (0.89), The Cure - Friday I'm In Love (0.88), Depeche Mode - Policy Of Truth - 2006 Remastered Version (0.88), \n",
      "  Frank Sinatra - My Way -> Frank Sinatra - Strangers In The Night (0.88), Frank Sinatra - Theme From New York, New York (0.88), Louis Armstrong - What A Wonderful World (0.88), Frank Sinatra - Fly Me To The Moon (0.88), Frank Sinatra - I've Got You Under My Skin (0.86), Frank Sinatra - Somethin' Stupid (0.85), Frank Sinatra - Come Fly With Me - Remastered (0.85), Frank Sinatra - That's Life (0.85), \n",
      "  The Clash - Rock the Casbah -> Depeche Mode - Just Can't Get Enough - 2006 Digital Remaster (0.97), Duran Duran - The Reflex (0.97), Dead Or Alive - Brand New Lover - Edit (0.96), The Outfield - Your Love (0.96), Tears For Fears - Shout (0.96), Fine Young Cannibals - She Drives Me Crazy (0.96), The Romantics - Talking in Your Sleep (0.96), Midnight Oil - Beds Are Burning - Remastered (0.96), \n",
      "  The Rolling Stones - Sympathy For The Devil -> The Rolling Stones - Gimme Shelter (0.93), The Rolling Stones - You Can't Always Get What You Want (0.91), The Who - Pinball Wizard (0.88), The Who - Baba O'Riley (0.87), Steppenwolf - Magic Carpet Ride (0.87), The Rolling Stones - (I Can't Get No) Satisfaction - Mono Version / Remastered 2002 (0.87), The Who - Who Are You (0.87), The Rolling Stones - Start Me Up - Remastered (0.87), \n",
      "  The Doors - Light My Fire -> The Doors - Break On Through (To The Other Side) (0.93), The Doors - People Are Strange (0.92), The Doors - Love Her Madly (0.91), The Doors - L.A. Woman (0.90), The Doors - Love Me Two Times (0.90), The Doors - Roadhouse Blues (0.89), The Doors - Alabama Song (Whisky Bar) (0.88), The Doors - Hello, I Love You (0.87), \n",
      "  Eminem - Love The Way You Lie -> Eminem - Not Afraid (0.80), Eminem - The Monster (0.77), Eminem - Space Bound (0.75), Rihanna - Love The Way You Lie (Part II) - Pt. 2 (0.72), Eminem - Like Toy Soldiers (0.72), Eminem - Cleanin' Out My Closet (0.72), Eminem - No Love (0.72), Eminem - When I'm Gone (0.72), \n",
      "  Daft Punk - Get Lucky -> Daft Punk - Get Lucky (feat. Pharrell Williams & Nile Rodgers) - Radio Edit (0.85), Daft Punk - Lose Yourself to Dance (0.83), Daft Punk - Give Life Back to Music (0.81), Daft Punk - Instant Crush (0.79), Daft Punk - Doin' it Right (0.78), Daft Punk - One More Time (0.77), Daft Punk - Harder Better Faster Stronger (0.76), Daft Punk - Fragments of Time (0.75), \n",
      "  John Coltrane - My Favorite Things -> Ruth Brown - I Don't Know (0.97), The J.B.'s - Pass The Peas (0.96), Gil Scott-Heron - Lady Day and John Coltrane (0.96), Stan Getz - Desafinado (0.96), Herbie Hancock - Cantaloupe Island (0.96), Lee Dorsey - Get out of My Life Woman (0.96), Stevie Wonder - Superwoman (Where Were You When I Needed You) (0.96), John Coltrane - Naima (0.96), \n",
      "  Sex Pistols - God Save The Queen -> The Jam - In The City (0.97), Sex Pistols - Pretty Vacant (0.97), Sex Pistols - Anarchy In The U.K. (0.96), Black Flag - Rise Above (0.96), Dead Kennedys - California Über Alles (0.95), X - Los Angeles (0.95), Sex Pistols - Holidays In The Sun (0.95), Sex Pistols - EMI (0.95), \n",
      "  David Guetta - Say My Name -> Dua Lipa - Want To (0.83), David Guetta - She Knows How To Love Me (feat. Jess Glynne & Stefflon Don) (0.81), Lost Frequencies - Like I Love You (0.80), David Guetta - Let It Be Me (feat. Ava Max) (0.79), David Guetta - Blame It On Love (feat. Madison Beer) (0.79), James Hype - No Drama (feat. Craig David) (0.79), Sigala - Just Got Paid (0.79), Cris Cab - Just Wanna Love You (feat. J. Balvin) (0.78), \n",
      "  Andy Williams - Can't Take My Eyes Off You -> Henry Mancini - Moon River(Original Main Title) (0.96), Frank Sinatra - You Make Me Feel So Young (0.95), Perry Como - Magic Moments (with Mitchell Ayres and His Orchestra & The Ray Charles Singers) (0.95), Frank Sinatra - My Way - Remastered 2008 (0.95), Sammy Davis Jr. - Feeling Good (0.94), Barry Manilow - Can't Smile Without You (0.94), Dinah Washington - What A Diff'rence A Day Made (0.94), Dean Martin - You're Nobody 'Til Somebody Loves You - Remastered/1997 (0.94), \n",
      "\n",
      "#6 loss = 386.0492 elapsed time = 7.0 minutes 0.1624433994293213 seconds\n",
      "Saving model...\n",
      "  The Police - Roxanne -> The Police - Message In A Bottle (0.90), U2 - Sunday Bloody Sunday (0.90), The Cure - Friday I'm In Love (0.89), The Police - So Lonely (0.89), Stash - Sadness (0.89), Oasis - Don't Look Back In Anger (0.89), U2 - New Year's Day (0.89), Dire Straits - Sultans Of Swing (0.89), \n",
      "  A Tribe Called Quest - Can I Kick It? -> A Tribe Called Quest - Award Tour (0.83), A Tribe Called Quest - Electric Relaxation (0.83), Pete Rock & C.L. Smooth - They Reminisce Over You (0.82), Wu-Tang Clan - Protect Ya Neck (0.81), N.W.A. - Express Yourself - Remix (0.81), A Tribe Called Quest - Buggin' Out (0.81), A Tribe Called Quest - Check the Rhime (0.81), The Notorious B.I.G. - Machine Gun Funk (0.81), \n",
      "  James Brown - Get Up Offa That Thing -> Commodores - Brick House (0.92), James Brown - Papa's Got A Brand New Bag (0.92), War - Why Can't We Be Friends? (0.92), James Brown - Get Up Offa That Thing (0.90), James Brown - Get Up (I Feel Like Being A) Sex Machine - Pt. 1 & 2 (0.90), KC & The Sunshine Band - Get Down Tonight (0.90), Marvin Gaye - Got To Give It Up (Part 1) (0.90), James Brown - Get Up (I Feel Like Being A) Sex Machine - Pt. 1 & 2 (0.90), \n",
      "  Nirvana - Smells Like Teen Spirit -> Nirvana - Come As You Are (0.91), Nirvana - Lithium (0.88), Nirvana - Heart-Shaped Box (0.87), The White Stripes - Seven Nation Army (0.87), Nirvana - Smells Like Teen Spirit (0.86), Nirvana - Rape Me (0.85), Sublime - Santeria (0.85), Blur - Song 2 (0.84), \n",
      "  Bob Marley & The Wailers - Three Little Birds -> Bob Marley & The Wailers - Buffalo Soldier (0.89), Bob Marley & The Wailers - One Love / People Get Ready (0.86), Bob Marley & The Wailers - Could You Be Loved (0.86), Bob Marley & The Wailers - Redemption Song (0.82), Bob Marley & The Wailers - Jamming (0.82), Bob Marley & The Wailers - Is This Love (0.82), Bob Marley & The Wailers - No Woman, No Cry - Live At The Lyceum, London/1975 (0.79), Bob Marley & The Wailers - Jamming (0.78), \n",
      "  The Cure - Just Like Heaven -> The Cure - Close To Me - Remastered (0.94), The Cure - Boys Don't Cry [Single Version] (0.92), Modern English - I Melt With You (0.91), The Cure - Pictures Of You (0.90), The Cure - Lovesong (0.89), The Cure - Friday I'm In Love (0.87), Modern English - I Melt With You (7\" Mix) (0.87), The Cure - Fascination Street (0.87), \n",
      "  Frank Sinatra - My Way -> Frank Sinatra - Strangers In The Night (0.87), Frank Sinatra - Theme From New York, New York (0.87), Louis Armstrong - What A Wonderful World (0.86), Frank Sinatra - Fly Me To The Moon (0.85), Frank Sinatra - I've Got You Under My Skin (0.85), Frank Sinatra - That's Life (0.84), Frank Sinatra - Come Fly With Me - Remastered (0.84), Frank Sinatra - Somethin' Stupid (0.83), \n",
      "  The Clash - Rock the Casbah -> Depeche Mode - Just Can't Get Enough - 2006 Digital Remaster (0.96), David Bowie - Modern Love - Single Version [Remastered] (0.96), Dead Or Alive - Brand New Lover - Edit (0.96), Duran Duran - The Reflex (0.96), The Romantics - Talking in Your Sleep (0.96), Fine Young Cannibals - She Drives Me Crazy (0.96), Frankie Goes To Hollywood - Relax (0.96), The Bangles - Walk Like An Egyptian (0.96), \n",
      "  The Rolling Stones - Sympathy For The Devil -> The Rolling Stones - Gimme Shelter (0.92), The Rolling Stones - You Can't Always Get What You Want (0.89), The Rolling Stones - Brown Sugar (0.86), The Who - Pinball Wizard (0.86), The Rolling Stones - (I Can't Get No) Satisfaction - Mono Version / Remastered 2002 (0.85), The Rolling Stones - Start Me Up - Remastered (0.85), Steppenwolf - Magic Carpet Ride (0.84), The Who - Who Are You (0.84), \n",
      "  The Doors - Light My Fire -> The Doors - Break On Through (To The Other Side) (0.91), The Doors - People Are Strange (0.90), The Doors - Love Her Madly (0.89), The Doors - L.A. Woman (0.88), The Doors - Love Me Two Times (0.88), The Doors - Roadhouse Blues (0.87), The Doors - Alabama Song (Whisky Bar) (0.87), The Doors - Touch Me (0.85), \n",
      "  Eminem - Love The Way You Lie -> Eminem - Not Afraid (0.78), Eminem - The Monster (0.76), Eminem - Space Bound (0.73), Rihanna - Love The Way You Lie (Part II) - Pt. 2 (0.73), Eminem - When I'm Gone (0.71), Eminem - The Monster (0.70), Eminem - Mockingbird (0.70), Eminem - No Love (0.70), \n",
      "  Daft Punk - Get Lucky -> Daft Punk - Get Lucky (feat. Pharrell Williams & Nile Rodgers) - Radio Edit (0.85), Daft Punk - Lose Yourself to Dance (0.83), Daft Punk - Give Life Back to Music (0.82), Daft Punk - Instant Crush (0.78), Daft Punk - One More Time (0.78), Daft Punk - Doin' it Right (0.77), Daft Punk - Fragments of Time (0.76), Daft Punk - Harder Better Faster Stronger (0.75), \n",
      "  John Coltrane - My Favorite Things -> Ruth Brown - I Don't Know (0.97), The J.B.'s - Pass The Peas (0.96), Stan Getz - Desafinado (0.96), Gil Scott-Heron - Lady Day and John Coltrane (0.96), John Coltrane - Naima (0.96), Stevie Wonder - Superwoman (Where Were You When I Needed You) (0.95), David Bowie - Right (2007 Remastered) (0.95), Donovan - Sunshine Superman - 2005 Remastered Version Mono (0.95), \n",
      "  Sex Pistols - God Save The Queen -> The Jam - In The City (0.96), Sex Pistols - Pretty Vacant (0.96), Sex Pistols - Anarchy In The U.K. (0.96), Black Flag - Rise Above (0.95), Sex Pistols - EMI (0.94), Dead Kennedys - California Über Alles (0.94), Misfits - Last Caress (0.94), Dead Kennedys - Holiday in Cambodia (0.94), \n",
      "  David Guetta - Say My Name -> Dua Lipa - Want To (0.81), David Guetta - She Knows How To Love Me (feat. Jess Glynne & Stefflon Don) (0.80), Lost Frequencies - Like I Love You (0.78), James Hype - No Drama (feat. Craig David) (0.77), David Guetta - Blame It On Love (feat. Madison Beer) (0.77), Sigala - Just Got Paid (0.77), Cris Cab - Just Wanna Love You (feat. J. Balvin) (0.76), Rita Ora - Let You Love Me (0.76), \n",
      "  Andy Williams - Can't Take My Eyes Off You -> Henry Mancini - Moon River(Original Main Title) (0.95), Frank Sinatra - My Way - Remastered 2008 (0.95), Frank Sinatra - You Make Me Feel So Young (0.94), Perry Como - Magic Moments (with Mitchell Ayres and His Orchestra & The Ray Charles Singers) (0.94), Barry Manilow - Can't Smile Without You (0.94), Nikki Yanofsky - Jeepers Creepers 2.0 (0.94), The Big Band Orchestra - In The Mood (0.93), Nat King Cole - Let There Be Love (0.93), \n",
      "\n",
      "#7 loss = 371.8028 elapsed time = 8.0 minutes 3.4975833892822266 seconds\n",
      "Saving model...\n",
      "  The Police - Roxanne -> U2 - Sunday Bloody Sunday (0.89), The Police - Message In A Bottle (0.89), The Cure - Friday I'm In Love (0.87), The Police - Walking On The Moon (0.87), U2 - New Year's Day (0.87), Dire Straits - Sultans Of Swing (0.86), Oasis - Don't Look Back In Anger (0.86), Stash - Sadness (0.86), \n",
      "  A Tribe Called Quest - Can I Kick It? -> A Tribe Called Quest - Award Tour (0.80), A Tribe Called Quest - Electric Relaxation (0.80), Pete Rock & C.L. Smooth - They Reminisce Over You (0.79), Wu-Tang Clan - Protect Ya Neck (0.79), A Tribe Called Quest - Buggin' Out (0.78), N.W.A. - Express Yourself - Remix (0.78), Lords Of The Underground - Chief Rocka (0.78), A Tribe Called Quest - I Left My Wallet in El Segundo (0.78), \n",
      "  James Brown - Get Up Offa That Thing -> James Brown - Papa's Got A Brand New Bag (0.92), Commodores - Brick House (0.90), War - Why Can't We Be Friends? (0.90), James Brown - Get Up (I Feel Like Being A) Sex Machine - Pt. 1 & 2 (0.90), Marvin Gaye - Got To Give It Up (Part 1) (0.89), James Brown - Get Up Offa That Thing (0.89), KC & The Sunshine Band - Get Down Tonight (0.89), The Temptations - Get Ready (0.89), \n",
      "  Nirvana - Smells Like Teen Spirit -> Nirvana - Come As You Are (0.90), Nirvana - Lithium (0.87), Nirvana - Heart-Shaped Box (0.87), The White Stripes - Seven Nation Army (0.84), Nirvana - Smells Like Teen Spirit (0.84), Nirvana - Rape Me (0.84), Guns N' Roses - Knockin' On Heaven's Door (0.83), Sublime - Santeria (0.83), \n",
      "  Bob Marley & The Wailers - Three Little Birds -> Bob Marley & The Wailers - Buffalo Soldier (0.87), Bob Marley & The Wailers - Could You Be Loved (0.84), Bob Marley & The Wailers - One Love / People Get Ready (0.84), Bob Marley & The Wailers - Redemption Song (0.82), Bob Marley & The Wailers - Jamming (0.81), Bob Marley & The Wailers - Is This Love (0.80), Bob Marley & The Wailers - No Woman, No Cry - Live At The Lyceum, London/1975 (0.79), Bob Marley & The Wailers - Jamming (0.76), \n",
      "  The Cure - Just Like Heaven -> The Cure - Close To Me - Remastered (0.93), The Cure - Boys Don't Cry [Single Version] (0.91), The Cure - Pictures Of You (0.90), Modern English - I Melt With You (0.89), The Cure - Lovesong (0.88), Modern English - I Melt With You (7\" Mix) (0.87), Depeche Mode - Policy Of Truth - 2006 Remastered Version (0.86), Morrissey - Suedehead - 2011 Remastered Version (0.86), \n",
      "  Frank Sinatra - My Way -> Frank Sinatra - Strangers In The Night (0.85), Frank Sinatra - Fly Me To The Moon (0.84), Frank Sinatra - Theme From New York, New York (0.84), Frank Sinatra - That's Life (0.83), Frank Sinatra - I've Got You Under My Skin (0.83), Frank Sinatra - Come Fly With Me - Remastered (0.83), Louis Armstrong - What A Wonderful World (0.82), Frank Sinatra - Somethin' Stupid (0.81), \n",
      "  The Clash - Rock the Casbah -> Depeche Mode - Just Can't Get Enough - 2006 Digital Remaster (0.96), Duran Duran - The Reflex (0.95), Midnight Oil - Beds Are Burning - Remastered (0.95), The Romantics - Talking in Your Sleep (0.95), Generation X - Dancing With Myself - EP Version (0.95), Dead Or Alive - Brand New Lover - Edit (0.95), Bow Wow Wow - I Want Candy (0.95), The Bangles - Walk Like An Egyptian (0.95), \n",
      "  The Rolling Stones - Sympathy For The Devil -> The Rolling Stones - Gimme Shelter (0.90), The Rolling Stones - You Can't Always Get What You Want (0.87), The Rolling Stones - Brown Sugar (0.84), The Rolling Stones - (I Can't Get No) Satisfaction - Mono Version / Remastered 2002 (0.84), The Rolling Stones - Start Me Up - Remastered (0.83), The Who - My Generation (0.82), The Who - Pinball Wizard (0.82), The Who - Who Are You (0.81), \n",
      "  The Doors - Light My Fire -> The Doors - Break On Through (To The Other Side) (0.90), The Doors - Love Her Madly (0.88), The Doors - L.A. Woman (0.87), The Doors - People Are Strange (0.86), The Doors - Love Me Two Times (0.85), The Doors - Alabama Song (Whisky Bar) (0.85), The Doors - Touch Me (0.84), The Doors - Roadhouse Blues (0.84), \n",
      "  Eminem - Love The Way You Lie -> Eminem - Not Afraid (0.79), Eminem - The Monster (0.76), Rihanna - Love The Way You Lie (Part II) - Pt. 2 (0.72), Eminem - When I'm Gone (0.71), Eminem - Space Bound (0.71), Eminem - The Monster (0.69), Eminem - Headlights (0.69), Eminem - Mockingbird (0.68), \n",
      "  Daft Punk - Get Lucky -> Daft Punk - Get Lucky (feat. Pharrell Williams & Nile Rodgers) - Radio Edit (0.84), Daft Punk - Lose Yourself to Dance (0.82), Daft Punk - Give Life Back to Music (0.81), Daft Punk - One More Time (0.78), Daft Punk - Doin' it Right (0.77), Daft Punk - Instant Crush (0.76), Daft Punk - Fragments of Time (0.74), Daft Punk - Harder Better Faster Stronger (0.73), \n",
      "  John Coltrane - My Favorite Things -> Ruth Brown - I Don't Know (0.96), The J.B.'s - Pass The Peas (0.96), Stan Getz - Desafinado (0.96), John Coltrane - Naima (0.95), Gil Scott-Heron - Lady Day and John Coltrane (0.95), David Bowie - Right (2007 Remastered) (0.95), Little Willie John - I'm Shakin' (0.95), Bobby \"Blue\" Bland - I\\'ll Take Care Of You - Single Version (0.95), \n",
      "  Sex Pistols - God Save The Queen -> Sex Pistols - Pretty Vacant (0.96), The Jam - In The City (0.96), Sex Pistols - Anarchy In The U.K. (0.95), Black Flag - Rise Above (0.94), Sex Pistols - EMI (0.94), Dead Kennedys - California Über Alles (0.94), Ramones - I Wanna Be Sedated (0.94), Dead Kennedys - Holiday in Cambodia (0.94), \n",
      "  David Guetta - Say My Name -> Dua Lipa - Want To (0.79), David Guetta - She Knows How To Love Me (feat. Jess Glynne & Stefflon Don) (0.78), Lost Frequencies - Like I Love You (0.77), David Guetta - Blame It On Love (feat. Madison Beer) (0.76), James Hype - No Drama (feat. Craig David) (0.75), Rita Ora - Let You Love Me (0.75), Major Lazer - All My Life (feat. Burna Boy) (0.75), Sigala - Just Got Paid (0.74), \n",
      "  Andy Williams - Can't Take My Eyes Off You -> Frank Sinatra - My Way - Remastered 2008 (0.95), Henry Mancini - Moon River(Original Main Title) (0.95), Frank Sinatra - You Make Me Feel So Young (0.94), Barry Manilow - Can't Smile Without You (0.94), Laura Fygi - La vie en rose (0.94), Perry Como - Magic Moments (with Mitchell Ayres and His Orchestra & The Ray Charles Singers) (0.93), Nat King Cole - Let There Be Love (0.93), Nat King Cole - Mona Lisa (0.93), \n",
      "\n",
      "#8 loss = 359.7336 elapsed time = 9.0 minutes 2.3687686920166016 seconds\n",
      "Saving model...\n",
      "  The Police - Roxanne -> The Police - Message In A Bottle (0.89), U2 - Sunday Bloody Sunday (0.88), The Police - Walking On The Moon (0.86), The Cure - Friday I'm In Love (0.86), Dire Straits - Sultans Of Swing (0.86), U2 - New Year's Day (0.85), Oasis - Don't Look Back In Anger (0.85), The Police - So Lonely (0.85), \n",
      "  A Tribe Called Quest - Can I Kick It? -> A Tribe Called Quest - Award Tour (0.79), A Tribe Called Quest - Electric Relaxation (0.78), A Tribe Called Quest - Buggin' Out (0.77), A Tribe Called Quest - I Left My Wallet in El Segundo (0.77), Pete Rock & C.L. Smooth - They Reminisce Over You (0.77), Biz Markie - Just A Friend (0.77), A Tribe Called Quest - Scenario - LP Mix (0.77), Wu-Tang Clan - Protect Ya Neck (0.77), \n",
      "  James Brown - Get Up Offa That Thing -> James Brown - Papa's Got A Brand New Bag (0.92), Commodores - Brick House (0.89), War - Why Can't We Be Friends? (0.89), James Brown - Get Up (I Feel Like Being A) Sex Machine - Pt. 1 & 2 (0.89), KC & The Sunshine Band - Get Down Tonight (0.88), Marvin Gaye - Got To Give It Up (Part 1) (0.88), The Temptations - Get Ready (0.88), James Brown - Get Up Offa That Thing (0.88), \n",
      "  Nirvana - Smells Like Teen Spirit -> Nirvana - Come As You Are (0.89), Nirvana - Lithium (0.86), Nirvana - Heart-Shaped Box (0.86), Nirvana - Rape Me (0.83), The White Stripes - Seven Nation Army (0.83), Guns N' Roses - Knockin' On Heaven's Door (0.82), Nirvana - Smells Like Teen Spirit (0.82), Sublime - Santeria (0.81), \n",
      "  Bob Marley & The Wailers - Three Little Birds -> Bob Marley & The Wailers - Buffalo Soldier (0.87), Bob Marley & The Wailers - One Love / People Get Ready (0.84), Bob Marley & The Wailers - Redemption Song (0.83), Bob Marley & The Wailers - Could You Be Loved (0.82), Bob Marley & The Wailers - Jamming (0.81), Bob Marley & The Wailers - Is This Love (0.81), Bob Marley & The Wailers - No Woman, No Cry - Live At The Lyceum, London/1975 (0.78), Bob Marley & The Wailers - Jamming (0.75), \n",
      "  The Cure - Just Like Heaven -> The Cure - Close To Me - Remastered (0.92), The Cure - Boys Don't Cry [Single Version] (0.90), The Cure - Pictures Of You (0.88), Modern English - I Melt With You (0.88), The Cure - Lovesong (0.87), Modern English - I Melt With You (7\" Mix) (0.85), Depeche Mode - Policy Of Truth - 2006 Remastered Version (0.85), The Cure - Fascination Street (0.85), \n",
      "  Frank Sinatra - My Way -> Frank Sinatra - Strangers In The Night (0.86), Frank Sinatra - Fly Me To The Moon (0.83), Frank Sinatra - That's Life (0.83), Frank Sinatra - Theme From New York, New York (0.83), Frank Sinatra - I've Got You Under My Skin (0.82), Frank Sinatra - Come Fly With Me - Remastered (0.82), Frank Sinatra - Somethin' Stupid (0.81), Louis Armstrong - What A Wonderful World (0.80), \n",
      "  The Clash - Rock the Casbah -> Depeche Mode - Just Can't Get Enough - 2006 Digital Remaster (0.95), Duran Duran - The Reflex (0.95), Midnight Oil - Beds Are Burning - Remastered (0.95), The Bangles - Walk Like An Egyptian (0.95), Bow Wow Wow - I Want Candy (0.95), Duran Duran - Girls On Film (0.94), Generation X - Dancing With Myself - EP Version (0.94), David Bowie - Modern Love - Single Version [Remastered] (0.94), \n",
      "  The Rolling Stones - Sympathy For The Devil -> The Rolling Stones - Gimme Shelter (0.88), The Rolling Stones - You Can't Always Get What You Want (0.86), The Rolling Stones - (I Can't Get No) Satisfaction - Mono Version / Remastered 2002 (0.83), The Rolling Stones - Brown Sugar (0.83), The Rolling Stones - Start Me Up - Remastered (0.82), The Who - My Generation (0.81), The Who - Pinball Wizard (0.81), Steppenwolf - Magic Carpet Ride (0.80), \n",
      "  The Doors - Light My Fire -> The Doors - Break On Through (To The Other Side) (0.89), The Doors - Love Her Madly (0.86), The Doors - L.A. Woman (0.86), The Doors - People Are Strange (0.85), The Doors - Alabama Song (Whisky Bar) (0.84), The Doors - Love Me Two Times (0.84), The Doors - Touch Me (0.83), The Doors - Roadhouse Blues (0.82), \n",
      "  Eminem - Love The Way You Lie -> Eminem - Not Afraid (0.79), Eminem - The Monster (0.74), Rihanna - Love The Way You Lie (Part II) - Pt. 2 (0.72), Eminem - When I'm Gone (0.70), Eminem - Space Bound (0.70), Eminem - Headlights (0.68), Eminem - The Monster (0.67), Eminem - Mockingbird (0.67), \n",
      "  Daft Punk - Get Lucky -> Daft Punk - Get Lucky (feat. Pharrell Williams & Nile Rodgers) - Radio Edit (0.83), Daft Punk - Lose Yourself to Dance (0.82), Daft Punk - Give Life Back to Music (0.80), Daft Punk - One More Time (0.78), Daft Punk - Instant Crush (0.77), Daft Punk - Doin' it Right (0.77), Daft Punk - Fragments of Time (0.74), Daft Punk - Harder Better Faster Stronger (0.74), \n",
      "  John Coltrane - My Favorite Things -> Ruth Brown - I Don't Know (0.96), The J.B.'s - Pass The Peas (0.96), John Coltrane - Naima (0.95), Stan Getz - Desafinado (0.95), Gil Scott-Heron - Lady Day and John Coltrane (0.95), David Bowie - Right (2007 Remastered) (0.95), Bobby \"Blue\" Bland - I\\'ll Take Care Of You - Single Version (0.95), Oscar Brown, Jr. - Dat Dere (0.94), \n",
      "  Sex Pistols - God Save The Queen -> Sex Pistols - Pretty Vacant (0.96), The Jam - In The City (0.95), Sex Pistols - Anarchy In The U.K. (0.94), Sex Pistols - EMI (0.94), Black Flag - Rise Above (0.94), Sex Pistols - Bodies (0.93), Dead Kennedys - California Über Alles (0.93), Sex Pistols - Sub-Mission (0.93), \n",
      "  David Guetta - Say My Name -> Dua Lipa - Want To (0.77), David Guetta - She Knows How To Love Me (feat. Jess Glynne & Stefflon Don) (0.77), Lost Frequencies - Like I Love You (0.75), David Guetta - Blame It On Love (feat. Madison Beer) (0.75), Sigala - Just Got Paid (0.74), James Hype - No Drama (feat. Craig David) (0.73), Major Lazer - All My Life (feat. Burna Boy) (0.73), Cris Cab - Just Wanna Love You (feat. J. Balvin) (0.72), \n",
      "  Andy Williams - Can't Take My Eyes Off You -> Frank Sinatra - My Way - Remastered 2008 (0.95), Henry Mancini - Moon River(Original Main Title) (0.94), Laura Fygi - La vie en rose (0.94), Frank Sinatra - You Make Me Feel So Young (0.93), Barry Manilow - Can't Smile Without You (0.93), Nat King Cole - Let There Be Love (0.93), Perry Como - Magic Moments (with Mitchell Ayres and His Orchestra & The Ray Charles Singers) (0.93), Halie Loren - Beyond the Sea (0.92), \n",
      "\n",
      "#9 loss = 350.8976 elapsed time = 10.0 minutes 1.3627538681030273 seconds\n",
      "Saving model...\n",
      "  The Police - Roxanne -> U2 - Sunday Bloody Sunday (0.87), The Police - Message In A Bottle (0.87), The Police - Walking On The Moon (0.84), Oasis - Don't Look Back In Anger (0.84), The Cure - Friday I'm In Love (0.84), U2 - New Year's Day (0.84), The Police - So Lonely (0.84), Dire Straits - Sultans Of Swing (0.84), \n",
      "  A Tribe Called Quest - Can I Kick It? -> A Tribe Called Quest - Award Tour (0.78), A Tribe Called Quest - Electric Relaxation (0.77), A Tribe Called Quest - Buggin' Out (0.76), A Tribe Called Quest - I Left My Wallet in El Segundo (0.76), Biz Markie - Just A Friend (0.76), Pete Rock & C.L. Smooth - They Reminisce Over You (0.75), Wu-Tang Clan - Protect Ya Neck (0.75), A Tribe Called Quest - Check the Rhime (0.75), \n",
      "  James Brown - Get Up Offa That Thing -> James Brown - Papa's Got A Brand New Bag (0.91), Commodores - Brick House (0.89), War - Why Can't We Be Friends? (0.89), James Brown - Get Up (I Feel Like Being A) Sex Machine - Pt. 1 & 2 (0.88), The Temptations - Get Ready (0.87), KC & The Sunshine Band - Get Down Tonight (0.87), Marvin Gaye - Got To Give It Up (Part 1) (0.87), James Brown - Get Up Offa That Thing (0.87), \n",
      "  Nirvana - Smells Like Teen Spirit -> Nirvana - Come As You Are (0.88), Nirvana - Lithium (0.84), Nirvana - Heart-Shaped Box (0.84), Nirvana - Rape Me (0.82), The White Stripes - Seven Nation Army (0.81), Guns N' Roses - Knockin' On Heaven's Door (0.81), Nirvana - Smells Like Teen Spirit (0.80), Back In Black - Highway to Hell (0.80), \n",
      "  Bob Marley & The Wailers - Three Little Birds -> Bob Marley & The Wailers - Buffalo Soldier (0.85), Bob Marley & The Wailers - One Love / People Get Ready (0.82), Bob Marley & The Wailers - Redemption Song (0.81), Bob Marley & The Wailers - Could You Be Loved (0.81), Bob Marley & The Wailers - Jamming (0.80), Bob Marley & The Wailers - Is This Love (0.79), Bob Marley & The Wailers - No Woman, No Cry - Live At The Lyceum, London/1975 (0.76), Bob Marley & The Wailers - Three Little Birds (0.73), \n",
      "  The Cure - Just Like Heaven -> The Cure - Close To Me - Remastered (0.90), The Cure - Boys Don't Cry [Single Version] (0.89), Modern English - I Melt With You (0.87), The Cure - Pictures Of You (0.86), The Cure - Lovesong (0.86), The Cure - Friday I'm In Love (0.83), Modern English - I Melt With You (7\" Mix) (0.83), Depeche Mode - Policy Of Truth - 2006 Remastered Version (0.83), \n",
      "  Frank Sinatra - My Way -> Frank Sinatra - Strangers In The Night (0.85), Frank Sinatra - That's Life (0.83), Frank Sinatra - Fly Me To The Moon (0.83), Frank Sinatra - Theme From New York, New York (0.82), Frank Sinatra - I've Got You Under My Skin (0.82), Frank Sinatra - Come Fly With Me - Remastered (0.81), Frank Sinatra - Somethin' Stupid (0.79), Frank Sinatra - The Way You Look Tonight (0.79), \n",
      "  The Clash - Rock the Casbah -> Depeche Mode - Just Can't Get Enough - 2006 Digital Remaster (0.95), Duran Duran - The Reflex (0.95), Generation X - Dancing With Myself - EP Version (0.94), Midnight Oil - Beds Are Burning - Remastered (0.94), The Bangles - Walk Like An Egyptian (0.94), Duran Duran - Girls On Film (0.94), David Bowie - Modern Love - Single Version [Remastered] (0.94), Bow Wow Wow - I Want Candy (0.94), \n",
      "  The Rolling Stones - Sympathy For The Devil -> The Rolling Stones - Gimme Shelter (0.86), The Rolling Stones - You Can't Always Get What You Want (0.84), The Rolling Stones - (I Can't Get No) Satisfaction - Mono Version / Remastered 2002 (0.82), The Rolling Stones - Brown Sugar (0.82), The Who - Pinball Wizard (0.80), The Rolling Stones - Start Me Up - Remastered (0.80), The Who - My Generation (0.79), Steppenwolf - Magic Carpet Ride (0.78), \n",
      "  The Doors - Light My Fire -> The Doors - Break On Through (To The Other Side) (0.88), The Doors - Love Her Madly (0.86), The Doors - L.A. Woman (0.85), The Doors - People Are Strange (0.85), The Doors - Alabama Song (Whisky Bar) (0.84), The Doors - Love Me Two Times (0.83), The Doors - Touch Me (0.83), The Doors - Roadhouse Blues (0.81), \n",
      "  Eminem - Love The Way You Lie -> Eminem - Not Afraid (0.78), Eminem - The Monster (0.73), Rihanna - Love The Way You Lie (Part II) - Pt. 2 (0.70), Eminem - When I'm Gone (0.69), Eminem - Space Bound (0.69), Eminem - Headlights (0.67), Rihanna - Love The Way You Lie (Part II) - Pt. 2 (0.67), Eminem - The Monster (0.66), \n",
      "  Daft Punk - Get Lucky -> Daft Punk - Get Lucky (feat. Pharrell Williams & Nile Rodgers) - Radio Edit (0.83), Daft Punk - Lose Yourself to Dance (0.81), Daft Punk - Give Life Back to Music (0.80), Daft Punk - One More Time (0.78), Daft Punk - Doin' it Right (0.76), Daft Punk - Instant Crush (0.76), Daft Punk - Fragments of Time (0.74), Daft Punk - Harder Better Faster Stronger (0.73), \n",
      "  John Coltrane - My Favorite Things -> Ruth Brown - I Don't Know (0.96), The J.B.'s - Pass The Peas (0.95), Stan Getz - Desafinado (0.95), John Coltrane - Naima (0.95), Gil Scott-Heron - Lady Day and John Coltrane (0.95), Bobby \"Blue\" Bland - I\\'ll Take Care Of You - Single Version (0.94), Charlie Parker - Summertime (0.94), Miles Davis - Freddie Freeloader (0.94), \n",
      "  Sex Pistols - God Save The Queen -> Sex Pistols - Pretty Vacant (0.96), The Jam - In The City (0.95), Sex Pistols - Anarchy In The U.K. (0.94), Sex Pistols - EMI (0.94), Black Flag - Rise Above (0.93), Sex Pistols - Bodies (0.93), Sex Pistols - Holidays In The Sun (0.93), Sex Pistols - Sub-Mission (0.93), \n",
      "  David Guetta - Say My Name -> Dua Lipa - Want To (0.77), David Guetta - She Knows How To Love Me (feat. Jess Glynne & Stefflon Don) (0.75), Lost Frequencies - Like I Love You (0.74), David Guetta - Blame It On Love (feat. Madison Beer) (0.74), Sigala - Just Got Paid (0.73), Major Lazer - All My Life (feat. Burna Boy) (0.72), James Hype - No Drama (feat. Craig David) (0.72), Alex Sensation - La Diabla (0.71), \n",
      "  Andy Williams - Can't Take My Eyes Off You -> Frank Sinatra - My Way - Remastered 2008 (0.94), Laura Fygi - La vie en rose (0.93), Barry Manilow - Can't Smile Without You (0.93), Frank Sinatra - You Make Me Feel So Young (0.93), Henry Mancini - Moon River(Original Main Title) (0.93), Perry Como - Magic Moments (with Mitchell Ayres and His Orchestra & The Ray Charles Singers) (0.92), Nat King Cole - Let There Be Love (0.92), Roberta Flack - Killing Me Softly With His Song (0.91), \n",
      "\n",
      "#10 loss = 118.8832 elapsed time = 11.0 minutes 3.039332866668701 seconds\n",
      "Saving model...\n",
      "  The Police - Roxanne -> U2 - Sunday Bloody Sunday (0.86), The Police - Message In A Bottle (0.86), The Cure - Friday I'm In Love (0.83), Oasis - Don't Look Back In Anger (0.83), The Police - Walking On The Moon (0.83), U2 - New Year's Day (0.83), The Police - So Lonely (0.83), Dire Straits - Sultans Of Swing (0.82), \n",
      "  A Tribe Called Quest - Can I Kick It? -> A Tribe Called Quest - Award Tour (0.78), A Tribe Called Quest - Electric Relaxation (0.77), A Tribe Called Quest - I Left My Wallet in El Segundo (0.76), Biz Markie - Just A Friend (0.75), A Tribe Called Quest - Buggin' Out (0.75), A Tribe Called Quest - Check the Rhime (0.75), Pete Rock & C.L. Smooth - They Reminisce Over You (0.74), Mos Def - Mathematics (0.74), \n",
      "  James Brown - Get Up Offa That Thing -> James Brown - Papa's Got A Brand New Bag (0.90), James Brown - Get Up (I Feel Like Being A) Sex Machine - Pt. 1 & 2 (0.88), War - Why Can't We Be Friends? (0.88), Commodores - Brick House (0.87), The Temptations - Get Ready (0.87), KC & The Sunshine Band - Get Down Tonight (0.86), Marvin Gaye - Got To Give It Up (Part 1) (0.86), The O'Jays - Love Train (0.86), \n",
      "  Nirvana - Smells Like Teen Spirit -> Nirvana - Come As You Are (0.86), Nirvana - Heart-Shaped Box (0.83), Nirvana - Lithium (0.83), Nirvana - Rape Me (0.81), The White Stripes - Seven Nation Army (0.80), Nirvana - Smells Like Teen Spirit (0.80), Guns N' Roses - Knockin' On Heaven's Door (0.79), Back In Black - Highway to Hell (0.78), \n",
      "  Bob Marley & The Wailers - Three Little Birds -> Bob Marley & The Wailers - Buffalo Soldier (0.84), Bob Marley & The Wailers - One Love / People Get Ready (0.83), Bob Marley & The Wailers - Redemption Song (0.81), Bob Marley & The Wailers - Could You Be Loved (0.80), Bob Marley & The Wailers - Jamming (0.80), Bob Marley & The Wailers - Is This Love (0.79), Bob Marley & The Wailers - No Woman, No Cry - Live At The Lyceum, London/1975 (0.76), Bob Marley & The Wailers - Jamming (0.73), \n",
      "  The Cure - Just Like Heaven -> The Cure - Close To Me - Remastered (0.90), The Cure - Boys Don't Cry [Single Version] (0.89), Modern English - I Melt With You (0.87), The Cure - Pictures Of You (0.86), The Cure - Lovesong (0.86), Modern English - I Melt With You (7\" Mix) (0.83), Morrissey - Suedehead - 2011 Remastered Version (0.83), The Cure - Fascination Street (0.83), \n",
      "  Frank Sinatra - My Way -> Frank Sinatra - Strangers In The Night (0.85), Frank Sinatra - That's Life (0.83), Frank Sinatra - Fly Me To The Moon (0.82), Frank Sinatra - Theme From New York, New York (0.82), Frank Sinatra - I've Got You Under My Skin (0.81), Frank Sinatra - Come Fly With Me - Remastered (0.81), Frank Sinatra - Somethin' Stupid (0.78), Frank Sinatra - Chicago (0.78), \n",
      "  The Clash - Rock the Casbah -> Depeche Mode - Just Can't Get Enough - 2006 Digital Remaster (0.95), Duran Duran - The Reflex (0.94), Generation X - Dancing With Myself - EP Version (0.94), The Bangles - Walk Like An Egyptian (0.94), Midnight Oil - Beds Are Burning - Remastered (0.94), David Bowie - Modern Love - Single Version [Remastered] (0.93), Dead Or Alive - Brand New Lover - Edit (0.93), Frankie Goes To Hollywood - Relax (0.93), \n",
      "  The Rolling Stones - Sympathy For The Devil -> The Rolling Stones - Gimme Shelter (0.85), The Rolling Stones - You Can't Always Get What You Want (0.83), The Rolling Stones - (I Can't Get No) Satisfaction - Mono Version / Remastered 2002 (0.81), The Rolling Stones - Brown Sugar (0.81), The Rolling Stones - Start Me Up - Remastered (0.79), The Who - My Generation (0.78), The Who - Pinball Wizard (0.78), The Rolling Stones - Paint It, Black (0.76), \n",
      "  The Doors - Light My Fire -> The Doors - Break On Through (To The Other Side) (0.87), The Doors - Love Her Madly (0.85), The Doors - People Are Strange (0.84), The Doors - L.A. Woman (0.83), The Doors - Alabama Song (Whisky Bar) (0.83), The Doors - Love Me Two Times (0.82), The Doors - Touch Me (0.82), The Doors - Roadhouse Blues (0.80), \n",
      "  Eminem - Love The Way You Lie -> Eminem - Not Afraid (0.78), Eminem - The Monster (0.71), Rihanna - Love The Way You Lie (Part II) - Pt. 2 (0.70), Eminem - When I'm Gone (0.68), Eminem - Space Bound (0.68), Rihanna - Love The Way You Lie (Part II) - Pt. 2 (0.67), Eminem - Headlights (0.67), Eminem - The Monster (0.65), \n",
      "  Daft Punk - Get Lucky -> Daft Punk - Get Lucky (feat. Pharrell Williams & Nile Rodgers) - Radio Edit (0.82), Daft Punk - Give Life Back to Music (0.80), Daft Punk - Lose Yourself to Dance (0.79), Daft Punk - One More Time (0.78), Daft Punk - Instant Crush (0.76), Daft Punk - Doin' it Right (0.76), Daft Punk - Fragments of Time (0.74), Daft Punk - Harder Better Faster Stronger (0.72), \n",
      "  John Coltrane - My Favorite Things -> Ruth Brown - I Don't Know (0.96), Stan Getz - Desafinado (0.95), The J.B.'s - Pass The Peas (0.94), John Coltrane - Naima (0.94), Gil Scott-Heron - Lady Day and John Coltrane (0.94), Bobby \"Blue\" Bland - I\\'ll Take Care Of You - Single Version (0.94), Miles Davis - Freddie Freeloader (0.94), Charlie Parker - Summertime (0.94), \n",
      "  Sex Pistols - God Save The Queen -> Sex Pistols - Pretty Vacant (0.95), The Jam - In The City (0.95), Sex Pistols - Anarchy In The U.K. (0.94), Sex Pistols - EMI (0.93), Sex Pistols - Bodies (0.93), Sex Pistols - Holidays In The Sun (0.93), Black Flag - Rise Above (0.93), Sex Pistols - Sub-Mission (0.93), \n",
      "  David Guetta - Say My Name -> Dua Lipa - Want To (0.76), David Guetta - She Knows How To Love Me (feat. Jess Glynne & Stefflon Don) (0.75), David Guetta - Blame It On Love (feat. Madison Beer) (0.73), Lost Frequencies - Like I Love You (0.73), Sigala - Just Got Paid (0.72), David Guetta - Don't Leave Me Alone (feat. Anne-Marie) (0.72), Major Lazer - All My Life (feat. Burna Boy) (0.72), James Hype - No Drama (feat. Craig David) (0.71), \n",
      "  Andy Williams - Can't Take My Eyes Off You -> Frank Sinatra - My Way - Remastered 2008 (0.94), Laura Fygi - La vie en rose (0.93), Barry Manilow - Can't Smile Without You (0.93), Frank Sinatra - You Make Me Feel So Young (0.93), Henry Mancini - Moon River(Original Main Title) (0.92), Perry Como - Magic Moments (with Mitchell Ayres and His Orchestra & The Ray Charles Singers) (0.92), Nat King Cole - Let There Be Love (0.92), Nat King Cole - Autumn Leaves - Remastered (0.91), \n",
      "\n",
      "#11 loss = 70.8432 elapsed time = 12.0 minutes 1.882383108139038 seconds\n",
      "Saving model...\n",
      "  The Police - Roxanne -> U2 - Sunday Bloody Sunday (0.84), The Police - Message In A Bottle (0.84), Oasis - Don't Look Back In Anger (0.82), The Cure - Friday I'm In Love (0.82), The Police - Walking On The Moon (0.82), U2 - New Year's Day (0.81), The Police - So Lonely (0.81), Eric Clapton - Cocaine (0.81), \n",
      "  A Tribe Called Quest - Can I Kick It? -> A Tribe Called Quest - Award Tour (0.76), Biz Markie - Just A Friend (0.75), A Tribe Called Quest - I Left My Wallet in El Segundo (0.75), A Tribe Called Quest - Electric Relaxation (0.75), A Tribe Called Quest - Buggin' Out (0.74), A Tribe Called Quest - Check the Rhime (0.74), Pete Rock & C.L. Smooth - They Reminisce Over You (0.74), Mos Def - Mathematics (0.73), \n",
      "  James Brown - Get Up Offa That Thing -> James Brown - Papa's Got A Brand New Bag (0.90), James Brown - Get Up (I Feel Like Being A) Sex Machine - Pt. 1 & 2 (0.87), Commodores - Brick House (0.87), War - Why Can't We Be Friends? (0.87), The Temptations - Get Ready (0.87), The O'Jays - Love Train (0.86), KC & The Sunshine Band - Get Down Tonight (0.86), Marvin Gaye - Got To Give It Up (Part 1) (0.86), \n",
      "  Nirvana - Smells Like Teen Spirit -> Nirvana - Come As You Are (0.86), Nirvana - Heart-Shaped Box (0.83), Nirvana - Lithium (0.83), Nirvana - Rape Me (0.80), The White Stripes - Seven Nation Army (0.79), Guns N' Roses - Knockin' On Heaven's Door (0.79), Nirvana - Smells Like Teen Spirit (0.79), Back In Black - Highway to Hell (0.78), \n",
      "  Bob Marley & The Wailers - Three Little Birds -> Bob Marley & The Wailers - Buffalo Soldier (0.84), Bob Marley & The Wailers - One Love / People Get Ready (0.82), Bob Marley & The Wailers - Redemption Song (0.80), Bob Marley & The Wailers - Could You Be Loved (0.79), Bob Marley & The Wailers - Jamming (0.79), Bob Marley & The Wailers - Is This Love (0.78), Bob Marley & The Wailers - No Woman, No Cry - Live At The Lyceum, London/1975 (0.76), Bob Marley & The Wailers - Three Little Birds (0.72), \n",
      "  The Cure - Just Like Heaven -> The Cure - Close To Me - Remastered (0.90), The Cure - Boys Don't Cry [Single Version] (0.88), Modern English - I Melt With You (0.86), The Cure - Pictures Of You (0.85), The Cure - Lovesong (0.84), Modern English - I Melt With You (7\" Mix) (0.83), The Cure - Friday I'm In Love (0.82), Morrissey - Suedehead - 2011 Remastered Version (0.82), \n",
      "  Frank Sinatra - My Way -> Frank Sinatra - Strangers In The Night (0.84), Frank Sinatra - That's Life (0.83), Frank Sinatra - Fly Me To The Moon (0.81), Frank Sinatra - Theme From New York, New York (0.81), Frank Sinatra - I've Got You Under My Skin (0.81), Frank Sinatra - Come Fly With Me - Remastered (0.80), Frank Sinatra - Somethin' Stupid (0.78), Frank Sinatra - Chicago (0.77), \n",
      "  The Clash - Rock the Casbah -> Depeche Mode - Just Can't Get Enough - 2006 Digital Remaster (0.94), Duran Duran - The Reflex (0.94), Generation X - Dancing With Myself - EP Version (0.94), The Bangles - Walk Like An Egyptian (0.93), Midnight Oil - Beds Are Burning - Remastered (0.93), Duran Duran - Girls On Film (0.93), David Bowie - Modern Love - Single Version [Remastered] (0.93), Frankie Goes To Hollywood - Relax (0.93), \n",
      "  The Rolling Stones - Sympathy For The Devil -> The Rolling Stones - Gimme Shelter (0.85), The Rolling Stones - You Can't Always Get What You Want (0.83), The Rolling Stones - (I Can't Get No) Satisfaction - Mono Version / Remastered 2002 (0.81), The Rolling Stones - Brown Sugar (0.81), The Rolling Stones - Start Me Up - Remastered (0.79), The Who - Pinball Wizard (0.77), The Who - My Generation (0.77), The Rolling Stones - Paint It, Black (0.76), \n",
      "  The Doors - Light My Fire -> The Doors - Break On Through (To The Other Side) (0.87), The Doors - Love Her Madly (0.84), The Doors - People Are Strange (0.83), The Doors - L.A. Woman (0.83), The Doors - Alabama Song (Whisky Bar) (0.83), The Doors - Touch Me (0.81), The Doors - Love Me Two Times (0.81), The Doors - Hello, I Love You (0.79), \n",
      "  Eminem - Love The Way You Lie -> Eminem - Not Afraid (0.78), Eminem - The Monster (0.71), Rihanna - Love The Way You Lie (Part II) - Pt. 2 (0.70), Eminem - When I'm Gone (0.69), Eminem - Space Bound (0.68), Eminem - Headlights (0.66), Rihanna - Love The Way You Lie (Part II) - Pt. 2 (0.66), Eminem - The Monster (0.65), \n",
      "  Daft Punk - Get Lucky -> Daft Punk - Get Lucky (feat. Pharrell Williams & Nile Rodgers) - Radio Edit (0.82), Daft Punk - Give Life Back to Music (0.79), Daft Punk - Lose Yourself to Dance (0.79), Daft Punk - One More Time (0.78), Daft Punk - Instant Crush (0.75), Daft Punk - Doin' it Right (0.75), Daft Punk - Fragments of Time (0.74), Daft Punk - Harder Better Faster Stronger (0.72), \n",
      "  John Coltrane - My Favorite Things -> Ruth Brown - I Don't Know (0.95), Stan Getz - Desafinado (0.94), The J.B.'s - Pass The Peas (0.94), Gil Scott-Heron - Lady Day and John Coltrane (0.94), John Coltrane - Naima (0.94), Bobby \"Blue\" Bland - I\\'ll Take Care Of You - Single Version (0.94), Miles Davis - Freddie Freeloader (0.94), Duke Ellington - Take The \"A\" Train (0.94), \n",
      "  Sex Pistols - God Save The Queen -> Sex Pistols - Pretty Vacant (0.95), The Jam - In The City (0.95), Sex Pistols - Anarchy In The U.K. (0.93), Sex Pistols - EMI (0.93), Sex Pistols - Bodies (0.93), Sex Pistols - Sub-Mission (0.93), Sex Pistols - Holidays In The Sun (0.93), Black Flag - Rise Above (0.93), \n",
      "  David Guetta - Say My Name -> Dua Lipa - Want To (0.76), David Guetta - She Knows How To Love Me (feat. Jess Glynne & Stefflon Don) (0.74), Lost Frequencies - Like I Love You (0.73), David Guetta - Blame It On Love (feat. Madison Beer) (0.72), David Guetta - Don't Leave Me Alone (feat. Anne-Marie) (0.71), Sigala - Just Got Paid (0.71), Major Lazer - All My Life (feat. Burna Boy) (0.70), James Hype - No Drama (feat. Craig David) (0.70), \n",
      "  Andy Williams - Can't Take My Eyes Off You -> Frank Sinatra - My Way - Remastered 2008 (0.93), Laura Fygi - La vie en rose (0.93), Barry Manilow - Can't Smile Without You (0.93), Frank Sinatra - You Make Me Feel So Young (0.92), Henry Mancini - Moon River(Original Main Title) (0.92), Perry Como - Magic Moments (with Mitchell Ayres and His Orchestra & The Ray Charles Singers) (0.91), Nat King Cole - Let There Be Love (0.91), Nat King Cole - Autumn Leaves - Remastered (0.91), \n",
      "\n",
      "#12 loss = 68.2584 elapsed time = 12.0 minutes 59.83985352516174 seconds\n",
      "Saving model...\n",
      "  The Police - Roxanne -> U2 - Sunday Bloody Sunday (0.84), The Police - Message In A Bottle (0.83), Oasis - Don't Look Back In Anger (0.82), The Police - Walking On The Moon (0.81), The Cure - Friday I'm In Love (0.81), U2 - New Year's Day (0.81), The Police - So Lonely (0.81), Eric Clapton - Cocaine (0.81), \n",
      "  A Tribe Called Quest - Can I Kick It? -> A Tribe Called Quest - Award Tour (0.76), Biz Markie - Just A Friend (0.74), A Tribe Called Quest - I Left My Wallet in El Segundo (0.74), A Tribe Called Quest - Electric Relaxation (0.74), A Tribe Called Quest - Check the Rhime (0.73), A Tribe Called Quest - Buggin' Out (0.73), Pete Rock & C.L. Smooth - They Reminisce Over You (0.73), A Tribe Called Quest - Scenario - LP Mix (0.72), \n",
      "  James Brown - Get Up Offa That Thing -> James Brown - Papa's Got A Brand New Bag (0.90), James Brown - Get Up (I Feel Like Being A) Sex Machine - Pt. 1 & 2 (0.87), War - Why Can't We Be Friends? (0.87), Commodores - Brick House (0.86), The Temptations - Get Ready (0.86), The O'Jays - Love Train (0.86), KC & The Sunshine Band - Get Down Tonight (0.85), Marvin Gaye - Got To Give It Up (Part 1) (0.85), \n",
      "  Nirvana - Smells Like Teen Spirit -> Nirvana - Come As You Are (0.85), Nirvana - Heart-Shaped Box (0.82), Nirvana - Lithium (0.82), Nirvana - Rape Me (0.80), Guns N' Roses - Knockin' On Heaven's Door (0.79), The White Stripes - Seven Nation Army (0.79), Nirvana - Smells Like Teen Spirit (0.78), Nirvana - In Bloom - Nevermind Version (0.78), \n",
      "  Bob Marley & The Wailers - Three Little Birds -> Bob Marley & The Wailers - Buffalo Soldier (0.83), Bob Marley & The Wailers - One Love / People Get Ready (0.82), Bob Marley & The Wailers - Redemption Song (0.80), Bob Marley & The Wailers - Could You Be Loved (0.79), Bob Marley & The Wailers - Jamming (0.78), Bob Marley & The Wailers - Is This Love (0.78), Bob Marley & The Wailers - No Woman, No Cry - Live At The Lyceum, London/1975 (0.76), Bob Marley & The Wailers - Three Little Birds (0.72), \n",
      "  The Cure - Just Like Heaven -> The Cure - Close To Me - Remastered (0.90), The Cure - Boys Don't Cry [Single Version] (0.88), Modern English - I Melt With You (0.86), The Cure - Pictures Of You (0.85), The Cure - Lovesong (0.84), Modern English - I Melt With You (7\" Mix) (0.83), Morrissey - Suedehead - 2011 Remastered Version (0.82), The Cure - Friday I'm In Love (0.82), \n",
      "  Frank Sinatra - My Way -> Frank Sinatra - Strangers In The Night (0.84), Frank Sinatra - That's Life (0.82), Frank Sinatra - Fly Me To The Moon (0.81), Frank Sinatra - I've Got You Under My Skin (0.80), Frank Sinatra - Theme From New York, New York (0.80), Frank Sinatra - Come Fly With Me - Remastered (0.80), Frank Sinatra - Chicago (0.77), Frank Sinatra - Somethin' Stupid (0.77), \n",
      "  The Clash - Rock the Casbah -> Depeche Mode - Just Can't Get Enough - 2006 Digital Remaster (0.94), Duran Duran - The Reflex (0.94), Generation X - Dancing With Myself - EP Version (0.94), The Bangles - Walk Like An Egyptian (0.93), Midnight Oil - Beds Are Burning - Remastered (0.93), Duran Duran - Girls On Film (0.93), David Bowie - Modern Love - Single Version [Remastered] (0.93), Frankie Goes To Hollywood - Relax (0.93), \n",
      "  The Rolling Stones - Sympathy For The Devil -> The Rolling Stones - Gimme Shelter (0.84), The Rolling Stones - You Can't Always Get What You Want (0.82), The Rolling Stones - (I Can't Get No) Satisfaction - Mono Version / Remastered 2002 (0.81), The Rolling Stones - Brown Sugar (0.81), The Rolling Stones - Start Me Up - Remastered (0.79), The Who - My Generation (0.77), The Who - Pinball Wizard (0.77), The Rolling Stones - Paint It, Black (0.76), \n",
      "  The Doors - Light My Fire -> The Doors - Break On Through (To The Other Side) (0.87), The Doors - Love Her Madly (0.84), The Doors - People Are Strange (0.83), The Doors - L.A. Woman (0.82), The Doors - Alabama Song (Whisky Bar) (0.82), The Doors - Touch Me (0.80), The Doors - Love Me Two Times (0.80), The Doors - Hello, I Love You (0.79), \n",
      "  Eminem - Love The Way You Lie -> Eminem - Not Afraid (0.78), Eminem - The Monster (0.71), Rihanna - Love The Way You Lie (Part II) - Pt. 2 (0.70), Eminem - When I'm Gone (0.68), Eminem - Space Bound (0.67), Rihanna - Love The Way You Lie (Part II) - Pt. 2 (0.66), Eminem - Headlights (0.65), Eminem - The Monster (0.65), \n",
      "  Daft Punk - Get Lucky -> Daft Punk - Get Lucky (feat. Pharrell Williams & Nile Rodgers) - Radio Edit (0.82), Daft Punk - Give Life Back to Music (0.78), Daft Punk - One More Time (0.78), Daft Punk - Lose Yourself to Dance (0.78), Daft Punk - Instant Crush (0.74), Daft Punk - Doin' it Right (0.74), Daft Punk - Fragments of Time (0.73), Daft Punk - Harder Better Faster Stronger (0.72), \n",
      "  John Coltrane - My Favorite Things -> Ruth Brown - I Don't Know (0.95), Stan Getz - Desafinado (0.95), Gil Scott-Heron - Lady Day and John Coltrane (0.94), The J.B.'s - Pass The Peas (0.94), John Coltrane - Naima (0.94), Charlie Parker - Summertime (0.94), Bobby \"Blue\" Bland - I\\'ll Take Care Of You - Single Version (0.94), Duke Ellington - My Little Brown Book (0.94), \n",
      "  Sex Pistols - God Save The Queen -> Sex Pistols - Pretty Vacant (0.95), The Jam - In The City (0.95), Sex Pistols - Anarchy In The U.K. (0.93), Sex Pistols - EMI (0.93), Sex Pistols - Bodies (0.93), Sex Pistols - Sub-Mission (0.92), Black Flag - Rise Above (0.92), Sex Pistols - Holidays In The Sun (0.92), \n",
      "  David Guetta - Say My Name -> Dua Lipa - Want To (0.76), David Guetta - She Knows How To Love Me (feat. Jess Glynne & Stefflon Don) (0.74), Lost Frequencies - Like I Love You (0.72), David Guetta - Blame It On Love (feat. Madison Beer) (0.72), Sigala - Just Got Paid (0.72), David Guetta - Don't Leave Me Alone (feat. Anne-Marie) (0.71), Major Lazer - All My Life (feat. Burna Boy) (0.70), Cris Cab - Just Wanna Love You (feat. J. Balvin) (0.70), \n",
      "  Andy Williams - Can't Take My Eyes Off You -> Frank Sinatra - My Way - Remastered 2008 (0.94), Laura Fygi - La vie en rose (0.93), Barry Manilow - Can't Smile Without You (0.93), Frank Sinatra - You Make Me Feel So Young (0.92), Henry Mancini - Moon River(Original Main Title) (0.92), Perry Como - Magic Moments (with Mitchell Ayres and His Orchestra & The Ray Charles Singers) (0.91), Nat King Cole - Autumn Leaves - Remastered (0.91), Nat King Cole - Let There Be Love (0.91), \n",
      "\n",
      "#13 loss = 66.2512 elapsed time = 14.0 minutes 2.5837833881378174 seconds\n",
      "Saving model...\n",
      "  The Police - Roxanne -> U2 - Sunday Bloody Sunday (0.84), The Police - Message In A Bottle (0.83), Oasis - Don't Look Back In Anger (0.81), The Police - Walking On The Moon (0.81), The Cure - Friday I'm In Love (0.81), Eric Clapton - Cocaine (0.81), U2 - New Year's Day (0.81), The Police - So Lonely (0.80), \n",
      "  A Tribe Called Quest - Can I Kick It? -> A Tribe Called Quest - Award Tour (0.76), Biz Markie - Just A Friend (0.74), A Tribe Called Quest - Electric Relaxation (0.74), A Tribe Called Quest - I Left My Wallet in El Segundo (0.74), A Tribe Called Quest - Buggin' Out (0.73), A Tribe Called Quest - Check the Rhime (0.73), Pete Rock & C.L. Smooth - They Reminisce Over You (0.72), A Tribe Called Quest - Scenario - LP Mix (0.71), \n",
      "  James Brown - Get Up Offa That Thing -> James Brown - Papa's Got A Brand New Bag (0.90), James Brown - Get Up (I Feel Like Being A) Sex Machine - Pt. 1 & 2 (0.87), War - Why Can't We Be Friends? (0.87), The Temptations - Get Ready (0.86), Commodores - Brick House (0.86), The O'Jays - Love Train (0.85), KC & The Sunshine Band - Get Down Tonight (0.85), Marvin Gaye - Got To Give It Up (Part 1) (0.85), \n",
      "  Nirvana - Smells Like Teen Spirit -> Nirvana - Come As You Are (0.85), Nirvana - Heart-Shaped Box (0.82), Nirvana - Lithium (0.82), Nirvana - Rape Me (0.79), Guns N' Roses - Knockin' On Heaven's Door (0.79), The White Stripes - Seven Nation Army (0.78), Nirvana - Smells Like Teen Spirit (0.78), Back In Black - Highway to Hell (0.78), \n",
      "  Bob Marley & The Wailers - Three Little Birds -> Bob Marley & The Wailers - Buffalo Soldier (0.83), Bob Marley & The Wailers - One Love / People Get Ready (0.81), Bob Marley & The Wailers - Redemption Song (0.80), Bob Marley & The Wailers - Jamming (0.79), Bob Marley & The Wailers - Could You Be Loved (0.78), Bob Marley & The Wailers - Is This Love (0.77), Bob Marley & The Wailers - No Woman, No Cry - Live At The Lyceum, London/1975 (0.75), Bob Marley & The Wailers - Three Little Birds (0.72), \n",
      "  The Cure - Just Like Heaven -> The Cure - Close To Me - Remastered (0.90), The Cure - Boys Don't Cry [Single Version] (0.88), Modern English - I Melt With You (0.85), The Cure - Pictures Of You (0.85), The Cure - Lovesong (0.84), Modern English - I Melt With You (7\" Mix) (0.82), The Cure - Friday I'm In Love (0.82), Morrissey - Suedehead - 2011 Remastered Version (0.81), \n",
      "  Frank Sinatra - My Way -> Frank Sinatra - Strangers In The Night (0.84), Frank Sinatra - That's Life (0.82), Frank Sinatra - I've Got You Under My Skin (0.80), Frank Sinatra - Fly Me To The Moon (0.80), Frank Sinatra - Theme From New York, New York (0.80), Frank Sinatra - Come Fly With Me - Remastered (0.80), Frank Sinatra - Somethin' Stupid (0.77), Frank Sinatra - Chicago (0.77), \n",
      "  The Clash - Rock the Casbah -> Depeche Mode - Just Can't Get Enough - 2006 Digital Remaster (0.94), Duran Duran - The Reflex (0.94), Generation X - Dancing With Myself - EP Version (0.94), The Bangles - Walk Like An Egyptian (0.93), Midnight Oil - Beds Are Burning - Remastered (0.93), Frankie Goes To Hollywood - Relax (0.93), David Bowie - Modern Love - Single Version [Remastered] (0.93), Duran Duran - Girls On Film (0.93), \n",
      "  The Rolling Stones - Sympathy For The Devil -> The Rolling Stones - Gimme Shelter (0.84), The Rolling Stones - You Can't Always Get What You Want (0.82), The Rolling Stones - (I Can't Get No) Satisfaction - Mono Version / Remastered 2002 (0.81), The Rolling Stones - Brown Sugar (0.80), The Rolling Stones - Start Me Up - Remastered (0.79), The Who - My Generation (0.76), The Who - Pinball Wizard (0.76), The Rolling Stones - Paint It, Black (0.76), \n",
      "  The Doors - Light My Fire -> The Doors - Break On Through (To The Other Side) (0.87), The Doors - Love Her Madly (0.84), The Doors - People Are Strange (0.83), The Doors - L.A. Woman (0.82), The Doors - Alabama Song (Whisky Bar) (0.82), The Doors - Touch Me (0.80), The Doors - Love Me Two Times (0.80), The Doors - Hello, I Love You (0.79), \n",
      "  Eminem - Love The Way You Lie -> Eminem - Not Afraid (0.78), Eminem - The Monster (0.71), Rihanna - Love The Way You Lie (Part II) - Pt. 2 (0.69), Eminem - When I'm Gone (0.68), Eminem - Space Bound (0.67), Rihanna - Love The Way You Lie (Part II) - Pt. 2 (0.66), Eminem - Headlights (0.65), Eminem - Lose Yourself - Soundtrack Version (0.65), \n",
      "  Daft Punk - Get Lucky -> Daft Punk - Get Lucky (feat. Pharrell Williams & Nile Rodgers) - Radio Edit (0.82), Daft Punk - One More Time (0.78), Daft Punk - Give Life Back to Music (0.78), Daft Punk - Lose Yourself to Dance (0.78), Daft Punk - Instant Crush (0.74), Daft Punk - Doin' it Right (0.74), Daft Punk - Fragments of Time (0.73), Daft Punk - Harder Better Faster Stronger (0.72), \n",
      "  John Coltrane - My Favorite Things -> Ruth Brown - I Don't Know (0.95), Stan Getz - Desafinado (0.94), Gil Scott-Heron - Lady Day and John Coltrane (0.94), John Coltrane - Naima (0.94), The J.B.'s - Pass The Peas (0.94), Charlie Parker - Summertime (0.94), Duke Ellington - My Little Brown Book (0.94), Bobby \"Blue\" Bland - I\\'ll Take Care Of You - Single Version (0.94), \n",
      "  Sex Pistols - God Save The Queen -> Sex Pistols - Pretty Vacant (0.95), The Jam - In The City (0.94), Sex Pistols - Anarchy In The U.K. (0.93), Sex Pistols - EMI (0.93), Sex Pistols - Bodies (0.93), Sex Pistols - Sub-Mission (0.92), Black Flag - Rise Above (0.92), Sex Pistols - Holidays In The Sun (0.92), \n",
      "  David Guetta - Say My Name -> Dua Lipa - Want To (0.76), David Guetta - She Knows How To Love Me (feat. Jess Glynne & Stefflon Don) (0.73), Lost Frequencies - Like I Love You (0.72), Sigala - Just Got Paid (0.72), David Guetta - Blame It On Love (feat. Madison Beer) (0.72), David Guetta - Don't Leave Me Alone (feat. Anne-Marie) (0.71), Major Lazer - All My Life (feat. Burna Boy) (0.70), James Hype - No Drama (feat. Craig David) (0.69), \n",
      "  Andy Williams - Can't Take My Eyes Off You -> Frank Sinatra - My Way - Remastered 2008 (0.94), Laura Fygi - La vie en rose (0.93), Barry Manilow - Can't Smile Without You (0.92), Frank Sinatra - You Make Me Feel So Young (0.92), Henry Mancini - Moon River(Original Main Title) (0.92), Perry Como - Magic Moments (with Mitchell Ayres and His Orchestra & The Ray Charles Singers) (0.91), Nat King Cole - Autumn Leaves - Remastered (0.91), Nat King Cole - Let There Be Love (0.91), \n",
      "\n",
      "#14 loss = 63.9896 elapsed time = 15.0 minutes 1.431255578994751 seconds\n",
      "Saving model...\n",
      "  The Police - Roxanne -> U2 - Sunday Bloody Sunday (0.84), The Police - Message In A Bottle (0.83), Oasis - Don't Look Back In Anger (0.81), The Police - Walking On The Moon (0.81), The Cure - Friday I'm In Love (0.81), Eric Clapton - Cocaine (0.81), U2 - New Year's Day (0.81), The Police - So Lonely (0.80), \n",
      "  A Tribe Called Quest - Can I Kick It? -> A Tribe Called Quest - Award Tour (0.75), Biz Markie - Just A Friend (0.74), A Tribe Called Quest - Electric Relaxation (0.74), A Tribe Called Quest - I Left My Wallet in El Segundo (0.74), A Tribe Called Quest - Buggin' Out (0.73), A Tribe Called Quest - Check the Rhime (0.73), Pete Rock & C.L. Smooth - They Reminisce Over You (0.72), Mos Def - Mathematics (0.71), \n",
      "  James Brown - Get Up Offa That Thing -> James Brown - Papa's Got A Brand New Bag (0.90), James Brown - Get Up (I Feel Like Being A) Sex Machine - Pt. 1 & 2 (0.87), War - Why Can't We Be Friends? (0.87), The Temptations - Get Ready (0.86), Commodores - Brick House (0.86), The O'Jays - Love Train (0.85), KC & The Sunshine Band - Get Down Tonight (0.85), Marvin Gaye - Got To Give It Up (Part 1) (0.85), \n",
      "  Nirvana - Smells Like Teen Spirit -> Nirvana - Come As You Are (0.85), Nirvana - Heart-Shaped Box (0.82), Nirvana - Lithium (0.82), Nirvana - Rape Me (0.79), Guns N' Roses - Knockin' On Heaven's Door (0.79), The White Stripes - Seven Nation Army (0.78), Nirvana - Smells Like Teen Spirit (0.78), Back In Black - Highway to Hell (0.78), \n",
      "  Bob Marley & The Wailers - Three Little Birds -> Bob Marley & The Wailers - Buffalo Soldier (0.83), Bob Marley & The Wailers - One Love / People Get Ready (0.81), Bob Marley & The Wailers - Redemption Song (0.80), Bob Marley & The Wailers - Jamming (0.78), Bob Marley & The Wailers - Could You Be Loved (0.78), Bob Marley & The Wailers - Is This Love (0.77), Bob Marley & The Wailers - No Woman, No Cry - Live At The Lyceum, London/1975 (0.75), Bob Marley & The Wailers - Three Little Birds (0.72), \n",
      "  The Cure - Just Like Heaven -> The Cure - Close To Me - Remastered (0.90), The Cure - Boys Don't Cry [Single Version] (0.88), Modern English - I Melt With You (0.85), The Cure - Pictures Of You (0.85), The Cure - Lovesong (0.84), Modern English - I Melt With You (7\" Mix) (0.82), The Cure - Friday I'm In Love (0.81), Morrissey - Suedehead - 2011 Remastered Version (0.81), \n",
      "  Frank Sinatra - My Way -> Frank Sinatra - Strangers In The Night (0.84), Frank Sinatra - That's Life (0.82), Frank Sinatra - I've Got You Under My Skin (0.80), Frank Sinatra - Fly Me To The Moon (0.80), Frank Sinatra - Theme From New York, New York (0.80), Frank Sinatra - Come Fly With Me - Remastered (0.79), Frank Sinatra - Somethin' Stupid (0.77), Frank Sinatra - Chicago (0.77), \n",
      "  The Clash - Rock the Casbah -> Depeche Mode - Just Can't Get Enough - 2006 Digital Remaster (0.94), Duran Duran - The Reflex (0.94), Generation X - Dancing With Myself - EP Version (0.94), The Bangles - Walk Like An Egyptian (0.93), Midnight Oil - Beds Are Burning - Remastered (0.93), Frankie Goes To Hollywood - Relax (0.93), David Bowie - Modern Love - Single Version [Remastered] (0.93), Bow Wow Wow - I Want Candy (0.93), \n",
      "  The Rolling Stones - Sympathy For The Devil -> The Rolling Stones - Gimme Shelter (0.84), The Rolling Stones - You Can't Always Get What You Want (0.82), The Rolling Stones - (I Can't Get No) Satisfaction - Mono Version / Remastered 2002 (0.80), The Rolling Stones - Brown Sugar (0.80), The Rolling Stones - Start Me Up - Remastered (0.79), The Who - My Generation (0.76), The Who - Pinball Wizard (0.76), The Rolling Stones - Paint It, Black (0.75), \n",
      "  The Doors - Light My Fire -> The Doors - Break On Through (To The Other Side) (0.87), The Doors - Love Her Madly (0.84), The Doors - People Are Strange (0.83), The Doors - L.A. Woman (0.82), The Doors - Alabama Song (Whisky Bar) (0.82), The Doors - Love Me Two Times (0.80), The Doors - Touch Me (0.80), The Doors - Hello, I Love You (0.79), \n",
      "  Eminem - Love The Way You Lie -> Eminem - Not Afraid (0.78), Eminem - The Monster (0.71), Rihanna - Love The Way You Lie (Part II) - Pt. 2 (0.69), Eminem - When I'm Gone (0.67), Eminem - Space Bound (0.67), Rihanna - Love The Way You Lie (Part II) - Pt. 2 (0.66), Eminem - Headlights (0.65), Eminem - Lose Yourself - Soundtrack Version (0.65), \n",
      "  Daft Punk - Get Lucky -> Daft Punk - Get Lucky (feat. Pharrell Williams & Nile Rodgers) - Radio Edit (0.82), Daft Punk - One More Time (0.78), Daft Punk - Give Life Back to Music (0.78), Daft Punk - Lose Yourself to Dance (0.78), Daft Punk - Instant Crush (0.74), Daft Punk - Doin' it Right (0.74), Daft Punk - Fragments of Time (0.72), Daft Punk - Harder Better Faster Stronger (0.72), \n",
      "  John Coltrane - My Favorite Things -> Ruth Brown - I Don't Know (0.95), Stan Getz - Desafinado (0.94), Gil Scott-Heron - Lady Day and John Coltrane (0.94), John Coltrane - Naima (0.94), The J.B.'s - Pass The Peas (0.94), Duke Ellington - My Little Brown Book (0.94), Charlie Parker - Summertime (0.94), Bobby \"Blue\" Bland - I\\'ll Take Care Of You - Single Version (0.94), \n",
      "  Sex Pistols - God Save The Queen -> Sex Pistols - Pretty Vacant (0.95), The Jam - In The City (0.94), Sex Pistols - Anarchy In The U.K. (0.93), Sex Pistols - Bodies (0.93), Sex Pistols - EMI (0.93), Sex Pistols - Sub-Mission (0.92), Black Flag - Rise Above (0.92), Sex Pistols - Holidays In The Sun (0.92), \n",
      "  David Guetta - Say My Name -> Dua Lipa - Want To (0.76), David Guetta - She Knows How To Love Me (feat. Jess Glynne & Stefflon Don) (0.73), Lost Frequencies - Like I Love You (0.72), Sigala - Just Got Paid (0.72), David Guetta - Blame It On Love (feat. Madison Beer) (0.72), David Guetta - Don't Leave Me Alone (feat. Anne-Marie) (0.71), Major Lazer - All My Life (feat. Burna Boy) (0.70), Rita Ora - Let You Love Me (0.69), \n",
      "  Andy Williams - Can't Take My Eyes Off You -> Frank Sinatra - My Way - Remastered 2008 (0.93), Laura Fygi - La vie en rose (0.92), Barry Manilow - Can't Smile Without You (0.92), Frank Sinatra - You Make Me Feel So Young (0.92), Henry Mancini - Moon River(Original Main Title) (0.92), Perry Como - Magic Moments (with Mitchell Ayres and His Orchestra & The Ray Charles Singers) (0.91), Nat King Cole - Autumn Leaves - Remastered (0.91), Nat King Cole - Let There Be Love (0.91), \n",
      "\n",
      "Word2Vec(vocab=452130, size=100, alpha=0.025)\n"
     ]
    }
   ],
   "source": [
    "model = gensim.models.Word2Vec(sentences=playlists, size=embedding_dim,\n",
    "                               min_count=min_count, window=window, iter=iter,\n",
    "                               batch_words=batch_words, compute_loss=True,\n",
    "                               callbacks=[logger()])\n",
    "print(model)"
   ]
  },
  {
   "cell_type": "markdown",
   "metadata": {
    "colab_type": "text",
    "id": "RAf_8blRa2v_"
   },
   "source": [
    "### ...or load one you made previously"
   ]
  },
  {
   "cell_type": "code",
   "execution_count": 3,
   "metadata": {
    "colab": {
     "base_uri": "https://localhost:8080/",
     "height": 34
    },
    "colab_type": "code",
    "executionInfo": {
     "elapsed": 3122,
     "status": "ok",
     "timestamp": 1555950793418,
     "user": {
      "displayName": "Rob Smith",
      "photoUrl": "https://lh5.googleusercontent.com/-xZI-Hs67nxE/AAAAAAAAAAI/AAAAAAAAEto/Ht0WZrlJWDw/s64/photo.jpg",
      "userId": "14546434662839057642"
     },
     "user_tz": -120
    },
    "id": "8rFA6oP-6Otz",
    "outputId": "67f33773-c844-460d-fcee-d58ea2f605a7"
   },
   "outputs": [
    {
     "name": "stdout",
     "output_type": "stream",
     "text": [
      "Word2Vec(vocab=452130, size=100, alpha=0.025)\n"
     ]
    }
   ],
   "source": [
    "model = gensim.models.Word2Vec.load('word2vec.model')\n",
    "print(model)"
   ]
  },
  {
   "cell_type": "markdown",
   "metadata": {},
   "source": [
    "### Save only tracks which appear in a minimum number of playlists"
   ]
  },
  {
   "cell_type": "code",
   "execution_count": null,
   "metadata": {},
   "outputs": [],
   "source": [
    "popular_tracks = {}\n",
    "for track in tracks:\n",
    "    if tracks[track][3] >= min_count:\n",
    "        popular_tracks[track] = [tracks[track][0], tracks[track][1], tracks[track][2]]\n",
    "print(len(popular_tracks))\n",
    "with open('popular_tracks.csv', 'a+', newline='', encoding='utf-8') as csvfile_tracks:\n",
    "    spamwriter_tracks = csv.writer(csvfile_tracks, delimiter=';')\n",
    "    for track in popular_tracks:\n",
    "        spamwriter_tracks.writerow([track + ';' + popular_tracks[track][0] + ';' + popular_tracks[track][1] + ';' + popular_tracks[track][2] + ';'])"
   ]
  },
  {
   "cell_type": "markdown",
   "metadata": {
    "colab_type": "text",
    "id": "xQkywDVaaBu1"
   },
   "source": [
    "### Get the Spotify id of a particular song"
   ]
  },
  {
   "cell_type": "code",
   "execution_count": 4,
   "metadata": {
    "colab": {
     "base_uri": "https://localhost:8080/",
     "height": 139
    },
    "colab_type": "code",
    "executionInfo": {
     "elapsed": 5423,
     "status": "ok",
     "timestamp": 1554466852305,
     "user": {
      "displayName": "Rob Smith",
      "photoUrl": "https://lh5.googleusercontent.com/-xZI-Hs67nxE/AAAAAAAAAAI/AAAAAAAAEto/Ht0WZrlJWDw/s64/photo.jpg",
      "userId": "14546434662839057642"
     },
     "user_tz": -120
    },
    "id": "yR5Ny-caXPmC",
    "outputId": "641c2a86-e760-4dc8-8fd0-2c6f0d3aca25"
   },
   "outputs": [
    {
     "name": "stdout",
     "output_type": "stream",
     "text": [
      "5cj54CVe4pQZ9cUKgbsZrG : Pentatonix - Despacito x Shape Of You : https://p.scdn.co/mp3-preview/442d8fce3c6f11c4b947dbf736020896b7d871c0?cid=194086cb37be48ebb45b9ba4ce4c5936\n",
      "5CtI0qwDJkDQGwXD1H1cLb : Luis Fonsi - Despacito - Remix : \n",
      "4E096IghHI9bFtVVQf5SET : Luis Fonsi - Despacito : \n",
      "4aWmUDTfIPGksMNLV2rQP2 : Luis Fonsi - Despacito (Featuring Daddy Yankee) : \n",
      "4vxA3aI7l73i0Hi819OQhH : Madilyn Bailey - Despacito : https://p.scdn.co/mp3-preview/076f200df2b0f8b361ca1e6c268dba878ad998ce?cid=194086cb37be48ebb45b9ba4ce4c5936\n",
      "3vqyauyYbp9MqUwrCEmWJ0 : Ramon Ayala - Despacito : https://p.scdn.co/mp3-preview/697d6cda3fb5ad7946358b71ae50a86c2a32ca14?cid=194086cb37be48ebb45b9ba4ce4c5936\n",
      "6rPO02ozF3bM7NnOV4h6s2 : Luis Fonsi - Despacito - Remix : https://p.scdn.co/mp3-preview/01f2b0e71b6ac51b5aada80ff829c9027df5de8b?cid=194086cb37be48ebb45b9ba4ce4c5936\n",
      "7CUYHcu0RnbOnMz4RuN07w : Luis Fonsi - Despacito (Featuring Daddy Yankee) : https://p.scdn.co/mp3-preview/1f37421e137fd8d765c99f79b6718191df19d23f?cid=194086cb37be48ebb45b9ba4ce4c5936\n",
      "2soXzaiEWhHzUCnSi94jTv : Luis Fonsi - Despacito - Major Lazer & MOSKA Remix : https://p.scdn.co/mp3-preview/b79e8502f7c2d7e0cbd05f9ec52aa43be1c6bc76?cid=194086cb37be48ebb45b9ba4ce4c5936\n",
      "3WPcICODKxVuYoWVzEtEdZ : Luis Fonsi - Despacito - Versión Pop : \n",
      "1488SioojRAQGLhNJQwdIt : Grupo Extra - Despacito - Bachata Version : https://p.scdn.co/mp3-preview/72fcdb232f7e73c874868f1aad589a383804e0a8?cid=194086cb37be48ebb45b9ba4ce4c5936\n",
      "2uegLZD7bHXwgvyMRrzfKD : J.Fla - Despacito : \n",
      "5AgTL2WmiCvoObA8fpncKs : Luis Fonsi - Despacito : https://p.scdn.co/mp3-preview/738d01610631b9b78ca839d61db74df3aa1db49d?cid=194086cb37be48ebb45b9ba4ce4c5936\n",
      "4HuRUGzMUnfjjnmtANU1u3 : Boyce Avenue - Despacito : \n",
      "4V7Sfp9US8HXNMOwGlYqbS : Peter Bence - Despacito : https://p.scdn.co/mp3-preview/a2e4999556bf3dbe8869486fa8d16d8856904352?cid=194086cb37be48ebb45b9ba4ce4c5936\n",
      "4oSmllN9KoFbU1qcn7KbCG : Jesse & Joy - Quiéreme Despacito : https://p.scdn.co/mp3-preview/72455f5fc2f054b876ba815cc846edbbe1bdd3c1?cid=194086cb37be48ebb45b9ba4ce4c5936\n",
      "0zmOzthR1eSlpN0IMwzXyV : Luis Fonsi - Despacito 緩緩 - Mandarin Version : https://p.scdn.co/mp3-preview/e4c6f67130ff13280bd1e14be4efb6b974a0cf69?cid=194086cb37be48ebb45b9ba4ce4c5936\n",
      "558DB0S2SXZJfCKLX9x3fS : Los Piojos - Muy Despacito : https://p.scdn.co/mp3-preview/47e8f5586ecd0ef8dfb9d1eb437264ab5b5527c5?cid=194086cb37be48ebb45b9ba4ce4c5936\n",
      "4s7OsY248WVd7BRVJGTU5i : Conor Maynard - Despacito : https://p.scdn.co/mp3-preview/ed6b719751c936fbadb584a9a2cfaffe0d512325?cid=194086cb37be48ebb45b9ba4ce4c5936\n",
      "04pWdQkbzwZKzZEvIzkGhx : Leo - Despacito (Metal Version) : https://p.scdn.co/mp3-preview/a13133e5853303af61b5e226d6fc6823f950f840?cid=194086cb37be48ebb45b9ba4ce4c5936\n",
      "26EI08m3IR11mqlIRq1Xdd : Luis Fonsi - Despacito - Versión Salsa : \n",
      "28rmCxmLEIRpndmrhHvbqv : Boyce Avenue - Despacito : \n",
      "0kjXWQm5HJwjAykPJsagbN : Boyce Avenue - Despacito : https://p.scdn.co/mp3-preview/b7c2f67847678ee53a5191043af60f45f3016016?cid=194086cb37be48ebb45b9ba4ce4c5936\n",
      "2Jaakn9nzvBEgWM5x74OgT : Alex Aiono - Despacito/I'm The One - Mashup : \n",
      "1KSKj8Dhske3p6L0xAHcHh : Carina Dahl - Despacito : https://p.scdn.co/mp3-preview/085bceb36d827069db3b269f64b396d00ce435d2?cid=194086cb37be48ebb45b9ba4ce4c5936\n",
      "4heyLRfAnfVxMLnsqQyB6X : Alex Aiono - Despacito/I'm The One - Mashup : https://p.scdn.co/mp3-preview/7f81ab3b180125d2f8146acdf79b42ca8605e49b?cid=194086cb37be48ebb45b9ba4ce4c5936\n",
      "28cTiLrMkWTz3CwdFQVU8A : Luis Fonsi - Despacito - Major Lazer & MOSKA Remix : \n",
      "1a9SiOELQS7YsBQwdEPMuq : Luis Fonsi - Despacito : https://p.scdn.co/mp3-preview/04b28b12174a4c4448486070962dae74494c0f70?cid=194086cb37be48ebb45b9ba4ce4c5936\n",
      "21TObZH6ZodVsMvEMQPYua : Luis Fonsi - Despacito : \n",
      "65VPGvuzyWyOWsCFf5YwLH : DJ Roody - Despacito - CLUB VERSION : https://p.scdn.co/mp3-preview/8f2bacbf24632a28faf6f49257d226053207b8af?cid=194086cb37be48ebb45b9ba4ce4c5936\n",
      "4hzdbgfGDCgIOZnljzSj1r : Michael Constantino - Despacito Mashup : https://p.scdn.co/mp3-preview/eef6b63ab13ffca250b4b2d04ecb3de53b525c2a?cid=194086cb37be48ebb45b9ba4ce4c5936\n",
      "5aPZ8WDKgtij3zbknGFnhC : Luis Fonsi - Despacito - Versión Salsa : https://p.scdn.co/mp3-preview/dab318c5be73b349085b3c2ea51c99a0777267b9?cid=194086cb37be48ebb45b9ba4ce4c5936\n",
      "0s9lAm2NLqe3ImTNz1rfgl : Acaedia - Despacito : https://p.scdn.co/mp3-preview/d73c20be0d0830f19f9ab8fb6f9761eb0be5a99b?cid=194086cb37be48ebb45b9ba4ce4c5936\n",
      "3tqRrUMHQ0y80CN58Xh0CT : Aberola - Despacito - Acoustic : https://p.scdn.co/mp3-preview/1a7455144bfade6d0a7c9004d9d7757d2543157b?cid=194086cb37be48ebb45b9ba4ce4c5936\n",
      "6HBhQJIJ40J6i5flPETHQY : Luis Fonsi - Despacito : \n",
      "3Oey1oJKf11kW5bcopx8JO : Luis Fonsi - Despacito 緩緩 - Mandarin Version : \n",
      "6quMNcdrFD3AoT8DYopv0M : Carolina García - Despacito - version acústica piano : https://p.scdn.co/mp3-preview/a438dc2bcb6e4f8a8f49c62564e9554403e70851?cid=194086cb37be48ebb45b9ba4ce4c5936\n",
      "7DM5UxjNed3SisXqBTCacb : Luis Fonsi - Despacito - Versión Portugués : \n",
      "3qOtg4R7m5YPY35NfopC2Z : SFDK - Despacito Pero Voy : https://p.scdn.co/mp3-preview/a07c8d12a595329a9187e55283337578462f2b7e?cid=194086cb37be48ebb45b9ba4ce4c5936\n",
      "55JRuMFjf3BbRIKg15X45w : Lucas Sugo - Despacito - En Vivo : https://p.scdn.co/mp3-preview/bbfa40981f392289f6d924f2e12c02860b30b4d8?cid=194086cb37be48ebb45b9ba4ce4c5936\n",
      "4Nm3EfmBL3p7oTsRMv9qRu : J.Fla - Despacito : https://p.scdn.co/mp3-preview/e0b75e8b08a7c804f9b406117e3595a7f2001f6b?cid=194086cb37be48ebb45b9ba4ce4c5936\n"
     ]
    }
   ],
   "source": [
    "search = 'despacito'\n",
    "for track in tracks:\n",
    "    if tracks[track][0].lower().find(search.lower()) != -1 and track in model.wv.vocab:\n",
    "        print(f'{track} : {tracks[track][0]} : {tracks[track][1]}')"
   ]
  },
  {
   "cell_type": "markdown",
   "metadata": {
    "colab_type": "text",
    "id": "tiRzIfQybBTR"
   },
   "source": [
    "### Get some suggestions of similar songs"
   ]
  },
  {
   "cell_type": "code",
   "execution_count": 6,
   "metadata": {
    "colab": {
     "base_uri": "https://localhost:8080/",
     "height": 445
    },
    "colab_type": "code",
    "executionInfo": {
     "elapsed": 842,
     "status": "ok",
     "timestamp": 1556003419347,
     "user": {
      "displayName": "Rob Smith",
      "photoUrl": "https://lh5.googleusercontent.com/-xZI-Hs67nxE/AAAAAAAAAAI/AAAAAAAAEto/Ht0WZrlJWDw/s64/photo.jpg",
      "userId": "14546434662839057642"
     },
     "user_tz": -120
    },
    "id": "2WLbJfcwX5zG",
    "outputId": "96f265d1-e701-4b78-86ab-634240da1d8b"
   },
   "outputs": [
    {
     "name": "stdout",
     "output_type": "stream",
     "text": [
      "Tracks most similar to John Coltrane - Naima\n",
      "5p95DUZplmVxY0XCQ3hxUV : John Coltrane - I'm Old Fashioned - Remastered 2003/Rudy Van Gelder Edition : https://p.scdn.co/mp3-preview/a33f887540677271ab17f1f40759cbc1657f5096?cid=194086cb37be48ebb45b9ba4ce4c5936\n",
      "6HvyFdP5JrCQdmxq2qi7MC : The Dave Brubeck Quartet - Strange Meadow Lark : https://p.scdn.co/mp3-preview/2e01e4b73c4266af97571587acf5f2a63145a357?cid=194086cb37be48ebb45b9ba4ce4c5936\n",
      "3eMfftdPSD4PI1cux5w97b : Paul Desmond - Autumn Leaves : https://p.scdn.co/mp3-preview/7e68c3bb967370697d64741bd49aa6f94209c33d?cid=194086cb37be48ebb45b9ba4ce4c5936\n",
      "4ymHy4hzJ09WxvvT7p0Azy : Art Pepper - You Go To My Head : https://p.scdn.co/mp3-preview/9e8242895ca9151bc8c732c3c41a4cf7e53d7dc4?cid=194086cb37be48ebb45b9ba4ce4c5936\n",
      "6f6OQJv9qjqyJq9NHin45n : Phil Woods - Blue Ballad : https://p.scdn.co/mp3-preview/8cd094238997fb3f6e5196ba8cda8346b886a922?cid=194086cb37be48ebb45b9ba4ce4c5936\n",
      "6ZgaUtMlUzUf7SqbUUnfbu : John Coltrane - Blue Train - Remastered 2003 : https://p.scdn.co/mp3-preview/385d50c52328487f355fdeea3444e02a3d37a893?cid=194086cb37be48ebb45b9ba4ce4c5936\n",
      "0iEtT7O43pat2fu6jdaCKl : Ben Webster - Sunday : \n",
      "7DUGRxCf9NFJffb5Eei8Ar : Sonny Rollins - God Bless the Child - Remastered : https://p.scdn.co/mp3-preview/edd2474d25b587da12ed4b8ff30117246b061aaa?cid=194086cb37be48ebb45b9ba4ce4c5936\n",
      "3EeUl7XZAqrU2NoDTZjfdU : John Coltrane - Time After Time : \n",
      "5LaTsDrhrpXwLniidLpnF7 : Lee Morgan - I Remember Clifford : https://p.scdn.co/mp3-preview/145518b9e54b23dcc76672b9b3104f0a095dc1a2?cid=194086cb37be48ebb45b9ba4ce4c5936\n",
      "2oEvw0AfrT2fPNpEnBwVml : Bill Evans - I Hear A Rhapsody : https://p.scdn.co/mp3-preview/ce4fffe43770d11d5a9ef6cb004bfccd843d40d8?cid=194086cb37be48ebb45b9ba4ce4c5936\n",
      "1tSzm6vk58gS0NZwYS18W0 : Bill Evans - Waltz for Debby : https://p.scdn.co/mp3-preview/84a7eb82adf8ba8492666d3da75a7291a0799913?cid=194086cb37be48ebb45b9ba4ce4c5936\n",
      "5vb7At47uO0yPGfmYnAHuw : Miles Davis - 'Round Midnight : https://p.scdn.co/mp3-preview/df1c591632611648495df545085da3248074dd41?cid=194086cb37be48ebb45b9ba4ce4c5936\n",
      "05d3KM9JTyNnnWIjo8PKvf : Duke Ellington - Haupe : https://p.scdn.co/mp3-preview/87610c799d90f2db8da8f9757ad19f045f260a51?cid=194086cb37be48ebb45b9ba4ce4c5936\n",
      "1Rph9i0FWKDa9Aq9H4iiMx : John Coltrane - I'll Wait And Pray : https://p.scdn.co/mp3-preview/cc6e2784e596cb64ccd8b1ba4e63d4d4d352840b?cid=194086cb37be48ebb45b9ba4ce4c5936\n",
      "4f0D7T8yswXUJ62AKLoMtS : Cannonball Adderley - One For Daddy-O - Remastered : https://p.scdn.co/mp3-preview/2cbd86f656c826fdc7bfcd458fa7eea8c9149000?cid=194086cb37be48ebb45b9ba4ce4c5936\n",
      "0E8q2Fx2XuzXCO2NSAppkR : Duke Ellington - In A Sentimental Mood : https://p.scdn.co/mp3-preview/69e2af7b8077ebf25f4bf069d376620237460792?cid=194086cb37be48ebb45b9ba4ce4c5936\n",
      "4WQfAA41hvXY1S9sk0LpGE : Thelonious Monk - Ruby, My Dear : \n",
      "4PN5gbJNYWx9yQ6hJepPbG : Sidney Bechet - Summertime : https://p.scdn.co/mp3-preview/38c1d1011672c98ee7ddcdf1f55c28f6e667377a?cid=194086cb37be48ebb45b9ba4ce4c5936\n",
      "0oR1TCdp7WjoggutHH3mZl : Ben Webster - When Your Lover Has Gone : \n",
      "\n"
     ]
    }
   ],
   "source": [
    "id = '1hVRTl4yhWmGW7ImZoO22e'\n",
    "print(f'Tracks most similar to {tracks[id][0]}')\n",
    "most_similar = model.wv.most_similar(positive=[id], topn=20)\n",
    "for track in most_similar:\n",
    "    print(f'{track[0]} : {tracks[track[0]][0]} : {tracks[track[0]][1]}')\n",
    "\n",
    "import matplotlib.pyplot as plt\n",
    "import matplotlib.image as mpimg\n",
    "\n",
    "print()\n",
    "filename = 'spectrograms/' + id + '.png'\n",
    "if os.path.exists(filename):\n",
    "    print(f'{tracks[id][0]}')\n",
    "    img = mpimg.imread(filename)\n",
    "    plt.imshow(img)\n",
    "    plt.show()\n",
    "for track in most_similar:\n",
    "    filename = 'spectrograms/' + track[0] + '.png'\n",
    "    if os.path.exists(filename):\n",
    "        print(f'{tracks[track[0]][0]}')\n",
    "        img = mpimg.imread(filename)\n",
    "        plt.imshow(img)\n",
    "        plt.show()"
   ]
  },
  {
   "cell_type": "markdown",
   "metadata": {
    "colab_type": "text",
    "id": "9jey6mNJbAJf"
   },
   "source": [
    "### Generate a playlist based on a few (seed) tracks"
   ]
  },
  {
   "cell_type": "code",
   "execution_count": null,
   "metadata": {
    "colab": {
     "base_uri": "https://localhost:8080/",
     "height": 207
    },
    "colab_type": "code",
    "executionInfo": {
     "elapsed": 1350,
     "status": "ok",
     "timestamp": 1555950838211,
     "user": {
      "displayName": "Rob Smith",
      "photoUrl": "https://lh5.googleusercontent.com/-xZI-Hs67nxE/AAAAAAAAAAI/AAAAAAAAEto/Ht0WZrlJWDw/s64/photo.jpg",
      "userId": "14546434662839057642"
     },
     "user_tz": -120
    },
    "id": "g5xsXx0LYvLk",
    "outputId": "8ea9b72e-6551-4d13-e077-836b24b8da36"
   },
   "outputs": [
    {
     "name": "stdout",
     "output_type": "stream",
     "text": [
      "7rMeV0rIjzePISDXZTfM1v : Gang Starr - You Know My Steez : https://p.scdn.co/mp3-preview/112f54e5101577c0ace390127a204309a8def24f?cid=194086cb37be48ebb45b9ba4ce4c5936\n",
      "30UTvW5IQWXmvdcZ1zbF6R : De La Soul - Me, Myself And I : \n",
      "5313VQMjcM2w5gTRZtyd6J : A Tribe Called Quest - Bonita Applebum : https://p.scdn.co/mp3-preview/fca10e0beaa2ec9c0dddad75e8fd27cdf2b936fc?cid=194086cb37be48ebb45b9ba4ce4c5936\n",
      "6Xio661Y2iL7SDKFFOG9cv : Black Moon - Who Got Da Props : https://p.scdn.co/mp3-preview/2c381515b49ddc5ef8f92978e72a57541947ab92?cid=194086cb37be48ebb45b9ba4ce4c5936\n",
      "6Xio661Y2iL7SDKFFOG9cv : Black Moon - Who Got Da Props : https://p.scdn.co/mp3-preview/2c381515b49ddc5ef8f92978e72a57541947ab92?cid=194086cb37be48ebb45b9ba4ce4c5936\n",
      "6Xio661Y2iL7SDKFFOG9cv : Black Moon - Who Got Da Props : https://p.scdn.co/mp3-preview/2c381515b49ddc5ef8f92978e72a57541947ab92?cid=194086cb37be48ebb45b9ba4ce4c5936\n",
      "6Xio661Y2iL7SDKFFOG9cv : Black Moon - Who Got Da Props : https://p.scdn.co/mp3-preview/2c381515b49ddc5ef8f92978e72a57541947ab92?cid=194086cb37be48ebb45b9ba4ce4c5936\n",
      "6Xio661Y2iL7SDKFFOG9cv : Black Moon - Who Got Da Props : https://p.scdn.co/mp3-preview/2c381515b49ddc5ef8f92978e72a57541947ab92?cid=194086cb37be48ebb45b9ba4ce4c5936\n",
      "6Xio661Y2iL7SDKFFOG9cv : Black Moon - Who Got Da Props : https://p.scdn.co/mp3-preview/2c381515b49ddc5ef8f92978e72a57541947ab92?cid=194086cb37be48ebb45b9ba4ce4c5936\n",
      "6Xio661Y2iL7SDKFFOG9cv : Black Moon - Who Got Da Props : https://p.scdn.co/mp3-preview/2c381515b49ddc5ef8f92978e72a57541947ab92?cid=194086cb37be48ebb45b9ba4ce4c5936\n"
     ]
    }
   ],
   "source": [
    "seed_tracks = [\n",
    "    '7rMeV0rIjzePISDXZTfM1v',\n",
    "    '30UTvW5IQWXmvdcZ1zbF6R',\n",
    "    '5313VQMjcM2w5gTRZtyd6J',\n",
    "    '6Xio661Y2iL7SDKFFOG9cv',\n",
    "    ]\n",
    "num_tracks = 10\n",
    "for i in range(0, num_tracks - len(seed_tracks)):\n",
    "    next_track = model.predict_output_word(context_words_list=seed_tracks[-(window - 1):], topn=1)\n",
    "    if next_track == None:\n",
    "        break\n",
    "    seed_tracks.append(next_track[0][0])\n",
    "for track in seed_tracks:\n",
    "    print(f'{track} : {tracks[track][0]} : {tracks[track][1]}')"
   ]
  },
  {
   "cell_type": "markdown",
   "metadata": {
    "colab_type": "text",
    "id": "pRn2ygctjcKM"
   },
   "source": [
    "### Hmmm, that didn't work too well. Let's try a different approach"
   ]
  },
  {
   "cell_type": "code",
   "execution_count": 7,
   "metadata": {
    "colab": {
     "base_uri": "https://localhost:8080/",
     "height": 241
    },
    "colab_type": "code",
    "executionInfo": {
     "elapsed": 2099,
     "status": "ok",
     "timestamp": 1556003428764,
     "user": {
      "displayName": "Rob Smith",
      "photoUrl": "https://lh5.googleusercontent.com/-xZI-Hs67nxE/AAAAAAAAAAI/AAAAAAAAEto/Ht0WZrlJWDw/s64/photo.jpg",
      "userId": "14546434662839057642"
     },
     "user_tz": -120
    },
    "id": "m-Ij5ZfxhEKp",
    "outputId": "b4e0b32f-f4d7-4bac-c3cb-6649f5d219fd"
   },
   "outputs": [
    {
     "name": "stdout",
     "output_type": "stream",
     "text": [
      "4iNgXqTD2uux9GH4lTnNaN : Milton Nascimento - Tudo O Que Você Podia Ser : https://p.scdn.co/mp3-preview/0991fd670055bf0cfaeb6f3e937fef0931fd9205?cid=194086cb37be48ebb45b9ba4ce4c5936\n",
      "3PsGlZaMR6W3luCmp3RgRc : Edu Lobo - Ponteio : https://p.scdn.co/mp3-preview/2cadb8b2e6d77f38063bfadef4e08f06a6473c83?cid=194086cb37be48ebb45b9ba4ce4c5936\n",
      "1zLfdcVHsyB4Nw6IVfAPtV : Jorge Ben Jor - Oba, Lá Vem Ela : \n",
      "5tt394udRU89Pn2s3qPGaQ : Tom Zé - Vai (Menina Amanhã de Manhã) : \n",
      "5V0HmhGqwjoDq0cHlI05GS : Novos Baianos - Swing de Campo Grande : https://p.scdn.co/mp3-preview/84b03050271342ef6fe15f5f428f65409089f55f?cid=194086cb37be48ebb45b9ba4ce4c5936\n",
      "3GsfYbpS0RNVoerNGRNxAq : Jorge Ben Jor - Chove Chuva : \n",
      "4aYvf6sss8oMFBfPt4vobj : Banda Eddie - O Baile de Betinha : https://p.scdn.co/mp3-preview/1f90b1d090dad6c6e09382af11fcea5abc740ed5?cid=194086cb37be48ebb45b9ba4ce4c5936\n",
      "1ZetCeq3ZOSD2k64UNEBqf : Novos Baianos - Acabou Chorare : https://p.scdn.co/mp3-preview/7a85b562f1d00842861e02756e9f0b837c470ec1?cid=194086cb37be48ebb45b9ba4ce4c5936\n",
      "0ElgcjFAHHj9ZvQfTOWm7v : Lô Borges - Um Girassol Da Cor Do Seu Cabelo : https://p.scdn.co/mp3-preview/e1a1ea19015ae8fcc1763e8ea8e498ce9d4eeb4d?cid=194086cb37be48ebb45b9ba4ce4c5936\n",
      "6K022fAYR1Q2BQwKfugUi3 : Chico Buarque - Jorge Maravilha : https://p.scdn.co/mp3-preview/7d974773413714296266fad482d33975f57a7564?cid=194086cb37be48ebb45b9ba4ce4c5936\n"
     ]
    }
   ],
   "source": [
    "seed_tracks = [\n",
    "    '4iNgXqTD2uux9GH4lTnNaN',\n",
    "    '3PsGlZaMR6W3luCmp3RgRc',\n",
    "    '1zLfdcVHsyB4Nw6IVfAPtV',\n",
    "    ]\n",
    "num_tracks = 10\n",
    "seed_window = num_tracks\n",
    "for i in range(0, num_tracks - len(seed_tracks)):\n",
    "    next_track = model.wv.most_similar(positive=seed_tracks[-seed_window:], topn=1)\n",
    "    if next_track == None:\n",
    "        break\n",
    "    seed_tracks.append(next_track[0][0])\n",
    "for track in seed_tracks:\n",
    "    print(f'{track} : {tracks[track][0]} : {tracks[track][1]}')"
   ]
  },
  {
   "cell_type": "code",
   "execution_count": null,
   "metadata": {
    "colab": {},
    "colab_type": "code",
    "id": "CnAEYgEKhOsb"
   },
   "outputs": [],
   "source": [
    "# display embedding\n",
    "# dash\n",
    "# RNN for playlist generation\n",
    "# spectrograms"
   ]
  },
  {
   "cell_type": "code",
   "execution_count": null,
   "metadata": {
    "colab": {},
    "colab_type": "code",
    "id": "xRyGoJqRfG3A"
   },
   "outputs": [],
   "source": []
  }
 ],
 "metadata": {
  "accelerator": "GPU",
  "colab": {
   "collapsed_sections": [],
   "name": "Track2Vec_2.ipynb",
   "provenance": [],
   "version": "0.3.2"
  },
  "kernelspec": {
   "display_name": "Python 3",
   "language": "python",
   "name": "python3"
  },
  "language_info": {
   "codemirror_mode": {
    "name": "ipython",
    "version": 3
   },
   "file_extension": ".py",
   "mimetype": "text/x-python",
   "name": "python",
   "nbconvert_exporter": "python",
   "pygments_lexer": "ipython3",
   "version": "3.7.3"
  }
 },
 "nbformat": 4,
 "nbformat_minor": 2
}
