{
 "cells": [
  {
   "cell_type": "code",
   "execution_count": 27,
   "metadata": {},
   "outputs": [
    {
     "name": "stdout",
     "output_type": "stream",
     "text": [
      "Recording...\n",
      "H:\\Music\\Compilations\\Jazz & Milk Breaks Vol 3 Sampler\\01 You Can Dance (Envee Ensemble Ver.mp3, [0.99] 4.33s\n"
     ]
    },
    {
     "ename": "KeyboardInterrupt",
     "evalue": "",
     "output_type": "error",
     "traceback": [
      "\u001b[1;31m---------------------------------------------------------------------------\u001b[0m",
      "\u001b[1;31mKeyboardInterrupt\u001b[0m                         Traceback (most recent call last)",
      "\u001b[1;32m<ipython-input-27-a76cd84d689e>\u001b[0m in \u001b[0;36m<module>\u001b[1;34m\u001b[0m\n\u001b[0;32m     35\u001b[0m     \u001b[0maudio\u001b[0m \u001b[1;33m=\u001b[0m \u001b[0mpyaudio\u001b[0m\u001b[1;33m.\u001b[0m\u001b[0mPyAudio\u001b[0m\u001b[1;33m(\u001b[0m\u001b[1;33m)\u001b[0m\u001b[1;33m\u001b[0m\u001b[1;33m\u001b[0m\u001b[0m\n\u001b[0;32m     36\u001b[0m     \u001b[0mstream\u001b[0m \u001b[1;33m=\u001b[0m \u001b[0maudio\u001b[0m\u001b[1;33m.\u001b[0m\u001b[0mopen\u001b[0m\u001b[1;33m(\u001b[0m\u001b[0mformat\u001b[0m\u001b[1;33m=\u001b[0m\u001b[0mpyaudio\u001b[0m\u001b[1;33m.\u001b[0m\u001b[0mpaInt16\u001b[0m\u001b[1;33m,\u001b[0m \u001b[0mchannels\u001b[0m\u001b[1;33m=\u001b[0m\u001b[1;36m1\u001b[0m\u001b[1;33m,\u001b[0m \u001b[0mrate\u001b[0m\u001b[1;33m=\u001b[0m\u001b[0msr\u001b[0m\u001b[1;33m,\u001b[0m \u001b[0minput\u001b[0m\u001b[1;33m=\u001b[0m\u001b[1;32mTrue\u001b[0m\u001b[1;33m)\u001b[0m\u001b[1;33m\u001b[0m\u001b[1;33m\u001b[0m\u001b[0m\n\u001b[1;32m---> 37\u001b[1;33m     \u001b[0mdata\u001b[0m \u001b[1;33m=\u001b[0m \u001b[0mstream\u001b[0m\u001b[1;33m.\u001b[0m\u001b[0mread\u001b[0m\u001b[1;33m(\u001b[0m\u001b[0msr\u001b[0m \u001b[1;33m*\u001b[0m \u001b[0mrecord_seconds\u001b[0m\u001b[1;33m)\u001b[0m\u001b[1;33m\u001b[0m\u001b[1;33m\u001b[0m\u001b[0m\n\u001b[0m\u001b[0;32m     38\u001b[0m     \u001b[0mstart\u001b[0m \u001b[1;33m=\u001b[0m \u001b[0mtime\u001b[0m\u001b[1;33m.\u001b[0m\u001b[0mtime\u001b[0m\u001b[1;33m(\u001b[0m\u001b[1;33m)\u001b[0m\u001b[1;33m\u001b[0m\u001b[1;33m\u001b[0m\u001b[0m\n\u001b[0;32m     39\u001b[0m     \u001b[0mstream\u001b[0m\u001b[1;33m.\u001b[0m\u001b[0mstop_stream\u001b[0m\u001b[1;33m(\u001b[0m\u001b[1;33m)\u001b[0m\u001b[1;33m\u001b[0m\u001b[1;33m\u001b[0m\u001b[0m\n",
      "\u001b[1;32m~\\Anaconda3\\envs\\Deep\\lib\\site-packages\\pyaudio.py\u001b[0m in \u001b[0;36mread\u001b[1;34m(self, num_frames, exception_on_overflow)\u001b[0m\n\u001b[0;32m    606\u001b[0m                           paCanNotReadFromAnOutputOnlyStream)\n\u001b[0;32m    607\u001b[0m \u001b[1;33m\u001b[0m\u001b[0m\n\u001b[1;32m--> 608\u001b[1;33m         \u001b[1;32mreturn\u001b[0m \u001b[0mpa\u001b[0m\u001b[1;33m.\u001b[0m\u001b[0mread_stream\u001b[0m\u001b[1;33m(\u001b[0m\u001b[0mself\u001b[0m\u001b[1;33m.\u001b[0m\u001b[0m_stream\u001b[0m\u001b[1;33m,\u001b[0m \u001b[0mnum_frames\u001b[0m\u001b[1;33m,\u001b[0m \u001b[0mexception_on_overflow\u001b[0m\u001b[1;33m)\u001b[0m\u001b[1;33m\u001b[0m\u001b[1;33m\u001b[0m\u001b[0m\n\u001b[0m\u001b[0;32m    609\u001b[0m \u001b[1;33m\u001b[0m\u001b[0m\n\u001b[0;32m    610\u001b[0m     \u001b[1;32mdef\u001b[0m \u001b[0mget_read_available\u001b[0m\u001b[1;33m(\u001b[0m\u001b[0mself\u001b[0m\u001b[1;33m)\u001b[0m\u001b[1;33m:\u001b[0m\u001b[1;33m\u001b[0m\u001b[1;33m\u001b[0m\u001b[0m\n",
      "\u001b[1;31mKeyboardInterrupt\u001b[0m: "
     ]
    }
   ],
   "source": [
    "import pickle\n",
    "import keras\n",
    "from keras.models import load_model\n",
    "import pyaudio\n",
    "import wave\n",
    "import librosa\n",
    "import keras.backend as K\n",
    "import numpy as np\n",
    "import time\n",
    "\n",
    "sr                = 22050\n",
    "n_fft             = 2048\n",
    "hop_length        = 512\n",
    "n_mels            = 96 # model.layers[0].input_shape[1]\n",
    "slice_size        = 216 # model.layers[0].input_shape[2]\n",
    "slice_time        = slice_size * hop_length / sr\n",
    "epsilon_distance  = 0.001\n",
    "sample_start      = 10 # 5 second samples\n",
    "sample_end        = 16 # 5 second samples\n",
    "sample_step       = 1 # 5 second samples\n",
    "record_seconds    = 30\n",
    "\n",
    "mp3tovec = pickle.load(open('..\\Pickles\\mp3tovecs\\mp3tovec.p', 'rb'))\n",
    "model = load_model('../speccy_model')\n",
    "import os\n",
    "dump_directory = '../Pickles'\n",
    "mp3s = {}\n",
    "for filename in os.listdir(dump_directory):\n",
    "    if not os.path.isfile(dump_directory + '/' + filename):\n",
    "        continue\n",
    "    p = pickle.load(open(dump_directory + '/' + filename, 'rb'))\n",
    "    mp3s[p[0]] = p[1]\n",
    "print('Recording...')\n",
    "while True:\n",
    "    audio = pyaudio.PyAudio()\n",
    "    stream = audio.open(format=pyaudio.paInt16, channels=1, rate=sr, input=True)\n",
    "    data = stream.read(sr * record_seconds)\n",
    "    start = time.time()\n",
    "    stream.stop_stream()\n",
    "    stream.close()\n",
    "    audio.terminate()\n",
    "    waveFile = wave.open('temp.wav', 'wb')\n",
    "    waveFile.setnchannels(1)\n",
    "    waveFile.setsampwidth(audio.get_sample_size(pyaudio.paInt16))\n",
    "    waveFile.setframerate(sr)\n",
    "    waveFile.writeframes(data)\n",
    "    waveFile.close()\n",
    "    y, sr = librosa.load('temp.wav', mono=True)\n",
    "#    os.remove('temp.wav')\n",
    "    S = librosa.feature.melspectrogram(y=y, sr=sr, n_fft=n_fft, hop_length=hop_length, n_mels=n_mels, fmax=sr/2)\n",
    "    x = np.ndarray(shape=(S.shape[1] // slice_size, n_mels, slice_size, 1), dtype=float)\n",
    "    for slice in range(S.shape[1] // slice_size):\n",
    "        log_S = librosa.power_to_db(S[:, slice * slice_size : (slice+1) * slice_size], ref=np.max)\n",
    "        if np.max(log_S) - np.min(log_S) != 0:\n",
    "            log_S = (log_S - np.min(log_S)) / (np.max(log_S) - np.min(log_S))\n",
    "        x[slice, :, :, 0] = log_S\n",
    "    new_vecs = model.predict(x)\n",
    "    new_idfs = []\n",
    "    for vec_i in new_vecs:\n",
    "        idf = 1 # because each new vector is in the new mp3 by definition\n",
    "        for mp3 in mp3s:\n",
    "            for vec_j in mp3s[mp3][sample_start:sample_end:sample_step]:\n",
    "                if 1 - np.dot(vec_i, vec_j) / (np.linalg.norm(vec_i) * np.linalg.norm(vec_j)) < epsilon_distance:\n",
    "                    idf += 1\n",
    "                    break\n",
    "        new_idfs.append(-np.log(idf / (len(mp3s) + 1))) # N + 1\n",
    "    vec = 0\n",
    "    for i, vec_i in enumerate(new_vecs):\n",
    "        tf = 0\n",
    "        for vec_j in new_vecs:\n",
    "            if 1 - np.dot(vec_i, vec_j) / (np.linalg.norm(vec_i) * np.linalg.norm(vec_j)) < epsilon_distance:\n",
    "                tf += 1\n",
    "        vec += vec_i * tf * new_idfs[i]\n",
    "    similar = most_similar_by_vec([vec], topn=1, noise=0)\n",
    "    print(f'{similar[0][0]}, [{similar[0][1]:.2f}] {time.time() - start:.2f}s')"
   ]
  },
  {
   "cell_type": "code",
   "execution_count": null,
   "metadata": {},
   "outputs": [],
   "source": []
  }
 ],
 "metadata": {
  "kernelspec": {
   "display_name": "Python 3",
   "language": "python",
   "name": "python3"
  },
  "language_info": {
   "codemirror_mode": {
    "name": "ipython",
    "version": 3
   },
   "file_extension": ".py",
   "mimetype": "text/x-python",
   "name": "python",
   "nbconvert_exporter": "python",
   "pygments_lexer": "ipython3",
   "version": "3.7.3"
  }
 },
 "nbformat": 4,
 "nbformat_minor": 2
}
