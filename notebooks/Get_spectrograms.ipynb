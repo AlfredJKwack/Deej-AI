{
 "cells": [
  {
   "cell_type": "code",
   "execution_count": null,
   "metadata": {
    "colab": {
     "base_uri": "https://localhost:8080/",
     "height": 51
    },
    "colab_type": "code",
    "id": "CCJerk-N2aZF",
    "outputId": "a0ebf988-7a53-49eb-e430-168d58118abc"
   },
   "outputs": [
    {
     "name": "stdout",
     "output_type": "stream",
     "text": [
      "total urls = 320952\n",
      "[ ===================  ] 96.44%"
     ]
    }
   ],
   "source": [
    "import sys\n",
    "import librosa\n",
    "import scipy\n",
    "import os.path\n",
    "import requests\n",
    "import numpy as np\n",
    "import warnings\n",
    "\n",
    "def drawProgressBar(percent, barLen = 20):\n",
    "    sys.stdout.write(\"\\r\")\n",
    "    progress = \"\"\n",
    "    for i in range(barLen):\n",
    "        if i < int(barLen * percent):\n",
    "            progress += \"=\"\n",
    "        else:\n",
    "            progress += \" \"\n",
    "    sys.stdout.write(\"[ %s ] %.2f%%\" % (progress, percent * 100))\n",
    "    sys.stdout.flush()\n",
    "\n",
    "import csv\n",
    "\n",
    "urls = []\n",
    "with open('popular_tracks.csv', \"r\", encoding='utf-8') as csvfile:\n",
    "    spamreader = csv.reader(csvfile, delimiter=';')\n",
    "    for row in spamreader:\n",
    "        columns = str(row)[2:-2].split(';')\n",
    "        if columns[3] != '':\n",
    "            urls.append((columns[0], columns[3]))\n",
    "print(f'total urls = {len(urls)}')\n",
    "\n",
    "try:\n",
    "    with open(f'got_to.txt', 'r') as text_file:\n",
    "        start_from = int(next(text_file))\n",
    "except:\n",
    "    start_from = 0\n",
    "\n",
    "for i, url in enumerate(urls):\n",
    "    if i < start_from:\n",
    "        continue\n",
    "    drawProgressBar(i/len(urls))\n",
    "    filename = 'spectrograms/' + url[0] + '.png'\n",
    "    if not(os.path.exists(filename)) and url[1][:5] == 'https':\n",
    "        r = requests.get(url[1], allow_redirects=True)\n",
    "        open(f'temp.mp3', 'wb').write(r.content)\n",
    "        songname = f'temp.mp3'\n",
    "        y, sr = librosa.load(songname, mono=True, duration=5)\n",
    "        S = librosa.feature.melspectrogram(y=y, sr=22050, n_fft=2048, hop_length=512, n_mels=96, fmax=22050/2)\n",
    "        log_S = librosa.power_to_db(S,ref=np.max)\n",
    "        with warnings.catch_warnings():\n",
    "            warnings.simplefilter('ignore')\n",
    "            scipy.misc.toimage(log_S).save(filename)\n",
    "        with open(f'got_to.txt', 'w') as text_file:\n",
    "            print(f'{i}', file=text_file)"
   ]
  },
  {
   "cell_type": "code",
   "execution_count": null,
   "metadata": {
    "colab": {
     "base_uri": "https://localhost:8080/",
     "height": 34
    },
    "colab_type": "code",
    "id": "V_dp_HCQF0W2",
    "outputId": "42dbcf55-e532-4125-a2a3-c147449b8751"
   },
   "outputs": [
    {
     "name": "stdout",
     "output_type": "stream",
     "text": [
      "('5YSBSyN6p6qJv7nsHtoZl2', 'https://p.scdn.co/mp3-preview/ae0976f998b64020a58a3d523fdbff7692ea9bb5?cid=194086cb37be48ebb45b9ba4ce4c5936')\n"
     ]
    }
   ],
   "source": [
    "print(urls[i])"
   ]
  },
  {
   "cell_type": "code",
   "execution_count": null,
   "metadata": {
    "colab": {},
    "colab_type": "code",
    "id": "L4z7qm51GBQh"
   },
   "outputs": [],
   "source": [
    "# this url gave a problem in librosa\n",
    "('5YSBSyN6p6qJv7nsHtoZl2', 'https://p.scdn.co/mp3-preview/ae0976f998b64020a58a3d523fdbff7692ea9bb5?cid=194086cb37be48ebb45b9ba4ce4c5936')"
   ]
  }
 ],
 "metadata": {
  "colab": {
   "collapsed_sections": [],
   "name": "Get_spectrograms.ipynb",
   "provenance": [],
   "version": "0.3.2"
  },
  "kernelspec": {
   "display_name": "Python 3",
   "language": "python",
   "name": "python3"
  },
  "language_info": {
   "codemirror_mode": {
    "name": "ipython",
    "version": 3
   },
   "file_extension": ".py",
   "mimetype": "text/x-python",
   "name": "python",
   "nbconvert_exporter": "python",
   "pygments_lexer": "ipython3",
   "version": "3.7.3"
  }
 },
 "nbformat": 4,
 "nbformat_minor": 2
}
