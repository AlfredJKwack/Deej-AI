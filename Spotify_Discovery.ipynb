{
  "nbformat": 4,
  "nbformat_minor": 0,
  "metadata": {
    "colab": {
      "name": "Spotify Discovery",
      "version": "0.3.2",
      "provenance": [],
      "collapsed_sections": [],
      "toc_visible": true,
      "include_colab_link": true
    },
    "kernelspec": {
      "name": "python3",
      "display_name": "Python 3"
    }
  },
  "cells": [
    {
      "cell_type": "markdown",
      "metadata": {
        "id": "view-in-github",
        "colab_type": "text"
      },
      "source": [
        "<a href=\"https://colab.research.google.com/github/teticio/Deej-A.I./blob/master/Spotify_Discovery.ipynb\" target=\"_parent\"><img src=\"https://colab.research.google.com/assets/colab-badge.svg\" alt=\"Open In Colab\"/></a>"
      ]
    },
    {
      "cell_type": "markdown",
      "metadata": {
        "id": "ncrIRvwjf-6D",
        "colab_type": "text"
      },
      "source": [
        "# How to discover new music on Spotify with Artificial Inteligence\n",
        "## Find similar sounding music by artists you may never have heard of"
      ]
    },
    {
      "cell_type": "code",
      "metadata": {
        "id": "_BDwwQ7WC1PC",
        "colab_type": "code",
        "cellView": "form",
        "outputId": "8163961d-0a93-4b69-9365-3d8a6624d61c",
        "colab": {
          "base_uri": "https://localhost:8080/",
          "height": 2133
        }
      },
      "source": [
        "#@title <- Press the \"play\" button to start!\n",
        "!pip install -q spotipy\n",
        "import spotipy\n",
        "import spotipy.util as util\n",
        "import os\n",
        "import requests\n",
        "import numpy as np\n",
        "import pickle\n",
        "import random\n",
        "from IPython.core.display import display, HTML\n",
        "\n",
        "#-----------------------------------------------------------------------------#\n",
        "\n",
        "lookback = 3       # Number of previous tracks to consider (default 3)\n",
        "size = 20          #@param {type:\"integer\"}\n",
        "creativity = 0.5   #@param {type:\"slider\", min:0, max:1, step:0.01}\n",
        "noise = 0          #@param {type:\"slider\", min:0, max:1, step:0.01}\n",
        "\n",
        "#@markdown (Optional) If you want to be able to load your playlists into Spotify, you will need to get credentials from [here](https://developer.spotify.com/dashboard/applications)\n",
        "scope = 'playlist-modify-public'\n",
        "username = ''      #@param {type: \"string\"}\n",
        "playlist_name = '' #@param {type: \"string\"}\n",
        "#@markdown (Playlist must already exist. Uncheck the box if you want to extend it.)\n",
        "replace = True     #@param {type:\"boolean\"}\n",
        "client_id =''      #@param {type: \"string\"}\n",
        "client_secret =''  #@param {type: \"string\"}\n",
        "redirect_uri =''   #@param {type: \"string\"}\n",
        "\n",
        "#-----------------------------------------------------------------------------#\n",
        "\n",
        "def download_file_from_google_drive(id, destination):\n",
        "    if os.path.isfile(destination):\n",
        "        return None\n",
        "    print(f'Downloading {destination}')\n",
        "    URL = \"https://docs.google.com/uc?export=download\"\n",
        "    session = requests.Session()\n",
        "    response = session.get(URL, params = { 'id' : id }, stream = True)\n",
        "    token = get_confirm_token(response)\n",
        "    if token:\n",
        "        params = { 'id' : id, 'confirm' : token }\n",
        "        response = session.get(URL, params = params, stream = True)\n",
        "    save_response_content(response, destination)    \n",
        "\n",
        "def get_confirm_token(response):\n",
        "    for key, value in response.cookies.items():\n",
        "        if key.startswith('download_warning'):\n",
        "            return value\n",
        "    return None\n",
        "\n",
        "def save_response_content(response, destination):\n",
        "    CHUNK_SIZE = 32768\n",
        "    with open(destination, \"wb\") as f:\n",
        "        for chunk in response.iter_content(CHUNK_SIZE):\n",
        "            if chunk: # filter out keep-alive new chunks\n",
        "                f.write(chunk)\n",
        "                \n",
        "def most_similar(mp3tovecs, weights, positive=[], negative=[], topn=5, noise=0):\n",
        "    if isinstance(positive, str):\n",
        "        positive = [positive] # broadcast to list\n",
        "    if isinstance(negative, str):\n",
        "        negative = [negative] # broadcast to list\n",
        "    similar = [[track, [0] * len(weights)] for track in mp3tovecs[0]]\n",
        "    for k, mp3tovec in enumerate(mp3tovecs):\n",
        "        mp3_vec_i = np.sum([mp3tovec[i] for i in positive] +\n",
        "                           [-mp3tovec[i] for i in negative], axis=0)\n",
        "        mp3_vec_i += np.random.normal(0, noise, len(mp3_vec_i))\n",
        "        for j, track_j in enumerate(mp3tovec):\n",
        "            if track_j in positive or track_j in negative:\n",
        "                continue\n",
        "            mp3_vec_j = mp3tovec[track_j]\n",
        "            similar[j][1][k] = np.dot(mp3_vec_i, mp3_vec_j) \\\n",
        "                / np.linalg.norm(mp3_vec_i) / np.linalg.norm(mp3_vec_j)\n",
        "    return sorted(similar, key=lambda x:-np.dot(x[1], weights))[:topn]\n",
        "\n",
        "def most_similar_by_vec(mp3tovecs, weights, positives=None, negatives=None, topn=5, noise=0):\n",
        "    similar = [[track, [0] * len(weights)] for track in mp3tovecs[0]]\n",
        "    positive = negative = []\n",
        "    for k, mp3tovec in enumerate(mp3tovecs):\n",
        "        if positives is not None:\n",
        "            positive = positives[k]\n",
        "        if negatives is not None:\n",
        "            negative = negatives[k]\n",
        "        if isinstance(positive, str):\n",
        "            positive = [positive] # broadcast to list\n",
        "        if isinstance(negative, str):\n",
        "            negative = [negative] # broadcast to list\n",
        "        mp3_vec_i = np.sum([i for i in positive] + [-i for i in negative], axis=0)\n",
        "        mp3_vec_i += np.random.normal(0, noise, len(mp3_vec_i))\n",
        "        for j, track_j in enumerate(mp3tovec):\n",
        "            mp3_vec_j = mp3tovec[track_j]\n",
        "            similar[j][1][k] = np.dot(mp3_vec_i, mp3_vec_j) \\\n",
        "                / np.linalg.norm(mp3_vec_i) / np.linalg.norm(mp3_vec_j)\n",
        "    return sorted(similar, key=lambda x:-np.dot(x[1], weights))[:topn]\n",
        "\n",
        "def add_track_to_playlist(sp, username, playlist_id, track_id, replace=False):\n",
        "    if sp is not None and username is not None and playlist_id is not None:\n",
        "        try:\n",
        "            if replace:\n",
        "                sp.user_playlist_replace_tracks(username, playlist_id, [track_id])\n",
        "            else:\n",
        "                sp.user_playlist_add_tracks(username, playlist_id, [track_id])\n",
        "        except spotipy.client.SpotifyException:\n",
        "            # token has probably gone stale\n",
        "            token = util.prompt_for_user_token(username, scope, client_id, client_secret, redirect_uri)\n",
        "            sp = spotipy.Spotify(token)\n",
        "            if replace:\n",
        "                sp.user_playlist_replace_tracks(username, playlist_id, [track_id])\n",
        "            else:\n",
        "                sp.user_playlist_add_tracks(username, playlist_id, [track_id])\n",
        "\n",
        "def make_playlist(sp, username, playlist_id, mp3tovecs, weights, seed_tracks, \\\n",
        "                  size=10, lookback=3, noise=0, replace=True):\n",
        "    max_tries = 100\n",
        "    playlist = seed_tracks\n",
        "    for i in range(0, len(seed_tracks)):\n",
        "        add_track_to_playlist(sp, username, playlist_id, playlist[i], replace and len(playlist) == 1)\n",
        "        display(HTML(f'<iframe src=\"https://open.spotify.com/embed/track/{playlist[i]}\" \\\n",
        "                     width=\"100%\" height=\"80\" frameborder=\"0\" allowtransparency=\"true\" \\\n",
        "                     allow=\"encrypted-media\"></iframe>'))\n",
        "    for i in range(len(seed_tracks), size):\n",
        "        similar = most_similar(mp3tovecs, weights, positive=playlist[-lookback:],\n",
        "                               topn=max_tries,noise=noise)\n",
        "        candidates = [candidate for candidate in similar if candidate[0] != playlist[-1]]\n",
        "        for candidate in candidates:\n",
        "            if not candidate[0] in playlist:\n",
        "                break\n",
        "        playlist.append(candidate[0])\n",
        "#        print(candidate[1])\n",
        "        add_track_to_playlist(sp, username, playlist_id, playlist[-1])\n",
        "        display(HTML(f'<iframe src=\"https://open.spotify.com/embed/track/{playlist[-1]}\" \\\n",
        "                     width=\"100%\" height=\"80\" frameborder=\"0\" allowtransparency=\"true\" \\\n",
        "                     allow=\"encrypted-media\"></iframe>'))\n",
        "    return playlist\n",
        "\n",
        "# create a musical journey between given track \"waypoints\"\n",
        "def join_the_dots(sp, username, playlist_id, mp3tovecs, weights, ids, \\\n",
        "                  n=5, noise=0, replace=True):\n",
        "    max_tries = 100\n",
        "    playlist = []\n",
        "    end = start = ids[0]\n",
        "    start_vec = [mp3tovec[start] for k, mp3tovec in enumerate(mp3tovecs)]\n",
        "    for end in ids[1:]:\n",
        "        end_vec = [mp3tovec[end] for k, mp3tovec in enumerate(mp3tovecs)]\n",
        "        playlist.append(start)\n",
        "        add_track_to_playlist(sp, username, playlist_id, playlist[-1], replace and len(playlist) == 1)\n",
        "        display(HTML(f'<iframe src=\"https://open.spotify.com/embed/track/{playlist[-1]}\" \\\n",
        "                     width=\"100%\" height=\"80\" frameborder=\"0\" allowtransparency=\"true\" \\\n",
        "                     allow=\"encrypted-media\"></iframe>'))\n",
        "        for i in range(n):\n",
        "            similar = most_similar_by_vec(mp3tovecs, weights,\n",
        "                                          [[(n-i+1)/n * start_vec[k] +\n",
        "                                            (i+1)/n * end_vec[k]]\n",
        "                                           for k in range(len(mp3tovecs))],\n",
        "                                          topn=max_tries, noise=noise)\n",
        "            candidates = [candidate for candidate in similar\n",
        "                          if candidate[0] != playlist[-1]]\n",
        "            for candidate in candidates:\n",
        "                if not candidate[0] in playlist and candidate[0] != end:\n",
        "                    break\n",
        "            playlist.append(candidate[0])\n",
        "#            print(candidate[1])\n",
        "            add_track_to_playlist(sp, username, playlist_id, playlist[-1])\n",
        "            display(HTML(f'<iframe src=\"https://open.spotify.com/embed/track/{playlist[-1]}\" \\\n",
        "                         width=\"100%\" height=\"80\" frameborder=\"0\" allowtransparency=\"true\" \\\n",
        "                         allow=\"encrypted-media\"></iframe>'))\n",
        "        start = end\n",
        "        start_vec = end_vec\n",
        "    playlist.append(end)\n",
        "    add_track_to_playlist(sp, username, playlist_id, playlist[-1])\n",
        "    display(HTML(f'<iframe src=\"https://open.spotify.com/embed/track/{playlist[-1]}\" \\\n",
        "                 width=\"100%\" height=\"80\" frameborder=\"0\" allowtransparency=\"true\" \\\n",
        "                 allow=\"encrypted-media\"></iframe>'))\n",
        "    return playlist\n",
        "\n",
        "def spotify():\n",
        "    sp = playlist_id = None\n",
        "    if username !='' and playlist_name != '':\n",
        "        if client_id == '':\n",
        "            display(HTML('Get your Spotify Credentials <a href=\"https://developer.spotify.com\\\n",
        "                         /dashboard/applications\">here</a> and fill in the form...'))\n",
        "            display(HTML('...or simply leave the username empty'))\n",
        "            return None\n",
        "        token = util.prompt_for_user_token(username, scope, client_id, client_secret, redirect_uri)\n",
        "        if token is not None:\n",
        "            sp = spotipy.Spotify(token)\n",
        "            if sp is not None:\n",
        "                playlists = sp.user_playlists(username)\n",
        "                if playlists is not None:\n",
        "                    playlist_ids = [playlist['id'] for playlist in playlists['items'] \\\n",
        "                                    if playlist['name'] == playlist_name]\n",
        "                    if len(playlist_ids) > 0:\n",
        "                        playlist_id = playlist_ids[0]\n",
        "        if playlist_id is None:\n",
        "            print(f'Unable to access playlist {playlist_name} for user {username}')\n",
        "        else:\n",
        "            print(f'Creating playlist {playlist_name} for user {username}')\n",
        "    mp3tovecs = pickle.load(open('spotifytovec.p', 'rb'))\n",
        "    tracktovecs = pickle.load(open('tracktovec.p', 'rb'))\n",
        "    tracks = pickle.load(open('spotify_tracks.p', 'rb'))\n",
        "    print(f'Loaded data for {len(mp3tovecs)} Spotify tracks')\n",
        "    user_input = input('Search keywords: ')\n",
        "    input_tracks = []\n",
        "    while True:\n",
        "        if user_input == '':\n",
        "            break\n",
        "        ids = sorted([track for track in mp3tovecs\n",
        "                      if all(word in tracks[track].lower()\n",
        "                             for word in user_input.lower().split())],\n",
        "                     key = lambda x: tracks[x])\n",
        "        for i, id in enumerate(ids):\n",
        "            print(f'{i+1}. {tracks[id]}')\n",
        "        while True:\n",
        "            user_input = input('Input track number, ENTER to finish, or search keywords: ')\n",
        "            if user_input == '':\n",
        "                break\n",
        "            if user_input.isdigit() and len(ids) > 0:\n",
        "                if int(user_input)-1 >= len(ids):\n",
        "                    continue\n",
        "                id = ids[int(user_input)-1]\n",
        "                input_tracks.append(id)\n",
        "                print(f'Added {tracks[id]} to playlist')\n",
        "            else:\n",
        "                break\n",
        "    if len(input_tracks) == 0:\n",
        "        ids = [track for track in tracks]\n",
        "        input_tracks.append(ids[random.randint(0, len(tracks))])\n",
        "    if len(input_tracks) > 1:\n",
        "        display(HTML('<h2>Joining the dots</h2>'))\n",
        "        playlist = join_the_dots(sp, username, playlist_id, [mp3tovecs, tracktovecs], \\\n",
        "                                 [creativity, 1-creativity], input_tracks, n=size, \\\n",
        "                                 noise=noise, replace=replace)\n",
        "    else:\n",
        "        display(HTML('<h2>Playlist</h2>'))\n",
        "        playlist = make_playlist(sp, username, playlist_id, [mp3tovecs, tracktovecs], \\\n",
        "                                 [creativity, 1-creativity], input_tracks, size=size, \\\n",
        "                                 lookback=lookback, noise=noise, replace=replace)\n",
        "    return playlist\n",
        "       \n",
        "if __name__ == \"__main__\":\n",
        "    download_file_from_google_drive('1Mg924qqF3iDgVW5w34m6Zaki5fNBdfSy', 'spotifytovec.p')\n",
        "    download_file_from_google_drive('1geEALPQTRBNUvkpI08B-oN4vsIiDTb5I', 'tracktovec.p')\n",
        "    download_file_from_google_drive('1Qre4Lkym1n5UTpAveNl5ffxlaAmH1ntS', 'spotify_tracks.p')\n",
        "    track_details = spotify()"
      ],
      "execution_count": 1,
      "outputs": [
        {
          "output_type": "stream",
          "text": [
            "Loaded data for 320949 Spotify tracks\n",
            "Search keywords: mulatu tezeta\n",
            "1. Mulatu Astatke - Tezeta\n",
            "2. Mulatu Astatke - Tezeta (Nostalgia)\n",
            "3. Mulatu Astatke - Yègellé Tezeta\n",
            "4. Mulatu Astatke - Yègellé Tezeta (My Own Memory)\n",
            "Input track number, ENTER to finish, or search keywords: 3\n",
            "Added Mulatu Astatke - Yègellé Tezeta to playlist\n",
            "Input track number, ENTER to finish, or search keywords: azymuth manh\n",
            "1. Azymuth - Manhã\n",
            "Input track number, ENTER to finish, or search keywords: 1\n",
            "Added Azymuth - Manhã to playlist\n",
            "Input track number, ENTER to finish, or search keywords: \n"
          ],
          "name": "stdout"
        },
        {
          "output_type": "display_data",
          "data": {
            "text/html": [
              "<h2>Joining the dots</h2>"
            ],
            "text/plain": [
              "<IPython.core.display.HTML object>"
            ]
          },
          "metadata": {
            "tags": []
          }
        },
        {
          "output_type": "display_data",
          "data": {
            "text/html": [
              "<iframe src=\"https://open.spotify.com/embed/track/7k3YrlUP1DxGe802jjuT1L\"                      width=\"100%\" height=\"80\" frameborder=\"0\" allowtransparency=\"true\"                      allow=\"encrypted-media\"></iframe>"
            ],
            "text/plain": [
              "<IPython.core.display.HTML object>"
            ]
          },
          "metadata": {
            "tags": []
          }
        },
        {
          "output_type": "display_data",
          "data": {
            "text/html": [
              "<iframe src=\"https://open.spotify.com/embed/track/6X0ufegIaeHxuShNKKmIGQ\"                          width=\"100%\" height=\"80\" frameborder=\"0\" allowtransparency=\"true\"                          allow=\"encrypted-media\"></iframe>"
            ],
            "text/plain": [
              "<IPython.core.display.HTML object>"
            ]
          },
          "metadata": {
            "tags": []
          }
        },
        {
          "output_type": "display_data",
          "data": {
            "text/html": [
              "<iframe src=\"https://open.spotify.com/embed/track/1LclSylnnHUKdrCZjS0V6M\"                          width=\"100%\" height=\"80\" frameborder=\"0\" allowtransparency=\"true\"                          allow=\"encrypted-media\"></iframe>"
            ],
            "text/plain": [
              "<IPython.core.display.HTML object>"
            ]
          },
          "metadata": {
            "tags": []
          }
        },
        {
          "output_type": "display_data",
          "data": {
            "text/html": [
              "<iframe src=\"https://open.spotify.com/embed/track/60ov4QzUd0q3RjnWWdQgDM\"                          width=\"100%\" height=\"80\" frameborder=\"0\" allowtransparency=\"true\"                          allow=\"encrypted-media\"></iframe>"
            ],
            "text/plain": [
              "<IPython.core.display.HTML object>"
            ]
          },
          "metadata": {
            "tags": []
          }
        },
        {
          "output_type": "display_data",
          "data": {
            "text/html": [
              "<iframe src=\"https://open.spotify.com/embed/track/3YQacpdl0a7j1KbKDEUcYh\"                          width=\"100%\" height=\"80\" frameborder=\"0\" allowtransparency=\"true\"                          allow=\"encrypted-media\"></iframe>"
            ],
            "text/plain": [
              "<IPython.core.display.HTML object>"
            ]
          },
          "metadata": {
            "tags": []
          }
        },
        {
          "output_type": "display_data",
          "data": {
            "text/html": [
              "<iframe src=\"https://open.spotify.com/embed/track/5emiKGH6hdKGP7RhwPi9EV\"                          width=\"100%\" height=\"80\" frameborder=\"0\" allowtransparency=\"true\"                          allow=\"encrypted-media\"></iframe>"
            ],
            "text/plain": [
              "<IPython.core.display.HTML object>"
            ]
          },
          "metadata": {
            "tags": []
          }
        },
        {
          "output_type": "display_data",
          "data": {
            "text/html": [
              "<iframe src=\"https://open.spotify.com/embed/track/6nIL8r8k59ulmQWaEwwqwb\"                          width=\"100%\" height=\"80\" frameborder=\"0\" allowtransparency=\"true\"                          allow=\"encrypted-media\"></iframe>"
            ],
            "text/plain": [
              "<IPython.core.display.HTML object>"
            ]
          },
          "metadata": {
            "tags": []
          }
        },
        {
          "output_type": "display_data",
          "data": {
            "text/html": [
              "<iframe src=\"https://open.spotify.com/embed/track/6phBZrGz8O3i5rzol5TYmz\"                          width=\"100%\" height=\"80\" frameborder=\"0\" allowtransparency=\"true\"                          allow=\"encrypted-media\"></iframe>"
            ],
            "text/plain": [
              "<IPython.core.display.HTML object>"
            ]
          },
          "metadata": {
            "tags": []
          }
        },
        {
          "output_type": "display_data",
          "data": {
            "text/html": [
              "<iframe src=\"https://open.spotify.com/embed/track/2yM6bVAkaJP5YzTBlAgUbK\"                          width=\"100%\" height=\"80\" frameborder=\"0\" allowtransparency=\"true\"                          allow=\"encrypted-media\"></iframe>"
            ],
            "text/plain": [
              "<IPython.core.display.HTML object>"
            ]
          },
          "metadata": {
            "tags": []
          }
        },
        {
          "output_type": "display_data",
          "data": {
            "text/html": [
              "<iframe src=\"https://open.spotify.com/embed/track/1XIoI5Pqj7SYL0xPPC0zNZ\"                          width=\"100%\" height=\"80\" frameborder=\"0\" allowtransparency=\"true\"                          allow=\"encrypted-media\"></iframe>"
            ],
            "text/plain": [
              "<IPython.core.display.HTML object>"
            ]
          },
          "metadata": {
            "tags": []
          }
        },
        {
          "output_type": "display_data",
          "data": {
            "text/html": [
              "<iframe src=\"https://open.spotify.com/embed/track/2LxAoXsqsN2di6TOQq1dG7\"                          width=\"100%\" height=\"80\" frameborder=\"0\" allowtransparency=\"true\"                          allow=\"encrypted-media\"></iframe>"
            ],
            "text/plain": [
              "<IPython.core.display.HTML object>"
            ]
          },
          "metadata": {
            "tags": []
          }
        },
        {
          "output_type": "display_data",
          "data": {
            "text/html": [
              "<iframe src=\"https://open.spotify.com/embed/track/5NUAscEeJlMkAsIAhHAuZ7\"                          width=\"100%\" height=\"80\" frameborder=\"0\" allowtransparency=\"true\"                          allow=\"encrypted-media\"></iframe>"
            ],
            "text/plain": [
              "<IPython.core.display.HTML object>"
            ]
          },
          "metadata": {
            "tags": []
          }
        },
        {
          "output_type": "display_data",
          "data": {
            "text/html": [
              "<iframe src=\"https://open.spotify.com/embed/track/49ib2aR6sI5vzTBfSRR8yd\"                          width=\"100%\" height=\"80\" frameborder=\"0\" allowtransparency=\"true\"                          allow=\"encrypted-media\"></iframe>"
            ],
            "text/plain": [
              "<IPython.core.display.HTML object>"
            ]
          },
          "metadata": {
            "tags": []
          }
        },
        {
          "output_type": "display_data",
          "data": {
            "text/html": [
              "<iframe src=\"https://open.spotify.com/embed/track/67OOgbV2tnbkMjWSgIrWMx\"                          width=\"100%\" height=\"80\" frameborder=\"0\" allowtransparency=\"true\"                          allow=\"encrypted-media\"></iframe>"
            ],
            "text/plain": [
              "<IPython.core.display.HTML object>"
            ]
          },
          "metadata": {
            "tags": []
          }
        },
        {
          "output_type": "display_data",
          "data": {
            "text/html": [
              "<iframe src=\"https://open.spotify.com/embed/track/2NkfWxS8hB3tMwle8LZbBx\"                          width=\"100%\" height=\"80\" frameborder=\"0\" allowtransparency=\"true\"                          allow=\"encrypted-media\"></iframe>"
            ],
            "text/plain": [
              "<IPython.core.display.HTML object>"
            ]
          },
          "metadata": {
            "tags": []
          }
        },
        {
          "output_type": "display_data",
          "data": {
            "text/html": [
              "<iframe src=\"https://open.spotify.com/embed/track/0vnms8M4jYsDlA5MT8GcCV\"                          width=\"100%\" height=\"80\" frameborder=\"0\" allowtransparency=\"true\"                          allow=\"encrypted-media\"></iframe>"
            ],
            "text/plain": [
              "<IPython.core.display.HTML object>"
            ]
          },
          "metadata": {
            "tags": []
          }
        },
        {
          "output_type": "display_data",
          "data": {
            "text/html": [
              "<iframe src=\"https://open.spotify.com/embed/track/4NkG8mhEPiyezk8AOpPRbI\"                          width=\"100%\" height=\"80\" frameborder=\"0\" allowtransparency=\"true\"                          allow=\"encrypted-media\"></iframe>"
            ],
            "text/plain": [
              "<IPython.core.display.HTML object>"
            ]
          },
          "metadata": {
            "tags": []
          }
        },
        {
          "output_type": "display_data",
          "data": {
            "text/html": [
              "<iframe src=\"https://open.spotify.com/embed/track/3rZrK0m6FsVwNBS0SFpivX\"                          width=\"100%\" height=\"80\" frameborder=\"0\" allowtransparency=\"true\"                          allow=\"encrypted-media\"></iframe>"
            ],
            "text/plain": [
              "<IPython.core.display.HTML object>"
            ]
          },
          "metadata": {
            "tags": []
          }
        },
        {
          "output_type": "display_data",
          "data": {
            "text/html": [
              "<iframe src=\"https://open.spotify.com/embed/track/4dTlGVK82bCFwHqPd9cjQj\"                          width=\"100%\" height=\"80\" frameborder=\"0\" allowtransparency=\"true\"                          allow=\"encrypted-media\"></iframe>"
            ],
            "text/plain": [
              "<IPython.core.display.HTML object>"
            ]
          },
          "metadata": {
            "tags": []
          }
        },
        {
          "output_type": "display_data",
          "data": {
            "text/html": [
              "<iframe src=\"https://open.spotify.com/embed/track/2DIqPQY9scuv8IeJA1Ouep\"                          width=\"100%\" height=\"80\" frameborder=\"0\" allowtransparency=\"true\"                          allow=\"encrypted-media\"></iframe>"
            ],
            "text/plain": [
              "<IPython.core.display.HTML object>"
            ]
          },
          "metadata": {
            "tags": []
          }
        },
        {
          "output_type": "display_data",
          "data": {
            "text/html": [
              "<iframe src=\"https://open.spotify.com/embed/track/3bGVC25HcISA1ApJwux1LF\"                          width=\"100%\" height=\"80\" frameborder=\"0\" allowtransparency=\"true\"                          allow=\"encrypted-media\"></iframe>"
            ],
            "text/plain": [
              "<IPython.core.display.HTML object>"
            ]
          },
          "metadata": {
            "tags": []
          }
        },
        {
          "output_type": "display_data",
          "data": {
            "text/html": [
              "<iframe src=\"https://open.spotify.com/embed/track/6Pr8fOfppj8C6qpkAYDDzE\"                  width=\"100%\" height=\"80\" frameborder=\"0\" allowtransparency=\"true\"                  allow=\"encrypted-media\"></iframe>"
            ],
            "text/plain": [
              "<IPython.core.display.HTML object>"
            ]
          },
          "metadata": {
            "tags": []
          }
        }
      ]
    },
    {
      "cell_type": "markdown",
      "metadata": {
        "id": "_cpg_wGyhDlU",
        "colab_type": "text"
      },
      "source": [
        "### Some tips...\n",
        "If you choose more than one track, it will create a playlist which \"joins the dots\" between the tracks you select by smoothly moving from one to another. This helps give the playlist direction. If you only specify one track, it will generate each new track in the playlist based on the previous 3. You can control this number with the *lookback* parameter. The playlists are intended to be played in the order in which they are created.\n",
        "\n",
        "The *creativity* parameter controls the mix of considering songs that tend to appear close to each other in a playlist and songs that sound similar. A value of 0 will tend to pick out similar artists, while a value of 1 will likely choose songs with a similar mood, energy, rhythm or instrumentation. A good setting is usually around 0.5. For very popular artists, you may find you have to jack up the creativity parameter if you want to get off the beaten track. On the other hand, for less distinctive types of music, you may need to reduce the creativity parameter.\n",
        "\n",
        "Finally, you can add a sprinkling of randomness to the mix by tweaking the *noise* parameter.\n",
        "\n",
        "### What about creating automatic playlists with my own music collection?\n",
        "You can and more! Check out the complete project [here](https://github.com/teticio/Deej-A.I.)."
      ]
    }
  ]
}